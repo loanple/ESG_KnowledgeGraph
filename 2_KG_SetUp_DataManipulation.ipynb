{
 "cells": [
  {
   "cell_type": "markdown",
   "metadata": {},
   "source": [
    "## Table of Contents\n",
    "* [Section A: Libraries list](#Section_1)\n",
    "* [Section B: Main Dataframe](#Section_2)\n",
    "* [Section C: Filter Dataframe](#Section_3)\n",
    "    * [Non Node Filters](#Section_31)\n",
    "    * [Node Filters](#Section_32)\n",
    "    * [Numeric Filters](#Section_33)\n",
    "* [Section D: Subset Dataframe](#Section_4)\n",
    "* [Section E: KG Set Up](#Section_5) \n",
    "    * [Creating Unique Lists](#Section_51)\n",
    "    * [Coloring nodes based on no. of connections](#Section_52)"
   ]
  },
  {
   "cell_type": "markdown",
   "metadata": {},
   "source": [
    "## Libraries <a class=\"anchor\" id=\"Section_1\"></a>"
   ]
  },
  {
   "cell_type": "code",
   "execution_count": 1,
   "metadata": {},
   "outputs": [],
   "source": [
    "#Importing Libraries\n",
    "import glob\n",
    "import numpy as np \n",
    "import pandas as pd \n",
    "import matplotlib.pyplot as plt \n",
    "%matplotlib inline\n",
    "import seaborn as sns\n",
    "import warnings; \n",
    "from sklearn.preprocessing import LabelEncoder\n",
    "import missingno as msno\n",
    "import networkx as nx\n",
    "from plotly.offline import download_plotlyjs, init_notebook_mode, iplot\n",
    "import plotly.graph_objs as go\n",
    "from plotly.validators.scatter.marker import SymbolValidator\n",
    "import matplotlib.pyplot as plt \n",
    "%matplotlib inline\n",
    "import seaborn as sns\n",
    "\n",
    "\n",
    "import plotly"
   ]
  },
  {
   "cell_type": "markdown",
   "metadata": {},
   "source": [
    "## Main Dataframe <a class=\"anchor\" id=\"Section_2\"></a>"
   ]
  },
  {
   "cell_type": "markdown",
   "metadata": {},
   "source": [
    "### Accern dataset"
   ]
  },
  {
   "cell_type": "code",
   "execution_count": 2,
   "metadata": {},
   "outputs": [],
   "source": [
    "#Full dataset\n",
    "data_file = 'columbia_capstone_fall2020_esg.csv'\n",
    "data = pd.read_csv(data_file, parse_dates = ['crawled_at','harvested_at','published_at'])"
   ]
  },
  {
   "cell_type": "code",
   "execution_count": 3,
   "metadata": {
    "scrolled": false
   },
   "outputs": [],
   "source": [
    "#Key variables needed in dataset\n",
    "data = data[['published_at','entity_name','entity_region','entity_sector','entity_ticker','event_group','event','doc_id','doc_title','doc_source','doc_type','entity_country','entity_relevance','entity_sentiment','event_relevance','doc_sentiment','event_sentiment','signal_id','signal_relevance','signal_sentiment']]"
   ]
  },
  {
   "cell_type": "code",
   "execution_count": 4,
   "metadata": {},
   "outputs": [],
   "source": [
    "data = data.fillna(\"None\")"
   ]
  },
  {
   "cell_type": "code",
   "execution_count": 5,
   "metadata": {},
   "outputs": [
    {
     "name": "stdout",
     "output_type": "stream",
     "text": [
      "<class 'pandas.core.frame.DataFrame'>\n",
      "RangeIndex: 554606 entries, 0 to 554605\n",
      "Data columns (total 20 columns):\n",
      " #   Column            Non-Null Count   Dtype         \n",
      "---  ------            --------------   -----         \n",
      " 0   published_at      554606 non-null  datetime64[ns]\n",
      " 1   entity_name       554606 non-null  object        \n",
      " 2   entity_region     554606 non-null  object        \n",
      " 3   entity_sector     554606 non-null  object        \n",
      " 4   entity_ticker     554606 non-null  object        \n",
      " 5   event_group       554606 non-null  object        \n",
      " 6   event             554606 non-null  object        \n",
      " 7   doc_id            554606 non-null  object        \n",
      " 8   doc_title         554606 non-null  object        \n",
      " 9   doc_source        554606 non-null  object        \n",
      " 10  doc_type          554606 non-null  object        \n",
      " 11  entity_country    554606 non-null  object        \n",
      " 12  entity_relevance  554606 non-null  float64       \n",
      " 13  entity_sentiment  554606 non-null  float64       \n",
      " 14  event_relevance   554606 non-null  float64       \n",
      " 15  doc_sentiment     554606 non-null  float64       \n",
      " 16  event_sentiment   554606 non-null  float64       \n",
      " 17  signal_id         554606 non-null  object        \n",
      " 18  signal_relevance  554606 non-null  float64       \n",
      " 19  signal_sentiment  554606 non-null  float64       \n",
      "dtypes: datetime64[ns](1), float64(7), object(12)\n",
      "memory usage: 84.6+ MB\n"
     ]
    }
   ],
   "source": [
    "data['published_at'] = data['published_at'].dt.date\n",
    "data['published_at'] =  pd.to_datetime(data['published_at'], format='%Y-%m-%d')\n",
    "data.info()"
   ]
  },
  {
   "cell_type": "code",
   "execution_count": 6,
   "metadata": {},
   "outputs": [
    {
     "data": {
      "text/plain": [
       "published_at           292\n",
       "entity_name           7090\n",
       "entity_region            8\n",
       "entity_sector           20\n",
       "entity_ticker         6835\n",
       "event_group              3\n",
       "event                   23\n",
       "doc_id              391180\n",
       "doc_title           261420\n",
       "doc_source           31490\n",
       "doc_type                 2\n",
       "entity_country          57\n",
       "entity_relevance      7431\n",
       "entity_sentiment     59443\n",
       "event_relevance       1113\n",
       "doc_sentiment       182314\n",
       "event_sentiment      38702\n",
       "signal_id           554606\n",
       "signal_relevance     19381\n",
       "signal_sentiment    138004\n",
       "dtype: int64"
      ]
     },
     "execution_count": 6,
     "metadata": {},
     "output_type": "execute_result"
    }
   ],
   "source": [
    "data.nunique()"
   ]
  },
  {
   "cell_type": "markdown",
   "metadata": {},
   "source": [
    "## Filter Dataframe<a class=\"anchor\" id=\"Section_3\"></a>"
   ]
  },
  {
   "cell_type": "markdown",
   "metadata": {},
   "source": [
    "#### Non-Node filters<a class=\"anchor\" id=\"Section_31\"></a>"
   ]
  },
  {
   "cell_type": "code",
   "execution_count": 7,
   "metadata": {},
   "outputs": [],
   "source": [
    "eg_list = data['event_group'] #['Social','Environment']\n",
    "region_list = data['entity_region'] #['Americas','Europe'] \n",
    "country_list = data['entity_country'] #['','']\n",
    "doctype_list = data['doc_type'] #['news'] \n",
    "source_list = data['doc_source'] #doc_source\n",
    "#published_at\n",
    "p_startdate = '2020-01-01' #data['published_at'].min()\n",
    "p_enddate = data['published_at'].max() #'2020-01-04'"
   ]
  },
  {
   "cell_type": "markdown",
   "metadata": {},
   "source": [
    "#### Node filters<a class=\"anchor\" id=\"Section_32\"></a>"
   ]
  },
  {
   "cell_type": "code",
   "execution_count": 8,
   "metadata": {},
   "outputs": [],
   "source": [
    "#OR LISTS (e.g. amazon or apple / data security or water waste)\n",
    "entity_list = data['entity_name'] #['BOMBARDIER INC-A','Apple Inc']\n",
    "event_list = data['event'] #['Environment - Water Waste Management - SASB','Environment - Energy Management - SASB']\n",
    "sector_list = data['entity_sector'] #['','']\n",
    "doc_list = data['doc_title'] #['']"
   ]
  },
  {
   "cell_type": "code",
   "execution_count": 9,
   "metadata": {
    "scrolled": true
   },
   "outputs": [],
   "source": [
    "#AND FILTERS (e.g. these events AND these sectors, etc)\n",
    "data_filter = data[(data['event_group'].isin(eg_list)) &\\\n",
    "                   (data['entity_region'].isin(region_list)) &\\\n",
    "                  (data['entity_country'].isin(country_list)) &\\\n",
    "                  (data['doc_type'].isin(doctype_list)) &\\\n",
    "                  (data['doc_source'].isin(source_list)) &\\\n",
    "                  (data['published_at'] >= p_startdate) & (data['published_at'] <= p_enddate) &\\\n",
    "                      #node filters\n",
    "                   (data['event'].isin(event_list)) &\\\n",
    "                  (data['entity_sector'].isin(sector_list)) &\\\n",
    "                   (data['entity_name'].isin(entity_list)) &\\\n",
    "                   (data['doc_title'].isin(doc_list))] "
   ]
  },
  {
   "cell_type": "code",
   "execution_count": 10,
   "metadata": {},
   "outputs": [],
   "source": [
    "a = data.groupby('entity_name')['doc_id'].count().reset_index(name = 'doc_count')"
   ]
  },
  {
   "cell_type": "code",
   "execution_count": 11,
   "metadata": {},
   "outputs": [
    {
     "data": {
      "text/html": [
       "<div>\n",
       "<style scoped>\n",
       "    .dataframe tbody tr th:only-of-type {\n",
       "        vertical-align: middle;\n",
       "    }\n",
       "\n",
       "    .dataframe tbody tr th {\n",
       "        vertical-align: top;\n",
       "    }\n",
       "\n",
       "    .dataframe thead th {\n",
       "        text-align: right;\n",
       "    }\n",
       "</style>\n",
       "<table border=\"1\" class=\"dataframe\">\n",
       "  <thead>\n",
       "    <tr style=\"text-align: right;\">\n",
       "      <th></th>\n",
       "      <th>entity_name</th>\n",
       "      <th>doc_count</th>\n",
       "    </tr>\n",
       "  </thead>\n",
       "  <tbody>\n",
       "    <tr>\n",
       "      <th>0</th>\n",
       "      <td>01 COMMUNIQUE LABORATORY INC</td>\n",
       "      <td>42</td>\n",
       "    </tr>\n",
       "    <tr>\n",
       "      <th>1</th>\n",
       "      <td>21ST CENTURY TECHNOLOGY PLC</td>\n",
       "      <td>2</td>\n",
       "    </tr>\n",
       "    <tr>\n",
       "      <th>2</th>\n",
       "      <td>22nd Century Group Inc</td>\n",
       "      <td>46</td>\n",
       "    </tr>\n",
       "    <tr>\n",
       "      <th>3</th>\n",
       "      <td>2U INC</td>\n",
       "      <td>2</td>\n",
       "    </tr>\n",
       "    <tr>\n",
       "      <th>4</th>\n",
       "      <td>2VALORISE NV</td>\n",
       "      <td>2</td>\n",
       "    </tr>\n",
       "    <tr>\n",
       "      <th>...</th>\n",
       "      <td>...</td>\n",
       "      <td>...</td>\n",
       "    </tr>\n",
       "    <tr>\n",
       "      <th>7085</th>\n",
       "      <td>ZURICH INSURANCE GROUP AG</td>\n",
       "      <td>50</td>\n",
       "    </tr>\n",
       "    <tr>\n",
       "      <th>7086</th>\n",
       "      <td>ZYMEWORKS INC</td>\n",
       "      <td>4</td>\n",
       "    </tr>\n",
       "    <tr>\n",
       "      <th>7087</th>\n",
       "      <td>Zhuzhou CRRC Times Electric Co Ltd H</td>\n",
       "      <td>4</td>\n",
       "    </tr>\n",
       "    <tr>\n",
       "      <th>7088</th>\n",
       "      <td>argenx SE</td>\n",
       "      <td>45</td>\n",
       "    </tr>\n",
       "    <tr>\n",
       "      <th>7089</th>\n",
       "      <td>iRobot Corporation</td>\n",
       "      <td>3</td>\n",
       "    </tr>\n",
       "  </tbody>\n",
       "</table>\n",
       "<p>7090 rows × 2 columns</p>\n",
       "</div>"
      ],
      "text/plain": [
       "                               entity_name  doc_count\n",
       "0             01 COMMUNIQUE LABORATORY INC         42\n",
       "1              21ST CENTURY TECHNOLOGY PLC          2\n",
       "2                   22nd Century Group Inc         46\n",
       "3                                   2U INC          2\n",
       "4                             2VALORISE NV          2\n",
       "...                                    ...        ...\n",
       "7085             ZURICH INSURANCE GROUP AG         50\n",
       "7086                         ZYMEWORKS INC          4\n",
       "7087  Zhuzhou CRRC Times Electric Co Ltd H          4\n",
       "7088                             argenx SE         45\n",
       "7089                    iRobot Corporation          3\n",
       "\n",
       "[7090 rows x 2 columns]"
      ]
     },
     "execution_count": 11,
     "metadata": {},
     "output_type": "execute_result"
    }
   ],
   "source": [
    "a"
   ]
  },
  {
   "cell_type": "code",
   "execution_count": 12,
   "metadata": {},
   "outputs": [
    {
     "name": "stderr",
     "output_type": "stream",
     "text": [
      "/Users/shashank/opt/anaconda3/envs/Anomaly/lib/python3.7/site-packages/seaborn/_decorators.py:43: FutureWarning:\n",
      "\n",
      "Pass the following variable as a keyword arg: x. From version 0.12, the only valid positional argument will be `data`, and passing other arguments without an explicit keyword will result in an error or misinterpretation.\n",
      "\n"
     ]
    },
    {
     "data": {
      "text/plain": [
       "<AxesSubplot:xlabel='doc_count'>"
      ]
     },
     "execution_count": 12,
     "metadata": {},
     "output_type": "execute_result"
    },
    {
     "data": {
      "image/png": "[encoded data removed]",
      "text/plain": [
       "<Figure size 432x288 with 1 Axes>"
      ]
     },
     "metadata": {
      "needs_background": "light"
     },
     "output_type": "display_data"
    }
   ],
   "source": [
    "sns.boxplot(a['doc_count'])"
   ]
  },
  {
   "cell_type": "markdown",
   "metadata": {},
   "source": [
    "## Subset dataframe<a class=\"anchor\" id=\"Section_4\"></a>"
   ]
  },
  {
   "cell_type": "markdown",
   "metadata": {},
   "source": [
    "#subsetting for finding documents with multiple counts\n",
    "doc_count = data[\"doc_id\"].value_counts()\n",
    "doc_list = doc_count[0:2]\n",
    "doc_list"
   ]
  },
  {
   "cell_type": "markdown",
   "metadata": {},
   "source": [
    "temp_data = data[data[\"doc_id\"]==\"5ef9d911a656f21acc8e649a\"]\n",
    "temp_data = temp_data[:4]"
   ]
  },
  {
   "cell_type": "markdown",
   "metadata": {},
   "source": [
    "#Subsetting to data security events only\n",
    "ds_industrial = data[data[\"entity_sector\"]==\"Industrials\"]\n",
    "ds_industrial = ds_industrial[0:6]\n",
    "\n",
    "#Subsetting to technology industry that do not have data security as event\n",
    "ds_technology = data.loc[(data[\"entity_sector\"] == \"Technology\")]\n",
    "ds_technology = ds_technology[3:8]"
   ]
  },
  {
   "cell_type": "markdown",
   "metadata": {},
   "source": [
    "#Combining above subsets\n",
    "temp_data = pd.concat([ds_industrial, ds_technology])"
   ]
  },
  {
   "cell_type": "markdown",
   "metadata": {},
   "source": [
    "temp_data = data[data[\"entity_name\"] == 'AIR FRANCE-KLM']\n",
    "temp_data"
   ]
  },
  {
   "cell_type": "code",
   "execution_count": 13,
   "metadata": {},
   "outputs": [
    {
     "data": {
      "text/html": [
       "<div>\n",
       "<style scoped>\n",
       "    .dataframe tbody tr th:only-of-type {\n",
       "        vertical-align: middle;\n",
       "    }\n",
       "\n",
       "    .dataframe tbody tr th {\n",
       "        vertical-align: top;\n",
       "    }\n",
       "\n",
       "    .dataframe thead th {\n",
       "        text-align: right;\n",
       "    }\n",
       "</style>\n",
       "<table border=\"1\" class=\"dataframe\">\n",
       "  <thead>\n",
       "    <tr style=\"text-align: right;\">\n",
       "      <th></th>\n",
       "      <th>published_at</th>\n",
       "      <th>entity_name</th>\n",
       "      <th>entity_region</th>\n",
       "      <th>entity_sector</th>\n",
       "      <th>entity_ticker</th>\n",
       "      <th>event_group</th>\n",
       "      <th>event</th>\n",
       "      <th>doc_id</th>\n",
       "      <th>doc_title</th>\n",
       "      <th>doc_source</th>\n",
       "      <th>doc_type</th>\n",
       "      <th>entity_country</th>\n",
       "      <th>entity_relevance</th>\n",
       "      <th>entity_sentiment</th>\n",
       "      <th>event_relevance</th>\n",
       "      <th>doc_sentiment</th>\n",
       "      <th>event_sentiment</th>\n",
       "      <th>signal_id</th>\n",
       "      <th>signal_relevance</th>\n",
       "      <th>signal_sentiment</th>\n",
       "    </tr>\n",
       "  </thead>\n",
       "  <tbody>\n",
       "    <tr>\n",
       "      <th>0</th>\n",
       "      <td>2020-01-01</td>\n",
       "      <td>INMED PHARMACEUTICALS INC</td>\n",
       "      <td>Americas</td>\n",
       "      <td>Healthcare</td>\n",
       "      <td>IN</td>\n",
       "      <td>Environment</td>\n",
       "      <td>Environment - Water Waste Management - SASB</td>\n",
       "      <td>5f4e439ebf509771e9824533</td>\n",
       "      <td>THE EFFECTS OF WASTEWATER TREATMENT PLANT EFFL...</td>\n",
       "      <td>https://macsphere.mcmaster.ca:443</td>\n",
       "      <td>blog</td>\n",
       "      <td>Canada</td>\n",
       "      <td>100.0000</td>\n",
       "      <td>-25.0000</td>\n",
       "      <td>100.0</td>\n",
       "      <td>1.2561</td>\n",
       "      <td>1.0417</td>\n",
       "      <td>7cfc584d-044d-4585-a154-2d552d4cda42</td>\n",
       "      <td>50.000</td>\n",
       "      <td>-11.9791</td>\n",
       "    </tr>\n",
       "    <tr>\n",
       "      <th>1</th>\n",
       "      <td>2020-01-01</td>\n",
       "      <td>Adani Green Energy Ltd</td>\n",
       "      <td>Asia</td>\n",
       "      <td>Utilities</td>\n",
       "      <td>ADANIGR</td>\n",
       "      <td>Environment</td>\n",
       "      <td>Environment - Energy Management - SASB</td>\n",
       "      <td>5e0c21924ed9470001e18c26</td>\n",
       "      <td>Adani Green jumps 5% on commissioning of new p...</td>\n",
       "      <td>ACCERN: moneycontrol.com</td>\n",
       "      <td>news</td>\n",
       "      <td>India</td>\n",
       "      <td>100.0000</td>\n",
       "      <td>14.0625</td>\n",
       "      <td>90.0</td>\n",
       "      <td>11.8923</td>\n",
       "      <td>9.7222</td>\n",
       "      <td>53d7f8ec-dc85-4dee-9d69-24332280bb8d</td>\n",
       "      <td>47.500</td>\n",
       "      <td>11.8923</td>\n",
       "    </tr>\n",
       "    <tr>\n",
       "      <th>2</th>\n",
       "      <td>2020-01-01</td>\n",
       "      <td>BOMBARDIER INC-A</td>\n",
       "      <td>Americas</td>\n",
       "      <td>Industrials</td>\n",
       "      <td>BBD/A</td>\n",
       "      <td>Environment</td>\n",
       "      <td>Environment - Energy Management - SASB</td>\n",
       "      <td>5e0ca8884ed9470001e1eb00</td>\n",
       "      <td>Print - Bombardiers joint venture wins contrac...</td>\n",
       "      <td>ACCERN: globenewswire.com</td>\n",
       "      <td>news</td>\n",
       "      <td>Canada</td>\n",
       "      <td>37.5000</td>\n",
       "      <td>9.5325</td>\n",
       "      <td>90.0</td>\n",
       "      <td>22.3100</td>\n",
       "      <td>30.0347</td>\n",
       "      <td>90f6ebba-71a2-4d8a-8a5f-233a63ca9236</td>\n",
       "      <td>31.875</td>\n",
       "      <td>19.7836</td>\n",
       "    </tr>\n",
       "    <tr>\n",
       "      <th>3</th>\n",
       "      <td>2020-01-01</td>\n",
       "      <td>BOMBARDIER INC-A</td>\n",
       "      <td>Americas</td>\n",
       "      <td>Industrials</td>\n",
       "      <td>BBD/A</td>\n",
       "      <td>Environment</td>\n",
       "      <td>Environment - Energy Management - SASB</td>\n",
       "      <td>5e0ca7ef6a72090001b7e687</td>\n",
       "      <td>Bombardiers joint venture wins contract to bui...</td>\n",
       "      <td>ACCERN: globenewswire.com</td>\n",
       "      <td>news</td>\n",
       "      <td>Canada</td>\n",
       "      <td>22.5000</td>\n",
       "      <td>12.0915</td>\n",
       "      <td>90.0</td>\n",
       "      <td>25.0589</td>\n",
       "      <td>30.0347</td>\n",
       "      <td>584cb3f0-e440-4fc4-8488-0182d2ffcf3b</td>\n",
       "      <td>28.125</td>\n",
       "      <td>21.0631</td>\n",
       "    </tr>\n",
       "    <tr>\n",
       "      <th>4</th>\n",
       "      <td>2020-01-01</td>\n",
       "      <td>Procter &amp; Gamble Company</td>\n",
       "      <td>Asia</td>\n",
       "      <td>Consumer Non Cyclicals</td>\n",
       "      <td>PG</td>\n",
       "      <td>Environment</td>\n",
       "      <td>Environment - GHG Emissions - SASB</td>\n",
       "      <td>5f67573a041a0320d192aae0</td>\n",
       "      <td>Design and systems-level performance analysis ...</td>\n",
       "      <td>https://macsphere.mcmaster.ca:443</td>\n",
       "      <td>blog</td>\n",
       "      <td>India</td>\n",
       "      <td>30.0000</td>\n",
       "      <td>-55.5556</td>\n",
       "      <td>90.0</td>\n",
       "      <td>-7.6967</td>\n",
       "      <td>11.8056</td>\n",
       "      <td>08b16193-7b1c-45a4-887c-8eefa73d230c</td>\n",
       "      <td>30.000</td>\n",
       "      <td>-55.5556</td>\n",
       "    </tr>\n",
       "    <tr>\n",
       "      <th>5</th>\n",
       "      <td>2020-01-01</td>\n",
       "      <td>TEIJIN LTD</td>\n",
       "      <td>None</td>\n",
       "      <td>None</td>\n",
       "      <td>3401</td>\n",
       "      <td>Social</td>\n",
       "      <td>Social - Data Security - SASB</td>\n",
       "      <td>5e0ce6b70fbbf50001894788</td>\n",
       "      <td>Analysts Downgrades for January, 1st (SAUHF, S...</td>\n",
       "      <td>ACCERN: americanbankingnews.com</td>\n",
       "      <td>news</td>\n",
       "      <td>None</td>\n",
       "      <td>18.4821</td>\n",
       "      <td>7.1429</td>\n",
       "      <td>90.0</td>\n",
       "      <td>2.7400</td>\n",
       "      <td>12.1032</td>\n",
       "      <td>67017bd2-e233-4d33-a5a6-3262117a2e01</td>\n",
       "      <td>54.241</td>\n",
       "      <td>9.6230</td>\n",
       "    </tr>\n",
       "    <tr>\n",
       "      <th>6</th>\n",
       "      <td>2020-01-01</td>\n",
       "      <td>Alphabet Inc</td>\n",
       "      <td>Europe</td>\n",
       "      <td>Technology</td>\n",
       "      <td>GOOGL</td>\n",
       "      <td>Governance</td>\n",
       "      <td>Governance - Product Design &amp; Lifecycle Manage...</td>\n",
       "      <td>5e87b19d3f5416001d10019f</td>\n",
       "      <td>Google will finally stop using controversial I...</td>\n",
       "      <td>The Verge</td>\n",
       "      <td>news</td>\n",
       "      <td>United Kingdom</td>\n",
       "      <td>100.0000</td>\n",
       "      <td>12.2685</td>\n",
       "      <td>90.0</td>\n",
       "      <td>13.0787</td>\n",
       "      <td>13.8889</td>\n",
       "      <td>28df0bdd-b1c9-453a-973f-d4e73dfda5a2</td>\n",
       "      <td>95.000</td>\n",
       "      <td>13.0787</td>\n",
       "    </tr>\n",
       "    <tr>\n",
       "      <th>7</th>\n",
       "      <td>2020-01-01</td>\n",
       "      <td>Illumina Inc</td>\n",
       "      <td>Europe</td>\n",
       "      <td>Healthcare</td>\n",
       "      <td>ILMN</td>\n",
       "      <td>Environment</td>\n",
       "      <td>Environment - Energy Management - SASB</td>\n",
       "      <td>5e87b1d33f541600191018cb</td>\n",
       "      <td>Occurrence of Thermophilic Microorganisms in D...</td>\n",
       "      <td>mdpi.com</td>\n",
       "      <td>news</td>\n",
       "      <td>United Kingdom</td>\n",
       "      <td>52.5000</td>\n",
       "      <td>11.1111</td>\n",
       "      <td>90.0</td>\n",
       "      <td>9.0856</td>\n",
       "      <td>11.1111</td>\n",
       "      <td>122e7b5b-202b-4f0d-a1c8-aee50dcf0865</td>\n",
       "      <td>71.250</td>\n",
       "      <td>11.1111</td>\n",
       "    </tr>\n",
       "    <tr>\n",
       "      <th>8</th>\n",
       "      <td>2020-01-01</td>\n",
       "      <td>YAMAHA CORP</td>\n",
       "      <td>None</td>\n",
       "      <td>None</td>\n",
       "      <td>7951</td>\n",
       "      <td>Governance</td>\n",
       "      <td>Governance - Product Design &amp; Lifecycle Manage...</td>\n",
       "      <td>5e87b1c33f5416001d10106a</td>\n",
       "      <td>Monster Energy Star Yamaha Racing Announces 20...</td>\n",
       "      <td>Cycle News</td>\n",
       "      <td>news</td>\n",
       "      <td>None</td>\n",
       "      <td>100.0000</td>\n",
       "      <td>59.1611</td>\n",
       "      <td>100.0</td>\n",
       "      <td>60.2863</td>\n",
       "      <td>72.1302</td>\n",
       "      <td>79f74053-eef5-45d9-a9c4-77270b45c2a2</td>\n",
       "      <td>50.000</td>\n",
       "      <td>65.6456</td>\n",
       "    </tr>\n",
       "    <tr>\n",
       "      <th>9</th>\n",
       "      <td>2020-01-01</td>\n",
       "      <td>AGTHIA GROUP PJSC</td>\n",
       "      <td>Middle East</td>\n",
       "      <td>Consumer Staples</td>\n",
       "      <td>AGTHIA</td>\n",
       "      <td>Environment</td>\n",
       "      <td>Environment - Energy Management - SASB</td>\n",
       "      <td>5e87b1c33f5416001d10106a</td>\n",
       "      <td>Monster Energy Star Yamaha Racing Announces 20...</td>\n",
       "      <td>Cycle News</td>\n",
       "      <td>news</td>\n",
       "      <td>United Arab Emirates</td>\n",
       "      <td>100.0000</td>\n",
       "      <td>68.9931</td>\n",
       "      <td>100.0</td>\n",
       "      <td>60.2863</td>\n",
       "      <td>72.1302</td>\n",
       "      <td>6d7fec94-e908-4167-b7f6-7a4580c3064a</td>\n",
       "      <td>50.000</td>\n",
       "      <td>70.5616</td>\n",
       "    </tr>\n",
       "  </tbody>\n",
       "</table>\n",
       "</div>"
      ],
      "text/plain": [
       "  published_at                entity_name entity_region  \\\n",
       "0   2020-01-01  INMED PHARMACEUTICALS INC      Americas   \n",
       "1   2020-01-01     Adani Green Energy Ltd          Asia   \n",
       "2   2020-01-01           BOMBARDIER INC-A      Americas   \n",
       "3   2020-01-01           BOMBARDIER INC-A      Americas   \n",
       "4   2020-01-01   Procter & Gamble Company          Asia   \n",
       "5   2020-01-01                 TEIJIN LTD          None   \n",
       "6   2020-01-01               Alphabet Inc        Europe   \n",
       "7   2020-01-01               Illumina Inc        Europe   \n",
       "8   2020-01-01                YAMAHA CORP          None   \n",
       "9   2020-01-01          AGTHIA GROUP PJSC   Middle East   \n",
       "\n",
       "            entity_sector entity_ticker  event_group  \\\n",
       "0              Healthcare            IN  Environment   \n",
       "1               Utilities       ADANIGR  Environment   \n",
       "2             Industrials         BBD/A  Environment   \n",
       "3             Industrials         BBD/A  Environment   \n",
       "4  Consumer Non Cyclicals            PG  Environment   \n",
       "5                    None          3401       Social   \n",
       "6              Technology         GOOGL   Governance   \n",
       "7              Healthcare          ILMN  Environment   \n",
       "8                    None          7951   Governance   \n",
       "9        Consumer Staples        AGTHIA  Environment   \n",
       "\n",
       "                                               event  \\\n",
       "0        Environment - Water Waste Management - SASB   \n",
       "1             Environment - Energy Management - SASB   \n",
       "2             Environment - Energy Management - SASB   \n",
       "3             Environment - Energy Management - SASB   \n",
       "4                 Environment - GHG Emissions - SASB   \n",
       "5                      Social - Data Security - SASB   \n",
       "6  Governance - Product Design & Lifecycle Manage...   \n",
       "7             Environment - Energy Management - SASB   \n",
       "8  Governance - Product Design & Lifecycle Manage...   \n",
       "9             Environment - Energy Management - SASB   \n",
       "\n",
       "                     doc_id  \\\n",
       "0  5f4e439ebf509771e9824533   \n",
       "1  5e0c21924ed9470001e18c26   \n",
       "2  5e0ca8884ed9470001e1eb00   \n",
       "3  5e0ca7ef6a72090001b7e687   \n",
       "4  5f67573a041a0320d192aae0   \n",
       "5  5e0ce6b70fbbf50001894788   \n",
       "6  5e87b19d3f5416001d10019f   \n",
       "7  5e87b1d33f541600191018cb   \n",
       "8  5e87b1c33f5416001d10106a   \n",
       "9  5e87b1c33f5416001d10106a   \n",
       "\n",
       "                                           doc_title  \\\n",
       "0  THE EFFECTS OF WASTEWATER TREATMENT PLANT EFFL...   \n",
       "1  Adani Green jumps 5% on commissioning of new p...   \n",
       "2  Print - Bombardiers joint venture wins contrac...   \n",
       "3  Bombardiers joint venture wins contract to bui...   \n",
       "4  Design and systems-level performance analysis ...   \n",
       "5  Analysts Downgrades for January, 1st (SAUHF, S...   \n",
       "6  Google will finally stop using controversial I...   \n",
       "7  Occurrence of Thermophilic Microorganisms in D...   \n",
       "8  Monster Energy Star Yamaha Racing Announces 20...   \n",
       "9  Monster Energy Star Yamaha Racing Announces 20...   \n",
       "\n",
       "                          doc_source doc_type        entity_country  \\\n",
       "0  https://macsphere.mcmaster.ca:443     blog                Canada   \n",
       "1           ACCERN: moneycontrol.com     news                 India   \n",
       "2          ACCERN: globenewswire.com     news                Canada   \n",
       "3          ACCERN: globenewswire.com     news                Canada   \n",
       "4  https://macsphere.mcmaster.ca:443     blog                 India   \n",
       "5    ACCERN: americanbankingnews.com     news                  None   \n",
       "6                          The Verge     news        United Kingdom   \n",
       "7                           mdpi.com     news        United Kingdom   \n",
       "8                         Cycle News     news                  None   \n",
       "9                         Cycle News     news  United Arab Emirates   \n",
       "\n",
       "   entity_relevance  entity_sentiment  event_relevance  doc_sentiment  \\\n",
       "0          100.0000          -25.0000            100.0         1.2561   \n",
       "1          100.0000           14.0625             90.0        11.8923   \n",
       "2           37.5000            9.5325             90.0        22.3100   \n",
       "3           22.5000           12.0915             90.0        25.0589   \n",
       "4           30.0000          -55.5556             90.0        -7.6967   \n",
       "5           18.4821            7.1429             90.0         2.7400   \n",
       "6          100.0000           12.2685             90.0        13.0787   \n",
       "7           52.5000           11.1111             90.0         9.0856   \n",
       "8          100.0000           59.1611            100.0        60.2863   \n",
       "9          100.0000           68.9931            100.0        60.2863   \n",
       "\n",
       "   event_sentiment                             signal_id  signal_relevance  \\\n",
       "0           1.0417  7cfc584d-044d-4585-a154-2d552d4cda42            50.000   \n",
       "1           9.7222  53d7f8ec-dc85-4dee-9d69-24332280bb8d            47.500   \n",
       "2          30.0347  90f6ebba-71a2-4d8a-8a5f-233a63ca9236            31.875   \n",
       "3          30.0347  584cb3f0-e440-4fc4-8488-0182d2ffcf3b            28.125   \n",
       "4          11.8056  08b16193-7b1c-45a4-887c-8eefa73d230c            30.000   \n",
       "5          12.1032  67017bd2-e233-4d33-a5a6-3262117a2e01            54.241   \n",
       "6          13.8889  28df0bdd-b1c9-453a-973f-d4e73dfda5a2            95.000   \n",
       "7          11.1111  122e7b5b-202b-4f0d-a1c8-aee50dcf0865            71.250   \n",
       "8          72.1302  79f74053-eef5-45d9-a9c4-77270b45c2a2            50.000   \n",
       "9          72.1302  6d7fec94-e908-4167-b7f6-7a4580c3064a            50.000   \n",
       "\n",
       "   signal_sentiment  \n",
       "0          -11.9791  \n",
       "1           11.8923  \n",
       "2           19.7836  \n",
       "3           21.0631  \n",
       "4          -55.5556  \n",
       "5            9.6230  \n",
       "6           13.0787  \n",
       "7           11.1111  \n",
       "8           65.6456  \n",
       "9           70.5616  "
      ]
     },
     "execution_count": 13,
     "metadata": {},
     "output_type": "execute_result"
    }
   ],
   "source": [
    "temp_data = data[0:10]\n",
    "temp_data"
   ]
  },
  {
   "cell_type": "code",
   "execution_count": 14,
   "metadata": {},
   "outputs": [
    {
     "data": {
      "text/plain": [
       "published_at        0\n",
       "entity_name         0\n",
       "entity_region       0\n",
       "entity_sector       0\n",
       "entity_ticker       0\n",
       "event_group         0\n",
       "event               0\n",
       "doc_id              0\n",
       "doc_title           0\n",
       "doc_source          0\n",
       "doc_type            0\n",
       "entity_country      0\n",
       "entity_relevance    0\n",
       "entity_sentiment    0\n",
       "event_relevance     0\n",
       "doc_sentiment       0\n",
       "event_sentiment     0\n",
       "signal_id           0\n",
       "signal_relevance    0\n",
       "signal_sentiment    0\n",
       "dtype: int64"
      ]
     },
     "execution_count": 14,
     "metadata": {},
     "output_type": "execute_result"
    }
   ],
   "source": [
    "#ensure there is no null values\n",
    "temp_data.isna().sum()"
   ]
  },
  {
   "cell_type": "markdown",
   "metadata": {},
   "source": [
    "temp_data"
   ]
  },
  {
   "cell_type": "markdown",
   "metadata": {},
   "source": [
    "## Counts for Node Size"
   ]
  },
  {
   "cell_type": "markdown",
   "metadata": {},
   "source": [
    "#### Calculating no. of documents"
   ]
  },
  {
   "cell_type": "code",
   "execution_count": 15,
   "metadata": {},
   "outputs": [],
   "source": [
    "doc_count = temp_data.groupby('doc_id')['doc_id'].count().reset_index(name = 'doc_count')"
   ]
  },
  {
   "cell_type": "code",
   "execution_count": 16,
   "metadata": {
    "scrolled": true
   },
   "outputs": [],
   "source": [
    "temp_data = pd.merge(temp_data, doc_count , on = 'doc_id', how = 'left')"
   ]
  },
  {
   "cell_type": "markdown",
   "metadata": {},
   "source": [
    "#### Calculating no. of documents per entity"
   ]
  },
  {
   "cell_type": "code",
   "execution_count": 17,
   "metadata": {
    "scrolled": true
   },
   "outputs": [],
   "source": [
    "entity_wise_doc_count = temp_data.groupby('entity_name')['doc_id'].count().reset_index(name = 'doc_count_per_entity')"
   ]
  },
  {
   "cell_type": "code",
   "execution_count": 18,
   "metadata": {
    "scrolled": true
   },
   "outputs": [],
   "source": [
    "temp_data = pd.merge(temp_data, entity_wise_doc_count , on = 'entity_name', how = 'left')"
   ]
  },
  {
   "cell_type": "markdown",
   "metadata": {},
   "source": [
    "#### Calculating no. of documents per event"
   ]
  },
  {
   "cell_type": "code",
   "execution_count": 19,
   "metadata": {},
   "outputs": [],
   "source": [
    "event_wise_doc_count = temp_data.groupby('event')['doc_id'].count().reset_index(name = 'doc_count_per_event')"
   ]
  },
  {
   "cell_type": "code",
   "execution_count": 20,
   "metadata": {
    "scrolled": true
   },
   "outputs": [],
   "source": [
    "temp_data = pd.merge(temp_data, event_wise_doc_count , on = 'event', how = 'left')"
   ]
  },
  {
   "cell_type": "markdown",
   "metadata": {},
   "source": [
    "#### Calculating no. of documents per sector"
   ]
  },
  {
   "cell_type": "code",
   "execution_count": 21,
   "metadata": {},
   "outputs": [
    {
     "data": {
      "text/html": [
       "<div>\n",
       "<style scoped>\n",
       "    .dataframe tbody tr th:only-of-type {\n",
       "        vertical-align: middle;\n",
       "    }\n",
       "\n",
       "    .dataframe tbody tr th {\n",
       "        vertical-align: top;\n",
       "    }\n",
       "\n",
       "    .dataframe thead th {\n",
       "        text-align: right;\n",
       "    }\n",
       "</style>\n",
       "<table border=\"1\" class=\"dataframe\">\n",
       "  <thead>\n",
       "    <tr style=\"text-align: right;\">\n",
       "      <th></th>\n",
       "      <th>entity_sector</th>\n",
       "      <th>doc_count_per_sector</th>\n",
       "    </tr>\n",
       "  </thead>\n",
       "  <tbody>\n",
       "    <tr>\n",
       "      <th>0</th>\n",
       "      <td>Consumer Non Cyclicals</td>\n",
       "      <td>1</td>\n",
       "    </tr>\n",
       "    <tr>\n",
       "      <th>1</th>\n",
       "      <td>Consumer Staples</td>\n",
       "      <td>1</td>\n",
       "    </tr>\n",
       "    <tr>\n",
       "      <th>2</th>\n",
       "      <td>Healthcare</td>\n",
       "      <td>2</td>\n",
       "    </tr>\n",
       "    <tr>\n",
       "      <th>3</th>\n",
       "      <td>Industrials</td>\n",
       "      <td>2</td>\n",
       "    </tr>\n",
       "    <tr>\n",
       "      <th>4</th>\n",
       "      <td>None</td>\n",
       "      <td>2</td>\n",
       "    </tr>\n",
       "  </tbody>\n",
       "</table>\n",
       "</div>"
      ],
      "text/plain": [
       "            entity_sector  doc_count_per_sector\n",
       "0  Consumer Non Cyclicals                     1\n",
       "1        Consumer Staples                     1\n",
       "2              Healthcare                     2\n",
       "3             Industrials                     2\n",
       "4                    None                     2"
      ]
     },
     "execution_count": 21,
     "metadata": {},
     "output_type": "execute_result"
    }
   ],
   "source": [
    "sector_wise_doc_count = temp_data.groupby('entity_sector')['doc_id'].count().reset_index(name = 'doc_count_per_sector')\n",
    "sector_wise_doc_count.head()"
   ]
  },
  {
   "cell_type": "code",
   "execution_count": 22,
   "metadata": {},
   "outputs": [
    {
     "data": {
      "text/html": [
       "<div>\n",
       "<style scoped>\n",
       "    .dataframe tbody tr th:only-of-type {\n",
       "        vertical-align: middle;\n",
       "    }\n",
       "\n",
       "    .dataframe tbody tr th {\n",
       "        vertical-align: top;\n",
       "    }\n",
       "\n",
       "    .dataframe thead th {\n",
       "        text-align: right;\n",
       "    }\n",
       "</style>\n",
       "<table border=\"1\" class=\"dataframe\">\n",
       "  <thead>\n",
       "    <tr style=\"text-align: right;\">\n",
       "      <th></th>\n",
       "      <th>published_at</th>\n",
       "      <th>entity_name</th>\n",
       "      <th>entity_region</th>\n",
       "      <th>entity_sector</th>\n",
       "      <th>entity_ticker</th>\n",
       "      <th>event_group</th>\n",
       "      <th>event</th>\n",
       "      <th>doc_id</th>\n",
       "      <th>doc_title</th>\n",
       "      <th>doc_source</th>\n",
       "      <th>...</th>\n",
       "      <th>event_relevance</th>\n",
       "      <th>doc_sentiment</th>\n",
       "      <th>event_sentiment</th>\n",
       "      <th>signal_id</th>\n",
       "      <th>signal_relevance</th>\n",
       "      <th>signal_sentiment</th>\n",
       "      <th>doc_count</th>\n",
       "      <th>doc_count_per_entity</th>\n",
       "      <th>doc_count_per_event</th>\n",
       "      <th>doc_count_per_sector</th>\n",
       "    </tr>\n",
       "  </thead>\n",
       "  <tbody>\n",
       "    <tr>\n",
       "      <th>0</th>\n",
       "      <td>2020-01-01</td>\n",
       "      <td>INMED PHARMACEUTICALS INC</td>\n",
       "      <td>Americas</td>\n",
       "      <td>Healthcare</td>\n",
       "      <td>IN</td>\n",
       "      <td>Environment</td>\n",
       "      <td>Environment - Water Waste Management - SASB</td>\n",
       "      <td>5f4e439ebf509771e9824533</td>\n",
       "      <td>THE EFFECTS OF WASTEWATER TREATMENT PLANT EFFL...</td>\n",
       "      <td>https://macsphere.mcmaster.ca:443</td>\n",
       "      <td>...</td>\n",
       "      <td>100.0</td>\n",
       "      <td>1.2561</td>\n",
       "      <td>1.0417</td>\n",
       "      <td>7cfc584d-044d-4585-a154-2d552d4cda42</td>\n",
       "      <td>50.000</td>\n",
       "      <td>-11.9791</td>\n",
       "      <td>1</td>\n",
       "      <td>1</td>\n",
       "      <td>1</td>\n",
       "      <td>2</td>\n",
       "    </tr>\n",
       "    <tr>\n",
       "      <th>1</th>\n",
       "      <td>2020-01-01</td>\n",
       "      <td>Adani Green Energy Ltd</td>\n",
       "      <td>Asia</td>\n",
       "      <td>Utilities</td>\n",
       "      <td>ADANIGR</td>\n",
       "      <td>Environment</td>\n",
       "      <td>Environment - Energy Management - SASB</td>\n",
       "      <td>5e0c21924ed9470001e18c26</td>\n",
       "      <td>Adani Green jumps 5% on commissioning of new p...</td>\n",
       "      <td>ACCERN: moneycontrol.com</td>\n",
       "      <td>...</td>\n",
       "      <td>90.0</td>\n",
       "      <td>11.8923</td>\n",
       "      <td>9.7222</td>\n",
       "      <td>53d7f8ec-dc85-4dee-9d69-24332280bb8d</td>\n",
       "      <td>47.500</td>\n",
       "      <td>11.8923</td>\n",
       "      <td>1</td>\n",
       "      <td>1</td>\n",
       "      <td>5</td>\n",
       "      <td>1</td>\n",
       "    </tr>\n",
       "    <tr>\n",
       "      <th>2</th>\n",
       "      <td>2020-01-01</td>\n",
       "      <td>BOMBARDIER INC-A</td>\n",
       "      <td>Americas</td>\n",
       "      <td>Industrials</td>\n",
       "      <td>BBD/A</td>\n",
       "      <td>Environment</td>\n",
       "      <td>Environment - Energy Management - SASB</td>\n",
       "      <td>5e0ca8884ed9470001e1eb00</td>\n",
       "      <td>Print - Bombardiers joint venture wins contrac...</td>\n",
       "      <td>ACCERN: globenewswire.com</td>\n",
       "      <td>...</td>\n",
       "      <td>90.0</td>\n",
       "      <td>22.3100</td>\n",
       "      <td>30.0347</td>\n",
       "      <td>90f6ebba-71a2-4d8a-8a5f-233a63ca9236</td>\n",
       "      <td>31.875</td>\n",
       "      <td>19.7836</td>\n",
       "      <td>1</td>\n",
       "      <td>2</td>\n",
       "      <td>5</td>\n",
       "      <td>2</td>\n",
       "    </tr>\n",
       "    <tr>\n",
       "      <th>3</th>\n",
       "      <td>2020-01-01</td>\n",
       "      <td>BOMBARDIER INC-A</td>\n",
       "      <td>Americas</td>\n",
       "      <td>Industrials</td>\n",
       "      <td>BBD/A</td>\n",
       "      <td>Environment</td>\n",
       "      <td>Environment - Energy Management - SASB</td>\n",
       "      <td>5e0ca7ef6a72090001b7e687</td>\n",
       "      <td>Bombardiers joint venture wins contract to bui...</td>\n",
       "      <td>ACCERN: globenewswire.com</td>\n",
       "      <td>...</td>\n",
       "      <td>90.0</td>\n",
       "      <td>25.0589</td>\n",
       "      <td>30.0347</td>\n",
       "      <td>584cb3f0-e440-4fc4-8488-0182d2ffcf3b</td>\n",
       "      <td>28.125</td>\n",
       "      <td>21.0631</td>\n",
       "      <td>1</td>\n",
       "      <td>2</td>\n",
       "      <td>5</td>\n",
       "      <td>2</td>\n",
       "    </tr>\n",
       "    <tr>\n",
       "      <th>4</th>\n",
       "      <td>2020-01-01</td>\n",
       "      <td>Procter &amp; Gamble Company</td>\n",
       "      <td>Asia</td>\n",
       "      <td>Consumer Non Cyclicals</td>\n",
       "      <td>PG</td>\n",
       "      <td>Environment</td>\n",
       "      <td>Environment - GHG Emissions - SASB</td>\n",
       "      <td>5f67573a041a0320d192aae0</td>\n",
       "      <td>Design and systems-level performance analysis ...</td>\n",
       "      <td>https://macsphere.mcmaster.ca:443</td>\n",
       "      <td>...</td>\n",
       "      <td>90.0</td>\n",
       "      <td>-7.6967</td>\n",
       "      <td>11.8056</td>\n",
       "      <td>08b16193-7b1c-45a4-887c-8eefa73d230c</td>\n",
       "      <td>30.000</td>\n",
       "      <td>-55.5556</td>\n",
       "      <td>1</td>\n",
       "      <td>1</td>\n",
       "      <td>1</td>\n",
       "      <td>1</td>\n",
       "    </tr>\n",
       "  </tbody>\n",
       "</table>\n",
       "<p>5 rows × 24 columns</p>\n",
       "</div>"
      ],
      "text/plain": [
       "  published_at                entity_name entity_region  \\\n",
       "0   2020-01-01  INMED PHARMACEUTICALS INC      Americas   \n",
       "1   2020-01-01     Adani Green Energy Ltd          Asia   \n",
       "2   2020-01-01           BOMBARDIER INC-A      Americas   \n",
       "3   2020-01-01           BOMBARDIER INC-A      Americas   \n",
       "4   2020-01-01   Procter & Gamble Company          Asia   \n",
       "\n",
       "            entity_sector entity_ticker  event_group  \\\n",
       "0              Healthcare            IN  Environment   \n",
       "1               Utilities       ADANIGR  Environment   \n",
       "2             Industrials         BBD/A  Environment   \n",
       "3             Industrials         BBD/A  Environment   \n",
       "4  Consumer Non Cyclicals            PG  Environment   \n",
       "\n",
       "                                         event                    doc_id  \\\n",
       "0  Environment - Water Waste Management - SASB  5f4e439ebf509771e9824533   \n",
       "1       Environment - Energy Management - SASB  5e0c21924ed9470001e18c26   \n",
       "2       Environment - Energy Management - SASB  5e0ca8884ed9470001e1eb00   \n",
       "3       Environment - Energy Management - SASB  5e0ca7ef6a72090001b7e687   \n",
       "4           Environment - GHG Emissions - SASB  5f67573a041a0320d192aae0   \n",
       "\n",
       "                                           doc_title  \\\n",
       "0  THE EFFECTS OF WASTEWATER TREATMENT PLANT EFFL...   \n",
       "1  Adani Green jumps 5% on commissioning of new p...   \n",
       "2  Print - Bombardiers joint venture wins contrac...   \n",
       "3  Bombardiers joint venture wins contract to bui...   \n",
       "4  Design and systems-level performance analysis ...   \n",
       "\n",
       "                          doc_source  ... event_relevance doc_sentiment  \\\n",
       "0  https://macsphere.mcmaster.ca:443  ...           100.0        1.2561   \n",
       "1           ACCERN: moneycontrol.com  ...            90.0       11.8923   \n",
       "2          ACCERN: globenewswire.com  ...            90.0       22.3100   \n",
       "3          ACCERN: globenewswire.com  ...            90.0       25.0589   \n",
       "4  https://macsphere.mcmaster.ca:443  ...            90.0       -7.6967   \n",
       "\n",
       "   event_sentiment                             signal_id  signal_relevance  \\\n",
       "0           1.0417  7cfc584d-044d-4585-a154-2d552d4cda42            50.000   \n",
       "1           9.7222  53d7f8ec-dc85-4dee-9d69-24332280bb8d            47.500   \n",
       "2          30.0347  90f6ebba-71a2-4d8a-8a5f-233a63ca9236            31.875   \n",
       "3          30.0347  584cb3f0-e440-4fc4-8488-0182d2ffcf3b            28.125   \n",
       "4          11.8056  08b16193-7b1c-45a4-887c-8eefa73d230c            30.000   \n",
       "\n",
       "   signal_sentiment  doc_count doc_count_per_entity  doc_count_per_event  \\\n",
       "0          -11.9791          1                    1                    1   \n",
       "1           11.8923          1                    1                    5   \n",
       "2           19.7836          1                    2                    5   \n",
       "3           21.0631          1                    2                    5   \n",
       "4          -55.5556          1                    1                    1   \n",
       "\n",
       "   doc_count_per_sector  \n",
       "0                     2  \n",
       "1                     1  \n",
       "2                     2  \n",
       "3                     2  \n",
       "4                     1  \n",
       "\n",
       "[5 rows x 24 columns]"
      ]
     },
     "execution_count": 22,
     "metadata": {},
     "output_type": "execute_result"
    }
   ],
   "source": [
    "temp_data = pd.merge(temp_data, sector_wise_doc_count , on = 'entity_sector', how = 'left')\n",
    "temp_data.head()"
   ]
  },
  {
   "cell_type": "markdown",
   "metadata": {},
   "source": [
    "## Event Sentiment Calculation"
   ]
  },
  {
   "cell_type": "code",
   "execution_count": 23,
   "metadata": {},
   "outputs": [],
   "source": [
    "#Doc title - Creating avg doc_sentiment\n",
    "event_avg_sentiment = temp_data.groupby('event')['event_sentiment'].mean().reset_index(name = \"Avg Event Sentiment\")"
   ]
  },
  {
   "cell_type": "code",
   "execution_count": 24,
   "metadata": {
    "scrolled": false
   },
   "outputs": [
    {
     "name": "stderr",
     "output_type": "stream",
     "text": [
      "/Users/shashank/opt/anaconda3/envs/Anomaly/lib/python3.7/site-packages/seaborn/_decorators.py:43: FutureWarning:\n",
      "\n",
      "Pass the following variable as a keyword arg: x. From version 0.12, the only valid positional argument will be `data`, and passing other arguments without an explicit keyword will result in an error or misinterpretation.\n",
      "\n"
     ]
    },
    {
     "data": {
      "text/plain": [
       "<AxesSubplot:xlabel='Avg Event Sentiment'>"
      ]
     },
     "execution_count": 24,
     "metadata": {},
     "output_type": "execute_result"
    },
    {
     "data": {
      "image/png": "[encoded data removed]",
      "text/plain": [
       "<Figure size 432x288 with 1 Axes>"
      ]
     },
     "metadata": {
      "needs_background": "light"
     },
     "output_type": "display_data"
    }
   ],
   "source": [
    "sns.boxplot(event_avg_sentiment['Avg Event Sentiment'])"
   ]
  },
  {
   "cell_type": "code",
   "execution_count": 25,
   "metadata": {},
   "outputs": [
    {
     "data": {
      "text/html": [
       "<div>\n",
       "<style scoped>\n",
       "    .dataframe tbody tr th:only-of-type {\n",
       "        vertical-align: middle;\n",
       "    }\n",
       "\n",
       "    .dataframe tbody tr th {\n",
       "        vertical-align: top;\n",
       "    }\n",
       "\n",
       "    .dataframe thead th {\n",
       "        text-align: right;\n",
       "    }\n",
       "</style>\n",
       "<table border=\"1\" class=\"dataframe\">\n",
       "  <thead>\n",
       "    <tr style=\"text-align: right;\">\n",
       "      <th></th>\n",
       "      <th>published_at</th>\n",
       "      <th>entity_name</th>\n",
       "      <th>entity_region</th>\n",
       "      <th>entity_sector</th>\n",
       "      <th>entity_ticker</th>\n",
       "      <th>event_group</th>\n",
       "      <th>event</th>\n",
       "      <th>doc_id</th>\n",
       "      <th>doc_title</th>\n",
       "      <th>doc_source</th>\n",
       "      <th>...</th>\n",
       "      <th>doc_sentiment</th>\n",
       "      <th>event_sentiment</th>\n",
       "      <th>signal_id</th>\n",
       "      <th>signal_relevance</th>\n",
       "      <th>signal_sentiment</th>\n",
       "      <th>doc_count</th>\n",
       "      <th>doc_count_per_entity</th>\n",
       "      <th>doc_count_per_event</th>\n",
       "      <th>doc_count_per_sector</th>\n",
       "      <th>Avg Event Sentiment</th>\n",
       "    </tr>\n",
       "  </thead>\n",
       "  <tbody>\n",
       "    <tr>\n",
       "      <th>0</th>\n",
       "      <td>2020-01-01</td>\n",
       "      <td>INMED PHARMACEUTICALS INC</td>\n",
       "      <td>Americas</td>\n",
       "      <td>Healthcare</td>\n",
       "      <td>IN</td>\n",
       "      <td>Environment</td>\n",
       "      <td>Environment - Water Waste Management - SASB</td>\n",
       "      <td>5f4e439ebf509771e9824533</td>\n",
       "      <td>THE EFFECTS OF WASTEWATER TREATMENT PLANT EFFL...</td>\n",
       "      <td>https://macsphere.mcmaster.ca:443</td>\n",
       "      <td>...</td>\n",
       "      <td>1.2561</td>\n",
       "      <td>1.0417</td>\n",
       "      <td>7cfc584d-044d-4585-a154-2d552d4cda42</td>\n",
       "      <td>50.000</td>\n",
       "      <td>-11.9791</td>\n",
       "      <td>1</td>\n",
       "      <td>1</td>\n",
       "      <td>1</td>\n",
       "      <td>2</td>\n",
       "      <td>1.04170</td>\n",
       "    </tr>\n",
       "    <tr>\n",
       "      <th>1</th>\n",
       "      <td>2020-01-01</td>\n",
       "      <td>Adani Green Energy Ltd</td>\n",
       "      <td>Asia</td>\n",
       "      <td>Utilities</td>\n",
       "      <td>ADANIGR</td>\n",
       "      <td>Environment</td>\n",
       "      <td>Environment - Energy Management - SASB</td>\n",
       "      <td>5e0c21924ed9470001e18c26</td>\n",
       "      <td>Adani Green jumps 5% on commissioning of new p...</td>\n",
       "      <td>ACCERN: moneycontrol.com</td>\n",
       "      <td>...</td>\n",
       "      <td>11.8923</td>\n",
       "      <td>9.7222</td>\n",
       "      <td>53d7f8ec-dc85-4dee-9d69-24332280bb8d</td>\n",
       "      <td>47.500</td>\n",
       "      <td>11.8923</td>\n",
       "      <td>1</td>\n",
       "      <td>1</td>\n",
       "      <td>5</td>\n",
       "      <td>1</td>\n",
       "      <td>30.60658</td>\n",
       "    </tr>\n",
       "    <tr>\n",
       "      <th>2</th>\n",
       "      <td>2020-01-01</td>\n",
       "      <td>BOMBARDIER INC-A</td>\n",
       "      <td>Americas</td>\n",
       "      <td>Industrials</td>\n",
       "      <td>BBD/A</td>\n",
       "      <td>Environment</td>\n",
       "      <td>Environment - Energy Management - SASB</td>\n",
       "      <td>5e0ca8884ed9470001e1eb00</td>\n",
       "      <td>Print - Bombardiers joint venture wins contrac...</td>\n",
       "      <td>ACCERN: globenewswire.com</td>\n",
       "      <td>...</td>\n",
       "      <td>22.3100</td>\n",
       "      <td>30.0347</td>\n",
       "      <td>90f6ebba-71a2-4d8a-8a5f-233a63ca9236</td>\n",
       "      <td>31.875</td>\n",
       "      <td>19.7836</td>\n",
       "      <td>1</td>\n",
       "      <td>2</td>\n",
       "      <td>5</td>\n",
       "      <td>2</td>\n",
       "      <td>30.60658</td>\n",
       "    </tr>\n",
       "    <tr>\n",
       "      <th>3</th>\n",
       "      <td>2020-01-01</td>\n",
       "      <td>BOMBARDIER INC-A</td>\n",
       "      <td>Americas</td>\n",
       "      <td>Industrials</td>\n",
       "      <td>BBD/A</td>\n",
       "      <td>Environment</td>\n",
       "      <td>Environment - Energy Management - SASB</td>\n",
       "      <td>5e0ca7ef6a72090001b7e687</td>\n",
       "      <td>Bombardiers joint venture wins contract to bui...</td>\n",
       "      <td>ACCERN: globenewswire.com</td>\n",
       "      <td>...</td>\n",
       "      <td>25.0589</td>\n",
       "      <td>30.0347</td>\n",
       "      <td>584cb3f0-e440-4fc4-8488-0182d2ffcf3b</td>\n",
       "      <td>28.125</td>\n",
       "      <td>21.0631</td>\n",
       "      <td>1</td>\n",
       "      <td>2</td>\n",
       "      <td>5</td>\n",
       "      <td>2</td>\n",
       "      <td>30.60658</td>\n",
       "    </tr>\n",
       "    <tr>\n",
       "      <th>4</th>\n",
       "      <td>2020-01-01</td>\n",
       "      <td>Procter &amp; Gamble Company</td>\n",
       "      <td>Asia</td>\n",
       "      <td>Consumer Non Cyclicals</td>\n",
       "      <td>PG</td>\n",
       "      <td>Environment</td>\n",
       "      <td>Environment - GHG Emissions - SASB</td>\n",
       "      <td>5f67573a041a0320d192aae0</td>\n",
       "      <td>Design and systems-level performance analysis ...</td>\n",
       "      <td>https://macsphere.mcmaster.ca:443</td>\n",
       "      <td>...</td>\n",
       "      <td>-7.6967</td>\n",
       "      <td>11.8056</td>\n",
       "      <td>08b16193-7b1c-45a4-887c-8eefa73d230c</td>\n",
       "      <td>30.000</td>\n",
       "      <td>-55.5556</td>\n",
       "      <td>1</td>\n",
       "      <td>1</td>\n",
       "      <td>1</td>\n",
       "      <td>1</td>\n",
       "      <td>11.80560</td>\n",
       "    </tr>\n",
       "  </tbody>\n",
       "</table>\n",
       "<p>5 rows × 25 columns</p>\n",
       "</div>"
      ],
      "text/plain": [
       "  published_at                entity_name entity_region  \\\n",
       "0   2020-01-01  INMED PHARMACEUTICALS INC      Americas   \n",
       "1   2020-01-01     Adani Green Energy Ltd          Asia   \n",
       "2   2020-01-01           BOMBARDIER INC-A      Americas   \n",
       "3   2020-01-01           BOMBARDIER INC-A      Americas   \n",
       "4   2020-01-01   Procter & Gamble Company          Asia   \n",
       "\n",
       "            entity_sector entity_ticker  event_group  \\\n",
       "0              Healthcare            IN  Environment   \n",
       "1               Utilities       ADANIGR  Environment   \n",
       "2             Industrials         BBD/A  Environment   \n",
       "3             Industrials         BBD/A  Environment   \n",
       "4  Consumer Non Cyclicals            PG  Environment   \n",
       "\n",
       "                                         event                    doc_id  \\\n",
       "0  Environment - Water Waste Management - SASB  5f4e439ebf509771e9824533   \n",
       "1       Environment - Energy Management - SASB  5e0c21924ed9470001e18c26   \n",
       "2       Environment - Energy Management - SASB  5e0ca8884ed9470001e1eb00   \n",
       "3       Environment - Energy Management - SASB  5e0ca7ef6a72090001b7e687   \n",
       "4           Environment - GHG Emissions - SASB  5f67573a041a0320d192aae0   \n",
       "\n",
       "                                           doc_title  \\\n",
       "0  THE EFFECTS OF WASTEWATER TREATMENT PLANT EFFL...   \n",
       "1  Adani Green jumps 5% on commissioning of new p...   \n",
       "2  Print - Bombardiers joint venture wins contrac...   \n",
       "3  Bombardiers joint venture wins contract to bui...   \n",
       "4  Design and systems-level performance analysis ...   \n",
       "\n",
       "                          doc_source  ... doc_sentiment event_sentiment  \\\n",
       "0  https://macsphere.mcmaster.ca:443  ...        1.2561          1.0417   \n",
       "1           ACCERN: moneycontrol.com  ...       11.8923          9.7222   \n",
       "2          ACCERN: globenewswire.com  ...       22.3100         30.0347   \n",
       "3          ACCERN: globenewswire.com  ...       25.0589         30.0347   \n",
       "4  https://macsphere.mcmaster.ca:443  ...       -7.6967         11.8056   \n",
       "\n",
       "                              signal_id  signal_relevance  signal_sentiment  \\\n",
       "0  7cfc584d-044d-4585-a154-2d552d4cda42            50.000          -11.9791   \n",
       "1  53d7f8ec-dc85-4dee-9d69-24332280bb8d            47.500           11.8923   \n",
       "2  90f6ebba-71a2-4d8a-8a5f-233a63ca9236            31.875           19.7836   \n",
       "3  584cb3f0-e440-4fc4-8488-0182d2ffcf3b            28.125           21.0631   \n",
       "4  08b16193-7b1c-45a4-887c-8eefa73d230c            30.000          -55.5556   \n",
       "\n",
       "   doc_count  doc_count_per_entity doc_count_per_event  doc_count_per_sector  \\\n",
       "0          1                     1                   1                     2   \n",
       "1          1                     1                   5                     1   \n",
       "2          1                     2                   5                     2   \n",
       "3          1                     2                   5                     2   \n",
       "4          1                     1                   1                     1   \n",
       "\n",
       "   Avg Event Sentiment  \n",
       "0              1.04170  \n",
       "1             30.60658  \n",
       "2             30.60658  \n",
       "3             30.60658  \n",
       "4             11.80560  \n",
       "\n",
       "[5 rows x 25 columns]"
      ]
     },
     "execution_count": 25,
     "metadata": {},
     "output_type": "execute_result"
    }
   ],
   "source": [
    "#putting back into temp\n",
    "temp_data = pd.merge(temp_data, event_avg_sentiment, on = 'event', how = 'left')\n",
    "temp_data.head()"
   ]
  },
  {
   "cell_type": "markdown",
   "metadata": {},
   "source": [
    "## Entity Sentiment Calculation"
   ]
  },
  {
   "cell_type": "code",
   "execution_count": 26,
   "metadata": {},
   "outputs": [],
   "source": [
    "entity_avg_sentiment = temp_data.groupby('entity_name')['entity_sentiment'].mean().reset_index(name = \"Avg Entity Sentiment\")"
   ]
  },
  {
   "cell_type": "code",
   "execution_count": 27,
   "metadata": {
    "scrolled": true
   },
   "outputs": [
    {
     "data": {
      "text/html": [
       "<div>\n",
       "<style scoped>\n",
       "    .dataframe tbody tr th:only-of-type {\n",
       "        vertical-align: middle;\n",
       "    }\n",
       "\n",
       "    .dataframe tbody tr th {\n",
       "        vertical-align: top;\n",
       "    }\n",
       "\n",
       "    .dataframe thead th {\n",
       "        text-align: right;\n",
       "    }\n",
       "</style>\n",
       "<table border=\"1\" class=\"dataframe\">\n",
       "  <thead>\n",
       "    <tr style=\"text-align: right;\">\n",
       "      <th></th>\n",
       "      <th>published_at</th>\n",
       "      <th>entity_name</th>\n",
       "      <th>entity_region</th>\n",
       "      <th>entity_sector</th>\n",
       "      <th>entity_ticker</th>\n",
       "      <th>event_group</th>\n",
       "      <th>event</th>\n",
       "      <th>doc_id</th>\n",
       "      <th>doc_title</th>\n",
       "      <th>doc_source</th>\n",
       "      <th>...</th>\n",
       "      <th>event_sentiment</th>\n",
       "      <th>signal_id</th>\n",
       "      <th>signal_relevance</th>\n",
       "      <th>signal_sentiment</th>\n",
       "      <th>doc_count</th>\n",
       "      <th>doc_count_per_entity</th>\n",
       "      <th>doc_count_per_event</th>\n",
       "      <th>doc_count_per_sector</th>\n",
       "      <th>Avg Event Sentiment</th>\n",
       "      <th>Avg Entity Sentiment</th>\n",
       "    </tr>\n",
       "  </thead>\n",
       "  <tbody>\n",
       "    <tr>\n",
       "      <th>0</th>\n",
       "      <td>2020-01-01</td>\n",
       "      <td>INMED PHARMACEUTICALS INC</td>\n",
       "      <td>Americas</td>\n",
       "      <td>Healthcare</td>\n",
       "      <td>IN</td>\n",
       "      <td>Environment</td>\n",
       "      <td>Environment - Water Waste Management - SASB</td>\n",
       "      <td>5f4e439ebf509771e9824533</td>\n",
       "      <td>THE EFFECTS OF WASTEWATER TREATMENT PLANT EFFL...</td>\n",
       "      <td>https://macsphere.mcmaster.ca:443</td>\n",
       "      <td>...</td>\n",
       "      <td>1.0417</td>\n",
       "      <td>7cfc584d-044d-4585-a154-2d552d4cda42</td>\n",
       "      <td>50.000</td>\n",
       "      <td>-11.9791</td>\n",
       "      <td>1</td>\n",
       "      <td>1</td>\n",
       "      <td>1</td>\n",
       "      <td>2</td>\n",
       "      <td>1.04170</td>\n",
       "      <td>-25.0000</td>\n",
       "    </tr>\n",
       "    <tr>\n",
       "      <th>1</th>\n",
       "      <td>2020-01-01</td>\n",
       "      <td>Adani Green Energy Ltd</td>\n",
       "      <td>Asia</td>\n",
       "      <td>Utilities</td>\n",
       "      <td>ADANIGR</td>\n",
       "      <td>Environment</td>\n",
       "      <td>Environment - Energy Management - SASB</td>\n",
       "      <td>5e0c21924ed9470001e18c26</td>\n",
       "      <td>Adani Green jumps 5% on commissioning of new p...</td>\n",
       "      <td>ACCERN: moneycontrol.com</td>\n",
       "      <td>...</td>\n",
       "      <td>9.7222</td>\n",
       "      <td>53d7f8ec-dc85-4dee-9d69-24332280bb8d</td>\n",
       "      <td>47.500</td>\n",
       "      <td>11.8923</td>\n",
       "      <td>1</td>\n",
       "      <td>1</td>\n",
       "      <td>5</td>\n",
       "      <td>1</td>\n",
       "      <td>30.60658</td>\n",
       "      <td>14.0625</td>\n",
       "    </tr>\n",
       "    <tr>\n",
       "      <th>2</th>\n",
       "      <td>2020-01-01</td>\n",
       "      <td>BOMBARDIER INC-A</td>\n",
       "      <td>Americas</td>\n",
       "      <td>Industrials</td>\n",
       "      <td>BBD/A</td>\n",
       "      <td>Environment</td>\n",
       "      <td>Environment - Energy Management - SASB</td>\n",
       "      <td>5e0ca8884ed9470001e1eb00</td>\n",
       "      <td>Print - Bombardiers joint venture wins contrac...</td>\n",
       "      <td>ACCERN: globenewswire.com</td>\n",
       "      <td>...</td>\n",
       "      <td>30.0347</td>\n",
       "      <td>90f6ebba-71a2-4d8a-8a5f-233a63ca9236</td>\n",
       "      <td>31.875</td>\n",
       "      <td>19.7836</td>\n",
       "      <td>1</td>\n",
       "      <td>2</td>\n",
       "      <td>5</td>\n",
       "      <td>2</td>\n",
       "      <td>30.60658</td>\n",
       "      <td>10.8120</td>\n",
       "    </tr>\n",
       "    <tr>\n",
       "      <th>3</th>\n",
       "      <td>2020-01-01</td>\n",
       "      <td>BOMBARDIER INC-A</td>\n",
       "      <td>Americas</td>\n",
       "      <td>Industrials</td>\n",
       "      <td>BBD/A</td>\n",
       "      <td>Environment</td>\n",
       "      <td>Environment - Energy Management - SASB</td>\n",
       "      <td>5e0ca7ef6a72090001b7e687</td>\n",
       "      <td>Bombardiers joint venture wins contract to bui...</td>\n",
       "      <td>ACCERN: globenewswire.com</td>\n",
       "      <td>...</td>\n",
       "      <td>30.0347</td>\n",
       "      <td>584cb3f0-e440-4fc4-8488-0182d2ffcf3b</td>\n",
       "      <td>28.125</td>\n",
       "      <td>21.0631</td>\n",
       "      <td>1</td>\n",
       "      <td>2</td>\n",
       "      <td>5</td>\n",
       "      <td>2</td>\n",
       "      <td>30.60658</td>\n",
       "      <td>10.8120</td>\n",
       "    </tr>\n",
       "    <tr>\n",
       "      <th>4</th>\n",
       "      <td>2020-01-01</td>\n",
       "      <td>Procter &amp; Gamble Company</td>\n",
       "      <td>Asia</td>\n",
       "      <td>Consumer Non Cyclicals</td>\n",
       "      <td>PG</td>\n",
       "      <td>Environment</td>\n",
       "      <td>Environment - GHG Emissions - SASB</td>\n",
       "      <td>5f67573a041a0320d192aae0</td>\n",
       "      <td>Design and systems-level performance analysis ...</td>\n",
       "      <td>https://macsphere.mcmaster.ca:443</td>\n",
       "      <td>...</td>\n",
       "      <td>11.8056</td>\n",
       "      <td>08b16193-7b1c-45a4-887c-8eefa73d230c</td>\n",
       "      <td>30.000</td>\n",
       "      <td>-55.5556</td>\n",
       "      <td>1</td>\n",
       "      <td>1</td>\n",
       "      <td>1</td>\n",
       "      <td>1</td>\n",
       "      <td>11.80560</td>\n",
       "      <td>-55.5556</td>\n",
       "    </tr>\n",
       "  </tbody>\n",
       "</table>\n",
       "<p>5 rows × 26 columns</p>\n",
       "</div>"
      ],
      "text/plain": [
       "  published_at                entity_name entity_region  \\\n",
       "0   2020-01-01  INMED PHARMACEUTICALS INC      Americas   \n",
       "1   2020-01-01     Adani Green Energy Ltd          Asia   \n",
       "2   2020-01-01           BOMBARDIER INC-A      Americas   \n",
       "3   2020-01-01           BOMBARDIER INC-A      Americas   \n",
       "4   2020-01-01   Procter & Gamble Company          Asia   \n",
       "\n",
       "            entity_sector entity_ticker  event_group  \\\n",
       "0              Healthcare            IN  Environment   \n",
       "1               Utilities       ADANIGR  Environment   \n",
       "2             Industrials         BBD/A  Environment   \n",
       "3             Industrials         BBD/A  Environment   \n",
       "4  Consumer Non Cyclicals            PG  Environment   \n",
       "\n",
       "                                         event                    doc_id  \\\n",
       "0  Environment - Water Waste Management - SASB  5f4e439ebf509771e9824533   \n",
       "1       Environment - Energy Management - SASB  5e0c21924ed9470001e18c26   \n",
       "2       Environment - Energy Management - SASB  5e0ca8884ed9470001e1eb00   \n",
       "3       Environment - Energy Management - SASB  5e0ca7ef6a72090001b7e687   \n",
       "4           Environment - GHG Emissions - SASB  5f67573a041a0320d192aae0   \n",
       "\n",
       "                                           doc_title  \\\n",
       "0  THE EFFECTS OF WASTEWATER TREATMENT PLANT EFFL...   \n",
       "1  Adani Green jumps 5% on commissioning of new p...   \n",
       "2  Print - Bombardiers joint venture wins contrac...   \n",
       "3  Bombardiers joint venture wins contract to bui...   \n",
       "4  Design and systems-level performance analysis ...   \n",
       "\n",
       "                          doc_source  ... event_sentiment  \\\n",
       "0  https://macsphere.mcmaster.ca:443  ...          1.0417   \n",
       "1           ACCERN: moneycontrol.com  ...          9.7222   \n",
       "2          ACCERN: globenewswire.com  ...         30.0347   \n",
       "3          ACCERN: globenewswire.com  ...         30.0347   \n",
       "4  https://macsphere.mcmaster.ca:443  ...         11.8056   \n",
       "\n",
       "                              signal_id  signal_relevance  signal_sentiment  \\\n",
       "0  7cfc584d-044d-4585-a154-2d552d4cda42            50.000          -11.9791   \n",
       "1  53d7f8ec-dc85-4dee-9d69-24332280bb8d            47.500           11.8923   \n",
       "2  90f6ebba-71a2-4d8a-8a5f-233a63ca9236            31.875           19.7836   \n",
       "3  584cb3f0-e440-4fc4-8488-0182d2ffcf3b            28.125           21.0631   \n",
       "4  08b16193-7b1c-45a4-887c-8eefa73d230c            30.000          -55.5556   \n",
       "\n",
       "   doc_count  doc_count_per_entity  doc_count_per_event doc_count_per_sector  \\\n",
       "0          1                     1                    1                    2   \n",
       "1          1                     1                    5                    1   \n",
       "2          1                     2                    5                    2   \n",
       "3          1                     2                    5                    2   \n",
       "4          1                     1                    1                    1   \n",
       "\n",
       "   Avg Event Sentiment  Avg Entity Sentiment  \n",
       "0              1.04170              -25.0000  \n",
       "1             30.60658               14.0625  \n",
       "2             30.60658               10.8120  \n",
       "3             30.60658               10.8120  \n",
       "4             11.80560              -55.5556  \n",
       "\n",
       "[5 rows x 26 columns]"
      ]
     },
     "execution_count": 27,
     "metadata": {},
     "output_type": "execute_result"
    }
   ],
   "source": [
    "temp_data = pd.merge(temp_data, entity_avg_sentiment, on = 'entity_name', how = 'left')\n",
    "temp_data.head()"
   ]
  },
  {
   "cell_type": "code",
   "execution_count": 28,
   "metadata": {},
   "outputs": [
    {
     "name": "stderr",
     "output_type": "stream",
     "text": [
      "/Users/shashank/opt/anaconda3/envs/Anomaly/lib/python3.7/site-packages/seaborn/_decorators.py:43: FutureWarning:\n",
      "\n",
      "Pass the following variable as a keyword arg: x. From version 0.12, the only valid positional argument will be `data`, and passing other arguments without an explicit keyword will result in an error or misinterpretation.\n",
      "\n"
     ]
    },
    {
     "data": {
      "text/plain": [
       "<AxesSubplot:xlabel='Avg Entity Sentiment'>"
      ]
     },
     "execution_count": 28,
     "metadata": {},
     "output_type": "execute_result"
    },
    {
     "data": {
      "image/png": "[encoded data removed]",
      "text/plain": [
       "<Figure size 432x288 with 1 Axes>"
      ]
     },
     "metadata": {
      "needs_background": "light"
     },
     "output_type": "display_data"
    }
   ],
   "source": [
    "sns.boxplot(entity_avg_sentiment['Avg Entity Sentiment'])"
   ]
  },
  {
   "cell_type": "markdown",
   "metadata": {},
   "source": [
    "## AVG Sector sentiment"
   ]
  },
  {
   "cell_type": "code",
   "execution_count": 29,
   "metadata": {},
   "outputs": [],
   "source": [
    "result1 = temp_data[['entity_name','entity_sector']]"
   ]
  },
  {
   "cell_type": "code",
   "execution_count": 30,
   "metadata": {
    "scrolled": false
   },
   "outputs": [],
   "source": [
    "result2 = pd.merge(result1, entity_avg_sentiment , on = 'entity_name', how = 'left')\n",
    "#deduplicate\n",
    "result2 = result2.drop_duplicates(subset=['entity_name','entity_sector'], keep='first')"
   ]
  },
  {
   "cell_type": "code",
   "execution_count": 31,
   "metadata": {
    "scrolled": true
   },
   "outputs": [
    {
     "data": {
      "text/html": [
       "<div>\n",
       "<style scoped>\n",
       "    .dataframe tbody tr th:only-of-type {\n",
       "        vertical-align: middle;\n",
       "    }\n",
       "\n",
       "    .dataframe tbody tr th {\n",
       "        vertical-align: top;\n",
       "    }\n",
       "\n",
       "    .dataframe thead th {\n",
       "        text-align: right;\n",
       "    }\n",
       "</style>\n",
       "<table border=\"1\" class=\"dataframe\">\n",
       "  <thead>\n",
       "    <tr style=\"text-align: right;\">\n",
       "      <th></th>\n",
       "      <th>entity_name</th>\n",
       "      <th>doc_count_per_entity</th>\n",
       "    </tr>\n",
       "  </thead>\n",
       "  <tbody>\n",
       "    <tr>\n",
       "      <th>0</th>\n",
       "      <td>AGTHIA GROUP PJSC</td>\n",
       "      <td>1</td>\n",
       "    </tr>\n",
       "    <tr>\n",
       "      <th>1</th>\n",
       "      <td>Adani Green Energy Ltd</td>\n",
       "      <td>1</td>\n",
       "    </tr>\n",
       "    <tr>\n",
       "      <th>2</th>\n",
       "      <td>Alphabet Inc</td>\n",
       "      <td>1</td>\n",
       "    </tr>\n",
       "    <tr>\n",
       "      <th>3</th>\n",
       "      <td>BOMBARDIER INC-A</td>\n",
       "      <td>2</td>\n",
       "    </tr>\n",
       "    <tr>\n",
       "      <th>4</th>\n",
       "      <td>INMED PHARMACEUTICALS INC</td>\n",
       "      <td>1</td>\n",
       "    </tr>\n",
       "  </tbody>\n",
       "</table>\n",
       "</div>"
      ],
      "text/plain": [
       "                 entity_name  doc_count_per_entity\n",
       "0          AGTHIA GROUP PJSC                     1\n",
       "1     Adani Green Energy Ltd                     1\n",
       "2               Alphabet Inc                     1\n",
       "3           BOMBARDIER INC-A                     2\n",
       "4  INMED PHARMACEUTICALS INC                     1"
      ]
     },
     "execution_count": 31,
     "metadata": {},
     "output_type": "execute_result"
    }
   ],
   "source": [
    "entity_wise_doc_count.head()"
   ]
  },
  {
   "cell_type": "code",
   "execution_count": 32,
   "metadata": {
    "scrolled": true
   },
   "outputs": [],
   "source": [
    "result3 = pd.merge(entity_wise_doc_count, result2 , on = 'entity_name', how = 'left')"
   ]
  },
  {
   "cell_type": "code",
   "execution_count": 33,
   "metadata": {},
   "outputs": [],
   "source": [
    "#Weighted AVG Calc\n",
    "result3[\"entity_weighted_avg\"]  = result3[\"doc_count_per_entity\"] * result3[\"Avg Entity Sentiment\"]"
   ]
  },
  {
   "cell_type": "code",
   "execution_count": 34,
   "metadata": {
    "scrolled": true
   },
   "outputs": [],
   "source": [
    "#Group by entity_sector \n",
    "result4 = result3.groupby('entity_sector')['entity_weighted_avg'].sum().reset_index(name = \"Sum_entity_weighted_avg\")"
   ]
  },
  {
   "cell_type": "code",
   "execution_count": 35,
   "metadata": {
    "scrolled": true
   },
   "outputs": [],
   "source": [
    "result5 = pd.merge(sector_wise_doc_count, result4 , on = 'entity_sector', how = 'left')\n",
    "result5[\"Wt_Avg_sector_sentiment\"] = result5['Sum_entity_weighted_avg'] / result5['doc_count_per_sector']"
   ]
  },
  {
   "cell_type": "code",
   "execution_count": 36,
   "metadata": {
    "scrolled": true
   },
   "outputs": [
    {
     "data": {
      "text/html": [
       "<div>\n",
       "<style scoped>\n",
       "    .dataframe tbody tr th:only-of-type {\n",
       "        vertical-align: middle;\n",
       "    }\n",
       "\n",
       "    .dataframe tbody tr th {\n",
       "        vertical-align: top;\n",
       "    }\n",
       "\n",
       "    .dataframe thead th {\n",
       "        text-align: right;\n",
       "    }\n",
       "</style>\n",
       "<table border=\"1\" class=\"dataframe\">\n",
       "  <thead>\n",
       "    <tr style=\"text-align: right;\">\n",
       "      <th></th>\n",
       "      <th>entity_sector</th>\n",
       "      <th>Wt_Avg_sector_sentiment</th>\n",
       "    </tr>\n",
       "  </thead>\n",
       "  <tbody>\n",
       "    <tr>\n",
       "      <th>0</th>\n",
       "      <td>Consumer Non Cyclicals</td>\n",
       "      <td>-55.55560</td>\n",
       "    </tr>\n",
       "    <tr>\n",
       "      <th>1</th>\n",
       "      <td>Consumer Staples</td>\n",
       "      <td>68.99310</td>\n",
       "    </tr>\n",
       "    <tr>\n",
       "      <th>2</th>\n",
       "      <td>Healthcare</td>\n",
       "      <td>-6.94445</td>\n",
       "    </tr>\n",
       "    <tr>\n",
       "      <th>3</th>\n",
       "      <td>Industrials</td>\n",
       "      <td>10.81200</td>\n",
       "    </tr>\n",
       "    <tr>\n",
       "      <th>4</th>\n",
       "      <td>None</td>\n",
       "      <td>33.15200</td>\n",
       "    </tr>\n",
       "    <tr>\n",
       "      <th>5</th>\n",
       "      <td>Technology</td>\n",
       "      <td>12.26850</td>\n",
       "    </tr>\n",
       "    <tr>\n",
       "      <th>6</th>\n",
       "      <td>Utilities</td>\n",
       "      <td>14.06250</td>\n",
       "    </tr>\n",
       "  </tbody>\n",
       "</table>\n",
       "</div>"
      ],
      "text/plain": [
       "            entity_sector  Wt_Avg_sector_sentiment\n",
       "0  Consumer Non Cyclicals                -55.55560\n",
       "1        Consumer Staples                 68.99310\n",
       "2              Healthcare                 -6.94445\n",
       "3             Industrials                 10.81200\n",
       "4                    None                 33.15200\n",
       "5              Technology                 12.26850\n",
       "6               Utilities                 14.06250"
      ]
     },
     "execution_count": 36,
     "metadata": {},
     "output_type": "execute_result"
    }
   ],
   "source": [
    "result6 = result5[['entity_sector','Wt_Avg_sector_sentiment']]\n",
    "result6 #choosing 2 columns"
   ]
  },
  {
   "cell_type": "code",
   "execution_count": 37,
   "metadata": {},
   "outputs": [
    {
     "data": {
      "text/html": [
       "<div>\n",
       "<style scoped>\n",
       "    .dataframe tbody tr th:only-of-type {\n",
       "        vertical-align: middle;\n",
       "    }\n",
       "\n",
       "    .dataframe tbody tr th {\n",
       "        vertical-align: top;\n",
       "    }\n",
       "\n",
       "    .dataframe thead th {\n",
       "        text-align: right;\n",
       "    }\n",
       "</style>\n",
       "<table border=\"1\" class=\"dataframe\">\n",
       "  <thead>\n",
       "    <tr style=\"text-align: right;\">\n",
       "      <th></th>\n",
       "      <th>published_at</th>\n",
       "      <th>entity_name</th>\n",
       "      <th>entity_region</th>\n",
       "      <th>entity_sector</th>\n",
       "      <th>entity_ticker</th>\n",
       "      <th>event_group</th>\n",
       "      <th>event</th>\n",
       "      <th>doc_id</th>\n",
       "      <th>doc_title</th>\n",
       "      <th>doc_source</th>\n",
       "      <th>...</th>\n",
       "      <th>signal_id</th>\n",
       "      <th>signal_relevance</th>\n",
       "      <th>signal_sentiment</th>\n",
       "      <th>doc_count</th>\n",
       "      <th>doc_count_per_entity</th>\n",
       "      <th>doc_count_per_event</th>\n",
       "      <th>doc_count_per_sector</th>\n",
       "      <th>Avg Event Sentiment</th>\n",
       "      <th>Avg Entity Sentiment</th>\n",
       "      <th>Wt_Avg_sector_sentiment</th>\n",
       "    </tr>\n",
       "  </thead>\n",
       "  <tbody>\n",
       "    <tr>\n",
       "      <th>0</th>\n",
       "      <td>2020-01-01</td>\n",
       "      <td>INMED PHARMACEUTICALS INC</td>\n",
       "      <td>Americas</td>\n",
       "      <td>Healthcare</td>\n",
       "      <td>IN</td>\n",
       "      <td>Environment</td>\n",
       "      <td>Environment - Water Waste Management - SASB</td>\n",
       "      <td>5f4e439ebf509771e9824533</td>\n",
       "      <td>THE EFFECTS OF WASTEWATER TREATMENT PLANT EFFL...</td>\n",
       "      <td>https://macsphere.mcmaster.ca:443</td>\n",
       "      <td>...</td>\n",
       "      <td>7cfc584d-044d-4585-a154-2d552d4cda42</td>\n",
       "      <td>50.000</td>\n",
       "      <td>-11.9791</td>\n",
       "      <td>1</td>\n",
       "      <td>1</td>\n",
       "      <td>1</td>\n",
       "      <td>2</td>\n",
       "      <td>1.04170</td>\n",
       "      <td>-25.0000</td>\n",
       "      <td>-6.94445</td>\n",
       "    </tr>\n",
       "    <tr>\n",
       "      <th>1</th>\n",
       "      <td>2020-01-01</td>\n",
       "      <td>Adani Green Energy Ltd</td>\n",
       "      <td>Asia</td>\n",
       "      <td>Utilities</td>\n",
       "      <td>ADANIGR</td>\n",
       "      <td>Environment</td>\n",
       "      <td>Environment - Energy Management - SASB</td>\n",
       "      <td>5e0c21924ed9470001e18c26</td>\n",
       "      <td>Adani Green jumps 5% on commissioning of new p...</td>\n",
       "      <td>ACCERN: moneycontrol.com</td>\n",
       "      <td>...</td>\n",
       "      <td>53d7f8ec-dc85-4dee-9d69-24332280bb8d</td>\n",
       "      <td>47.500</td>\n",
       "      <td>11.8923</td>\n",
       "      <td>1</td>\n",
       "      <td>1</td>\n",
       "      <td>5</td>\n",
       "      <td>1</td>\n",
       "      <td>30.60658</td>\n",
       "      <td>14.0625</td>\n",
       "      <td>14.06250</td>\n",
       "    </tr>\n",
       "    <tr>\n",
       "      <th>2</th>\n",
       "      <td>2020-01-01</td>\n",
       "      <td>BOMBARDIER INC-A</td>\n",
       "      <td>Americas</td>\n",
       "      <td>Industrials</td>\n",
       "      <td>BBD/A</td>\n",
       "      <td>Environment</td>\n",
       "      <td>Environment - Energy Management - SASB</td>\n",
       "      <td>5e0ca8884ed9470001e1eb00</td>\n",
       "      <td>Print - Bombardiers joint venture wins contrac...</td>\n",
       "      <td>ACCERN: globenewswire.com</td>\n",
       "      <td>...</td>\n",
       "      <td>90f6ebba-71a2-4d8a-8a5f-233a63ca9236</td>\n",
       "      <td>31.875</td>\n",
       "      <td>19.7836</td>\n",
       "      <td>1</td>\n",
       "      <td>2</td>\n",
       "      <td>5</td>\n",
       "      <td>2</td>\n",
       "      <td>30.60658</td>\n",
       "      <td>10.8120</td>\n",
       "      <td>10.81200</td>\n",
       "    </tr>\n",
       "    <tr>\n",
       "      <th>3</th>\n",
       "      <td>2020-01-01</td>\n",
       "      <td>BOMBARDIER INC-A</td>\n",
       "      <td>Americas</td>\n",
       "      <td>Industrials</td>\n",
       "      <td>BBD/A</td>\n",
       "      <td>Environment</td>\n",
       "      <td>Environment - Energy Management - SASB</td>\n",
       "      <td>5e0ca7ef6a72090001b7e687</td>\n",
       "      <td>Bombardiers joint venture wins contract to bui...</td>\n",
       "      <td>ACCERN: globenewswire.com</td>\n",
       "      <td>...</td>\n",
       "      <td>584cb3f0-e440-4fc4-8488-0182d2ffcf3b</td>\n",
       "      <td>28.125</td>\n",
       "      <td>21.0631</td>\n",
       "      <td>1</td>\n",
       "      <td>2</td>\n",
       "      <td>5</td>\n",
       "      <td>2</td>\n",
       "      <td>30.60658</td>\n",
       "      <td>10.8120</td>\n",
       "      <td>10.81200</td>\n",
       "    </tr>\n",
       "    <tr>\n",
       "      <th>4</th>\n",
       "      <td>2020-01-01</td>\n",
       "      <td>Procter &amp; Gamble Company</td>\n",
       "      <td>Asia</td>\n",
       "      <td>Consumer Non Cyclicals</td>\n",
       "      <td>PG</td>\n",
       "      <td>Environment</td>\n",
       "      <td>Environment - GHG Emissions - SASB</td>\n",
       "      <td>5f67573a041a0320d192aae0</td>\n",
       "      <td>Design and systems-level performance analysis ...</td>\n",
       "      <td>https://macsphere.mcmaster.ca:443</td>\n",
       "      <td>...</td>\n",
       "      <td>08b16193-7b1c-45a4-887c-8eefa73d230c</td>\n",
       "      <td>30.000</td>\n",
       "      <td>-55.5556</td>\n",
       "      <td>1</td>\n",
       "      <td>1</td>\n",
       "      <td>1</td>\n",
       "      <td>1</td>\n",
       "      <td>11.80560</td>\n",
       "      <td>-55.5556</td>\n",
       "      <td>-55.55560</td>\n",
       "    </tr>\n",
       "  </tbody>\n",
       "</table>\n",
       "<p>5 rows × 27 columns</p>\n",
       "</div>"
      ],
      "text/plain": [
       "  published_at                entity_name entity_region  \\\n",
       "0   2020-01-01  INMED PHARMACEUTICALS INC      Americas   \n",
       "1   2020-01-01     Adani Green Energy Ltd          Asia   \n",
       "2   2020-01-01           BOMBARDIER INC-A      Americas   \n",
       "3   2020-01-01           BOMBARDIER INC-A      Americas   \n",
       "4   2020-01-01   Procter & Gamble Company          Asia   \n",
       "\n",
       "            entity_sector entity_ticker  event_group  \\\n",
       "0              Healthcare            IN  Environment   \n",
       "1               Utilities       ADANIGR  Environment   \n",
       "2             Industrials         BBD/A  Environment   \n",
       "3             Industrials         BBD/A  Environment   \n",
       "4  Consumer Non Cyclicals            PG  Environment   \n",
       "\n",
       "                                         event                    doc_id  \\\n",
       "0  Environment - Water Waste Management - SASB  5f4e439ebf509771e9824533   \n",
       "1       Environment - Energy Management - SASB  5e0c21924ed9470001e18c26   \n",
       "2       Environment - Energy Management - SASB  5e0ca8884ed9470001e1eb00   \n",
       "3       Environment - Energy Management - SASB  5e0ca7ef6a72090001b7e687   \n",
       "4           Environment - GHG Emissions - SASB  5f67573a041a0320d192aae0   \n",
       "\n",
       "                                           doc_title  \\\n",
       "0  THE EFFECTS OF WASTEWATER TREATMENT PLANT EFFL...   \n",
       "1  Adani Green jumps 5% on commissioning of new p...   \n",
       "2  Print - Bombardiers joint venture wins contrac...   \n",
       "3  Bombardiers joint venture wins contract to bui...   \n",
       "4  Design and systems-level performance analysis ...   \n",
       "\n",
       "                          doc_source  ...  \\\n",
       "0  https://macsphere.mcmaster.ca:443  ...   \n",
       "1           ACCERN: moneycontrol.com  ...   \n",
       "2          ACCERN: globenewswire.com  ...   \n",
       "3          ACCERN: globenewswire.com  ...   \n",
       "4  https://macsphere.mcmaster.ca:443  ...   \n",
       "\n",
       "                              signal_id signal_relevance  signal_sentiment  \\\n",
       "0  7cfc584d-044d-4585-a154-2d552d4cda42           50.000          -11.9791   \n",
       "1  53d7f8ec-dc85-4dee-9d69-24332280bb8d           47.500           11.8923   \n",
       "2  90f6ebba-71a2-4d8a-8a5f-233a63ca9236           31.875           19.7836   \n",
       "3  584cb3f0-e440-4fc4-8488-0182d2ffcf3b           28.125           21.0631   \n",
       "4  08b16193-7b1c-45a4-887c-8eefa73d230c           30.000          -55.5556   \n",
       "\n",
       "   doc_count  doc_count_per_entity  doc_count_per_event  doc_count_per_sector  \\\n",
       "0          1                     1                    1                     2   \n",
       "1          1                     1                    5                     1   \n",
       "2          1                     2                    5                     2   \n",
       "3          1                     2                    5                     2   \n",
       "4          1                     1                    1                     1   \n",
       "\n",
       "  Avg Event Sentiment  Avg Entity Sentiment  Wt_Avg_sector_sentiment  \n",
       "0             1.04170              -25.0000                 -6.94445  \n",
       "1            30.60658               14.0625                 14.06250  \n",
       "2            30.60658               10.8120                 10.81200  \n",
       "3            30.60658               10.8120                 10.81200  \n",
       "4            11.80560              -55.5556                -55.55560  \n",
       "\n",
       "[5 rows x 27 columns]"
      ]
     },
     "execution_count": 37,
     "metadata": {},
     "output_type": "execute_result"
    }
   ],
   "source": [
    "temp_data = pd.merge(temp_data, result6, on = 'entity_sector', how = 'left')\n",
    "temp_data.head()"
   ]
  },
  {
   "cell_type": "code",
   "execution_count": 38,
   "metadata": {
    "scrolled": true
   },
   "outputs": [
    {
     "name": "stderr",
     "output_type": "stream",
     "text": [
      "/Users/shashank/opt/anaconda3/envs/Anomaly/lib/python3.7/site-packages/seaborn/_decorators.py:43: FutureWarning:\n",
      "\n",
      "Pass the following variable as a keyword arg: x. From version 0.12, the only valid positional argument will be `data`, and passing other arguments without an explicit keyword will result in an error or misinterpretation.\n",
      "\n"
     ]
    },
    {
     "data": {
      "text/plain": [
       "<AxesSubplot:xlabel='Wt_Avg_sector_sentiment'>"
      ]
     },
     "execution_count": 38,
     "metadata": {},
     "output_type": "execute_result"
    },
    {
     "data": {
      "image/png": "[encoded data removed]",
      "text/plain": [
       "<Figure size 432x288 with 1 Axes>"
      ]
     },
     "metadata": {
      "needs_background": "light"
     },
     "output_type": "display_data"
    }
   ],
   "source": [
    "result6 = result5[['entity_sector','Wt_Avg_sector_sentiment']] #choose 2 columns\n",
    "sns.boxplot(result6['Wt_Avg_sector_sentiment'])"
   ]
  },
  {
   "cell_type": "code",
   "execution_count": 39,
   "metadata": {},
   "outputs": [
    {
     "name": "stderr",
     "output_type": "stream",
     "text": [
      "/Users/shashank/opt/anaconda3/envs/Anomaly/lib/python3.7/site-packages/seaborn/_decorators.py:43: FutureWarning:\n",
      "\n",
      "Pass the following variables as keyword args: x, y. From version 0.12, the only valid positional argument will be `data`, and passing other arguments without an explicit keyword will result in an error or misinterpretation.\n",
      "\n"
     ]
    },
    {
     "data": {
      "text/plain": [
       "<AxesSubplot:title={'center':'Weighted Average Sector Sentiment'}, xlabel='entity_sector', ylabel='Wt_Avg_sector_sentiment'>"
      ]
     },
     "execution_count": 39,
     "metadata": {},
     "output_type": "execute_result"
    },
    {
     "data": {
      "image/png": "[encoded data removed]",
      "text/plain": [
       "<Figure size 2880x576 with 1 Axes>"
      ]
     },
     "metadata": {
      "needs_background": "light"
     },
     "output_type": "display_data"
    }
   ],
   "source": [
    "plt.figure(figsize=(40, 8))\n",
    "plt.title('Weighted Average Sector Sentiment')\n",
    "sns.barplot(result6['entity_sector'], result6['Wt_Avg_sector_sentiment'])"
   ]
  },
  {
   "cell_type": "markdown",
   "metadata": {},
   "source": [
    "#### Hover info"
   ]
  },
  {
   "cell_type": "code",
   "execution_count": 40,
   "metadata": {},
   "outputs": [
    {
     "data": {
      "text/html": [
       "<div>\n",
       "<style scoped>\n",
       "    .dataframe tbody tr th:only-of-type {\n",
       "        vertical-align: middle;\n",
       "    }\n",
       "\n",
       "    .dataframe tbody tr th {\n",
       "        vertical-align: top;\n",
       "    }\n",
       "\n",
       "    .dataframe thead th {\n",
       "        text-align: right;\n",
       "    }\n",
       "</style>\n",
       "<table border=\"1\" class=\"dataframe\">\n",
       "  <thead>\n",
       "    <tr style=\"text-align: right;\">\n",
       "      <th></th>\n",
       "      <th>entity_name</th>\n",
       "      <th>entity_hover_info</th>\n",
       "    </tr>\n",
       "  </thead>\n",
       "  <tbody>\n",
       "    <tr>\n",
       "      <th>0</th>\n",
       "      <td>INMED PHARMACEUTICALS INC</td>\n",
       "      <td>Americas, Canada, AVG Sentiment: -25.0</td>\n",
       "    </tr>\n",
       "    <tr>\n",
       "      <th>1</th>\n",
       "      <td>Adani Green Energy Ltd</td>\n",
       "      <td>Asia, India, AVG Sentiment: 14.06</td>\n",
       "    </tr>\n",
       "    <tr>\n",
       "      <th>2</th>\n",
       "      <td>BOMBARDIER INC-A</td>\n",
       "      <td>Americas, Canada, AVG Sentiment: 10.81</td>\n",
       "    </tr>\n",
       "    <tr>\n",
       "      <th>3</th>\n",
       "      <td>BOMBARDIER INC-A</td>\n",
       "      <td>Americas, Canada, AVG Sentiment: 10.81</td>\n",
       "    </tr>\n",
       "    <tr>\n",
       "      <th>4</th>\n",
       "      <td>Procter &amp; Gamble Company</td>\n",
       "      <td>Asia, India, AVG Sentiment: -55.56</td>\n",
       "    </tr>\n",
       "    <tr>\n",
       "      <th>5</th>\n",
       "      <td>TEIJIN LTD</td>\n",
       "      <td>None, None, AVG Sentiment: 7.14</td>\n",
       "    </tr>\n",
       "    <tr>\n",
       "      <th>6</th>\n",
       "      <td>Alphabet Inc</td>\n",
       "      <td>Europe, United Kingdom, AVG Sentiment: 12.27</td>\n",
       "    </tr>\n",
       "    <tr>\n",
       "      <th>7</th>\n",
       "      <td>Illumina Inc</td>\n",
       "      <td>Europe, United Kingdom, AVG Sentiment: 11.11</td>\n",
       "    </tr>\n",
       "    <tr>\n",
       "      <th>8</th>\n",
       "      <td>YAMAHA CORP</td>\n",
       "      <td>None, None, AVG Sentiment: 59.16</td>\n",
       "    </tr>\n",
       "    <tr>\n",
       "      <th>9</th>\n",
       "      <td>AGTHIA GROUP PJSC</td>\n",
       "      <td>Middle East, United Arab Emirates, AVG Sentime...</td>\n",
       "    </tr>\n",
       "  </tbody>\n",
       "</table>\n",
       "</div>"
      ],
      "text/plain": [
       "                 entity_name  \\\n",
       "0  INMED PHARMACEUTICALS INC   \n",
       "1     Adani Green Energy Ltd   \n",
       "2           BOMBARDIER INC-A   \n",
       "3           BOMBARDIER INC-A   \n",
       "4   Procter & Gamble Company   \n",
       "5                 TEIJIN LTD   \n",
       "6               Alphabet Inc   \n",
       "7               Illumina Inc   \n",
       "8                YAMAHA CORP   \n",
       "9          AGTHIA GROUP PJSC   \n",
       "\n",
       "                                   entity_hover_info  \n",
       "0             Americas, Canada, AVG Sentiment: -25.0  \n",
       "1                  Asia, India, AVG Sentiment: 14.06  \n",
       "2             Americas, Canada, AVG Sentiment: 10.81  \n",
       "3             Americas, Canada, AVG Sentiment: 10.81  \n",
       "4                 Asia, India, AVG Sentiment: -55.56  \n",
       "5                    None, None, AVG Sentiment: 7.14  \n",
       "6       Europe, United Kingdom, AVG Sentiment: 12.27  \n",
       "7       Europe, United Kingdom, AVG Sentiment: 11.11  \n",
       "8                   None, None, AVG Sentiment: 59.16  \n",
       "9  Middle East, United Arab Emirates, AVG Sentime...  "
      ]
     },
     "execution_count": 40,
     "metadata": {},
     "output_type": "execute_result"
    }
   ],
   "source": [
    "#Entity hover info\n",
    "entity_hoverinfo = temp_data.assign(entity_hover_info = temp_data.entity_region.astype(str)+', ' +\\\n",
    "                             temp_data.entity_country.astype(str)+', '+\\\n",
    "                            'AVG Sentiment: '+round(temp_data['Avg Entity Sentiment'],2).astype(str))\n",
    "\n",
    "entity_hoverinfo = entity_hoverinfo[['entity_name','entity_hover_info']]\n",
    "entity_hoverinfo"
   ]
  },
  {
   "cell_type": "code",
   "execution_count": 41,
   "metadata": {},
   "outputs": [
    {
     "data": {
      "text/html": [
       "<div>\n",
       "<style scoped>\n",
       "    .dataframe tbody tr th:only-of-type {\n",
       "        vertical-align: middle;\n",
       "    }\n",
       "\n",
       "    .dataframe tbody tr th {\n",
       "        vertical-align: top;\n",
       "    }\n",
       "\n",
       "    .dataframe thead th {\n",
       "        text-align: right;\n",
       "    }\n",
       "</style>\n",
       "<table border=\"1\" class=\"dataframe\">\n",
       "  <thead>\n",
       "    <tr style=\"text-align: right;\">\n",
       "      <th></th>\n",
       "      <th>event</th>\n",
       "      <th>event_hoverinfo</th>\n",
       "    </tr>\n",
       "  </thead>\n",
       "  <tbody>\n",
       "    <tr>\n",
       "      <th>0</th>\n",
       "      <td>Environment - Water Waste Management - SASB</td>\n",
       "      <td>No. Documents: 1, AVG Sentiment: 1.04</td>\n",
       "    </tr>\n",
       "    <tr>\n",
       "      <th>1</th>\n",
       "      <td>Environment - Energy Management - SASB</td>\n",
       "      <td>No. Documents: 5, AVG Sentiment: 30.61</td>\n",
       "    </tr>\n",
       "    <tr>\n",
       "      <th>2</th>\n",
       "      <td>Environment - Energy Management - SASB</td>\n",
       "      <td>No. Documents: 5, AVG Sentiment: 30.61</td>\n",
       "    </tr>\n",
       "    <tr>\n",
       "      <th>3</th>\n",
       "      <td>Environment - Energy Management - SASB</td>\n",
       "      <td>No. Documents: 5, AVG Sentiment: 30.61</td>\n",
       "    </tr>\n",
       "    <tr>\n",
       "      <th>4</th>\n",
       "      <td>Environment - GHG Emissions - SASB</td>\n",
       "      <td>No. Documents: 1, AVG Sentiment: 11.81</td>\n",
       "    </tr>\n",
       "    <tr>\n",
       "      <th>5</th>\n",
       "      <td>Social - Data Security - SASB</td>\n",
       "      <td>No. Documents: 1, AVG Sentiment: 12.1</td>\n",
       "    </tr>\n",
       "    <tr>\n",
       "      <th>6</th>\n",
       "      <td>Governance - Product Design &amp; Lifecycle Manage...</td>\n",
       "      <td>No. Documents: 2, AVG Sentiment: 43.01</td>\n",
       "    </tr>\n",
       "    <tr>\n",
       "      <th>7</th>\n",
       "      <td>Environment - Energy Management - SASB</td>\n",
       "      <td>No. Documents: 5, AVG Sentiment: 30.61</td>\n",
       "    </tr>\n",
       "    <tr>\n",
       "      <th>8</th>\n",
       "      <td>Governance - Product Design &amp; Lifecycle Manage...</td>\n",
       "      <td>No. Documents: 2, AVG Sentiment: 43.01</td>\n",
       "    </tr>\n",
       "    <tr>\n",
       "      <th>9</th>\n",
       "      <td>Environment - Energy Management - SASB</td>\n",
       "      <td>No. Documents: 5, AVG Sentiment: 30.61</td>\n",
       "    </tr>\n",
       "  </tbody>\n",
       "</table>\n",
       "</div>"
      ],
      "text/plain": [
       "                                               event  \\\n",
       "0        Environment - Water Waste Management - SASB   \n",
       "1             Environment - Energy Management - SASB   \n",
       "2             Environment - Energy Management - SASB   \n",
       "3             Environment - Energy Management - SASB   \n",
       "4                 Environment - GHG Emissions - SASB   \n",
       "5                      Social - Data Security - SASB   \n",
       "6  Governance - Product Design & Lifecycle Manage...   \n",
       "7             Environment - Energy Management - SASB   \n",
       "8  Governance - Product Design & Lifecycle Manage...   \n",
       "9             Environment - Energy Management - SASB   \n",
       "\n",
       "                          event_hoverinfo  \n",
       "0   No. Documents: 1, AVG Sentiment: 1.04  \n",
       "1  No. Documents: 5, AVG Sentiment: 30.61  \n",
       "2  No. Documents: 5, AVG Sentiment: 30.61  \n",
       "3  No. Documents: 5, AVG Sentiment: 30.61  \n",
       "4  No. Documents: 1, AVG Sentiment: 11.81  \n",
       "5   No. Documents: 1, AVG Sentiment: 12.1  \n",
       "6  No. Documents: 2, AVG Sentiment: 43.01  \n",
       "7  No. Documents: 5, AVG Sentiment: 30.61  \n",
       "8  No. Documents: 2, AVG Sentiment: 43.01  \n",
       "9  No. Documents: 5, AVG Sentiment: 30.61  "
      ]
     },
     "execution_count": 41,
     "metadata": {},
     "output_type": "execute_result"
    }
   ],
   "source": [
    "#Event hover info\n",
    "event_hoverinfo = temp_data.assign(event_hoverinfo = 'No. Documents: '+ temp_data['doc_count_per_event'].astype(str)+', '+\\\n",
    "                            'AVG Sentiment: '+round(temp_data['Avg Event Sentiment'],2).astype(str))\n",
    "\n",
    "event_hoverinfo = event_hoverinfo[['event','event_hoverinfo']]\n",
    "event_hoverinfo"
   ]
  },
  {
   "cell_type": "code",
   "execution_count": 42,
   "metadata": {},
   "outputs": [
    {
     "data": {
      "text/html": [
       "<div>\n",
       "<style scoped>\n",
       "    .dataframe tbody tr th:only-of-type {\n",
       "        vertical-align: middle;\n",
       "    }\n",
       "\n",
       "    .dataframe tbody tr th {\n",
       "        vertical-align: top;\n",
       "    }\n",
       "\n",
       "    .dataframe thead th {\n",
       "        text-align: right;\n",
       "    }\n",
       "</style>\n",
       "<table border=\"1\" class=\"dataframe\">\n",
       "  <thead>\n",
       "    <tr style=\"text-align: right;\">\n",
       "      <th></th>\n",
       "      <th>entity_sector</th>\n",
       "      <th>sector_hoverinfo</th>\n",
       "    </tr>\n",
       "  </thead>\n",
       "  <tbody>\n",
       "    <tr>\n",
       "      <th>0</th>\n",
       "      <td>Healthcare</td>\n",
       "      <td>No. Documents: 2, AVG Sentiment: -6.94</td>\n",
       "    </tr>\n",
       "    <tr>\n",
       "      <th>1</th>\n",
       "      <td>Utilities</td>\n",
       "      <td>No. Documents: 1, AVG Sentiment: 14.06</td>\n",
       "    </tr>\n",
       "    <tr>\n",
       "      <th>2</th>\n",
       "      <td>Industrials</td>\n",
       "      <td>No. Documents: 2, AVG Sentiment: 10.81</td>\n",
       "    </tr>\n",
       "    <tr>\n",
       "      <th>3</th>\n",
       "      <td>Industrials</td>\n",
       "      <td>No. Documents: 2, AVG Sentiment: 10.81</td>\n",
       "    </tr>\n",
       "    <tr>\n",
       "      <th>4</th>\n",
       "      <td>Consumer Non Cyclicals</td>\n",
       "      <td>No. Documents: 1, AVG Sentiment: -55.56</td>\n",
       "    </tr>\n",
       "    <tr>\n",
       "      <th>5</th>\n",
       "      <td>None</td>\n",
       "      <td>No. Documents: 2, AVG Sentiment: 33.15</td>\n",
       "    </tr>\n",
       "    <tr>\n",
       "      <th>6</th>\n",
       "      <td>Technology</td>\n",
       "      <td>No. Documents: 1, AVG Sentiment: 12.27</td>\n",
       "    </tr>\n",
       "    <tr>\n",
       "      <th>7</th>\n",
       "      <td>Healthcare</td>\n",
       "      <td>No. Documents: 2, AVG Sentiment: -6.94</td>\n",
       "    </tr>\n",
       "    <tr>\n",
       "      <th>8</th>\n",
       "      <td>None</td>\n",
       "      <td>No. Documents: 2, AVG Sentiment: 33.15</td>\n",
       "    </tr>\n",
       "    <tr>\n",
       "      <th>9</th>\n",
       "      <td>Consumer Staples</td>\n",
       "      <td>No. Documents: 1, AVG Sentiment: 68.99</td>\n",
       "    </tr>\n",
       "  </tbody>\n",
       "</table>\n",
       "</div>"
      ],
      "text/plain": [
       "            entity_sector                         sector_hoverinfo\n",
       "0              Healthcare   No. Documents: 2, AVG Sentiment: -6.94\n",
       "1               Utilities   No. Documents: 1, AVG Sentiment: 14.06\n",
       "2             Industrials   No. Documents: 2, AVG Sentiment: 10.81\n",
       "3             Industrials   No. Documents: 2, AVG Sentiment: 10.81\n",
       "4  Consumer Non Cyclicals  No. Documents: 1, AVG Sentiment: -55.56\n",
       "5                    None   No. Documents: 2, AVG Sentiment: 33.15\n",
       "6              Technology   No. Documents: 1, AVG Sentiment: 12.27\n",
       "7              Healthcare   No. Documents: 2, AVG Sentiment: -6.94\n",
       "8                    None   No. Documents: 2, AVG Sentiment: 33.15\n",
       "9        Consumer Staples   No. Documents: 1, AVG Sentiment: 68.99"
      ]
     },
     "execution_count": 42,
     "metadata": {},
     "output_type": "execute_result"
    }
   ],
   "source": [
    "#Sector hover info\n",
    "sector_hoverinfo = temp_data.assign(sector_hoverinfo = 'No. Documents: '+ temp_data['doc_count_per_sector'].astype(str)+', '+\\\n",
    "                            'AVG Sentiment: '+round(temp_data['Wt_Avg_sector_sentiment'],2).astype(str))\n",
    "sector_hoverinfo = sector_hoverinfo[['entity_sector','sector_hoverinfo']]\n",
    "sector_hoverinfo"
   ]
  },
  {
   "cell_type": "markdown",
   "metadata": {},
   "source": [
    "# KG SetUp<a class=\"anchor\" id=\"Section_5\"></a>"
   ]
  },
  {
   "cell_type": "markdown",
   "metadata": {},
   "source": [
    "#### Creating  df with AVG Sentiment for each node:<a class=\"anchor\" id=\"Section_51\"></a>"
   ]
  },
  {
   "cell_type": "code",
   "execution_count": 43,
   "metadata": {},
   "outputs": [],
   "source": [
    "#Entity\n",
    "entity_name_nodes = temp_data.groupby('entity_name')['entity_sentiment'].mean().reset_index(name = \"Avg Entity Sentiment\")\n",
    "#Event\n",
    "event_nodes = temp_data.groupby('event')['event_sentiment'].mean().reset_index(name = \"Avg Event Sentiment\")\n",
    "#Entity Sector\n",
    "entity_sector_nodes = result6\n",
    "#Doc title\n",
    "#doc_avg_sentiment = temp_data.groupby('doc_title')['doc_sentiment'].mean().reset_index(name = \"Avg Doc Sentiment\")"
   ]
  },
  {
   "cell_type": "code",
   "execution_count": 44,
   "metadata": {},
   "outputs": [
    {
     "data": {
      "text/html": [
       "<div>\n",
       "<style scoped>\n",
       "    .dataframe tbody tr th:only-of-type {\n",
       "        vertical-align: middle;\n",
       "    }\n",
       "\n",
       "    .dataframe tbody tr th {\n",
       "        vertical-align: top;\n",
       "    }\n",
       "\n",
       "    .dataframe thead th {\n",
       "        text-align: right;\n",
       "    }\n",
       "</style>\n",
       "<table border=\"1\" class=\"dataframe\">\n",
       "  <thead>\n",
       "    <tr style=\"text-align: right;\">\n",
       "      <th></th>\n",
       "      <th>entity_name</th>\n",
       "      <th>Avg Entity Sentiment</th>\n",
       "      <th>entity_hover_info</th>\n",
       "    </tr>\n",
       "  </thead>\n",
       "  <tbody>\n",
       "    <tr>\n",
       "      <th>0</th>\n",
       "      <td>AGTHIA GROUP PJSC</td>\n",
       "      <td>68.9931</td>\n",
       "      <td>Middle East, United Arab Emirates, AVG Sentime...</td>\n",
       "    </tr>\n",
       "    <tr>\n",
       "      <th>1</th>\n",
       "      <td>Adani Green Energy Ltd</td>\n",
       "      <td>14.0625</td>\n",
       "      <td>Asia, India, AVG Sentiment: 14.06</td>\n",
       "    </tr>\n",
       "    <tr>\n",
       "      <th>2</th>\n",
       "      <td>Alphabet Inc</td>\n",
       "      <td>12.2685</td>\n",
       "      <td>Europe, United Kingdom, AVG Sentiment: 12.27</td>\n",
       "    </tr>\n",
       "    <tr>\n",
       "      <th>3</th>\n",
       "      <td>BOMBARDIER INC-A</td>\n",
       "      <td>10.8120</td>\n",
       "      <td>Americas, Canada, AVG Sentiment: 10.81</td>\n",
       "    </tr>\n",
       "    <tr>\n",
       "      <th>5</th>\n",
       "      <td>INMED PHARMACEUTICALS INC</td>\n",
       "      <td>-25.0000</td>\n",
       "      <td>Americas, Canada, AVG Sentiment: -25.0</td>\n",
       "    </tr>\n",
       "    <tr>\n",
       "      <th>6</th>\n",
       "      <td>Illumina Inc</td>\n",
       "      <td>11.1111</td>\n",
       "      <td>Europe, United Kingdom, AVG Sentiment: 11.11</td>\n",
       "    </tr>\n",
       "    <tr>\n",
       "      <th>7</th>\n",
       "      <td>Procter &amp; Gamble Company</td>\n",
       "      <td>-55.5556</td>\n",
       "      <td>Asia, India, AVG Sentiment: -55.56</td>\n",
       "    </tr>\n",
       "    <tr>\n",
       "      <th>8</th>\n",
       "      <td>TEIJIN LTD</td>\n",
       "      <td>7.1429</td>\n",
       "      <td>None, None, AVG Sentiment: 7.14</td>\n",
       "    </tr>\n",
       "    <tr>\n",
       "      <th>9</th>\n",
       "      <td>YAMAHA CORP</td>\n",
       "      <td>59.1611</td>\n",
       "      <td>None, None, AVG Sentiment: 59.16</td>\n",
       "    </tr>\n",
       "  </tbody>\n",
       "</table>\n",
       "</div>"
      ],
      "text/plain": [
       "                 entity_name  Avg Entity Sentiment  \\\n",
       "0          AGTHIA GROUP PJSC               68.9931   \n",
       "1     Adani Green Energy Ltd               14.0625   \n",
       "2               Alphabet Inc               12.2685   \n",
       "3           BOMBARDIER INC-A               10.8120   \n",
       "5  INMED PHARMACEUTICALS INC              -25.0000   \n",
       "6               Illumina Inc               11.1111   \n",
       "7   Procter & Gamble Company              -55.5556   \n",
       "8                 TEIJIN LTD                7.1429   \n",
       "9                YAMAHA CORP               59.1611   \n",
       "\n",
       "                                   entity_hover_info  \n",
       "0  Middle East, United Arab Emirates, AVG Sentime...  \n",
       "1                  Asia, India, AVG Sentiment: 14.06  \n",
       "2       Europe, United Kingdom, AVG Sentiment: 12.27  \n",
       "3             Americas, Canada, AVG Sentiment: 10.81  \n",
       "5             Americas, Canada, AVG Sentiment: -25.0  \n",
       "6       Europe, United Kingdom, AVG Sentiment: 11.11  \n",
       "7                 Asia, India, AVG Sentiment: -55.56  \n",
       "8                    None, None, AVG Sentiment: 7.14  \n",
       "9                   None, None, AVG Sentiment: 59.16  "
      ]
     },
     "execution_count": 44,
     "metadata": {},
     "output_type": "execute_result"
    }
   ],
   "source": [
    "#Hover info - entity joining\n",
    "entity_name_nodes = pd.merge(entity_name_nodes, entity_hoverinfo , on = 'entity_name', how = 'left')\n",
    "#deduplicate\n",
    "entity_name_nodes= entity_name_nodes.drop_duplicates(subset=['entity_name'], keep='first')\n",
    "\n",
    "entity_name_nodes"
   ]
  },
  {
   "cell_type": "code",
   "execution_count": 45,
   "metadata": {},
   "outputs": [
    {
     "data": {
      "text/html": [
       "<div>\n",
       "<style scoped>\n",
       "    .dataframe tbody tr th:only-of-type {\n",
       "        vertical-align: middle;\n",
       "    }\n",
       "\n",
       "    .dataframe tbody tr th {\n",
       "        vertical-align: top;\n",
       "    }\n",
       "\n",
       "    .dataframe thead th {\n",
       "        text-align: right;\n",
       "    }\n",
       "</style>\n",
       "<table border=\"1\" class=\"dataframe\">\n",
       "  <thead>\n",
       "    <tr style=\"text-align: right;\">\n",
       "      <th></th>\n",
       "      <th>event</th>\n",
       "      <th>Avg Event Sentiment</th>\n",
       "      <th>event_hoverinfo</th>\n",
       "    </tr>\n",
       "  </thead>\n",
       "  <tbody>\n",
       "    <tr>\n",
       "      <th>0</th>\n",
       "      <td>Environment - Energy Management - SASB</td>\n",
       "      <td>30.60658</td>\n",
       "      <td>No. Documents: 5, AVG Sentiment: 30.61</td>\n",
       "    </tr>\n",
       "    <tr>\n",
       "      <th>5</th>\n",
       "      <td>Environment - GHG Emissions - SASB</td>\n",
       "      <td>11.80560</td>\n",
       "      <td>No. Documents: 1, AVG Sentiment: 11.81</td>\n",
       "    </tr>\n",
       "    <tr>\n",
       "      <th>6</th>\n",
       "      <td>Environment - Water Waste Management - SASB</td>\n",
       "      <td>1.04170</td>\n",
       "      <td>No. Documents: 1, AVG Sentiment: 1.04</td>\n",
       "    </tr>\n",
       "    <tr>\n",
       "      <th>7</th>\n",
       "      <td>Governance - Product Design &amp; Lifecycle Manage...</td>\n",
       "      <td>43.00955</td>\n",
       "      <td>No. Documents: 2, AVG Sentiment: 43.01</td>\n",
       "    </tr>\n",
       "    <tr>\n",
       "      <th>9</th>\n",
       "      <td>Social - Data Security - SASB</td>\n",
       "      <td>12.10320</td>\n",
       "      <td>No. Documents: 1, AVG Sentiment: 12.1</td>\n",
       "    </tr>\n",
       "  </tbody>\n",
       "</table>\n",
       "</div>"
      ],
      "text/plain": [
       "                                               event  Avg Event Sentiment  \\\n",
       "0             Environment - Energy Management - SASB             30.60658   \n",
       "5                 Environment - GHG Emissions - SASB             11.80560   \n",
       "6        Environment - Water Waste Management - SASB              1.04170   \n",
       "7  Governance - Product Design & Lifecycle Manage...             43.00955   \n",
       "9                      Social - Data Security - SASB             12.10320   \n",
       "\n",
       "                          event_hoverinfo  \n",
       "0  No. Documents: 5, AVG Sentiment: 30.61  \n",
       "5  No. Documents: 1, AVG Sentiment: 11.81  \n",
       "6   No. Documents: 1, AVG Sentiment: 1.04  \n",
       "7  No. Documents: 2, AVG Sentiment: 43.01  \n",
       "9   No. Documents: 1, AVG Sentiment: 12.1  "
      ]
     },
     "execution_count": 45,
     "metadata": {},
     "output_type": "execute_result"
    }
   ],
   "source": [
    "#Hover info - event joining\n",
    "event_nodes = pd.merge(event_nodes, event_hoverinfo , on = 'event', how = 'left')\n",
    "#deduplicate\n",
    "event_nodes= event_nodes.drop_duplicates(subset=['event'], keep='first')\n",
    "event_nodes"
   ]
  },
  {
   "cell_type": "code",
   "execution_count": 46,
   "metadata": {},
   "outputs": [
    {
     "data": {
      "text/html": [
       "<div>\n",
       "<style scoped>\n",
       "    .dataframe tbody tr th:only-of-type {\n",
       "        vertical-align: middle;\n",
       "    }\n",
       "\n",
       "    .dataframe tbody tr th {\n",
       "        vertical-align: top;\n",
       "    }\n",
       "\n",
       "    .dataframe thead th {\n",
       "        text-align: right;\n",
       "    }\n",
       "</style>\n",
       "<table border=\"1\" class=\"dataframe\">\n",
       "  <thead>\n",
       "    <tr style=\"text-align: right;\">\n",
       "      <th></th>\n",
       "      <th>entity_sector</th>\n",
       "      <th>Wt_Avg_sector_sentiment</th>\n",
       "      <th>sector_hoverinfo</th>\n",
       "    </tr>\n",
       "  </thead>\n",
       "  <tbody>\n",
       "    <tr>\n",
       "      <th>0</th>\n",
       "      <td>Consumer Non Cyclicals</td>\n",
       "      <td>-55.55560</td>\n",
       "      <td>No. Documents: 1, AVG Sentiment: -55.56</td>\n",
       "    </tr>\n",
       "    <tr>\n",
       "      <th>1</th>\n",
       "      <td>Consumer Staples</td>\n",
       "      <td>68.99310</td>\n",
       "      <td>No. Documents: 1, AVG Sentiment: 68.99</td>\n",
       "    </tr>\n",
       "    <tr>\n",
       "      <th>2</th>\n",
       "      <td>Healthcare</td>\n",
       "      <td>-6.94445</td>\n",
       "      <td>No. Documents: 2, AVG Sentiment: -6.94</td>\n",
       "    </tr>\n",
       "    <tr>\n",
       "      <th>4</th>\n",
       "      <td>Industrials</td>\n",
       "      <td>10.81200</td>\n",
       "      <td>No. Documents: 2, AVG Sentiment: 10.81</td>\n",
       "    </tr>\n",
       "    <tr>\n",
       "      <th>6</th>\n",
       "      <td>None</td>\n",
       "      <td>33.15200</td>\n",
       "      <td>No. Documents: 2, AVG Sentiment: 33.15</td>\n",
       "    </tr>\n",
       "    <tr>\n",
       "      <th>8</th>\n",
       "      <td>Technology</td>\n",
       "      <td>12.26850</td>\n",
       "      <td>No. Documents: 1, AVG Sentiment: 12.27</td>\n",
       "    </tr>\n",
       "    <tr>\n",
       "      <th>9</th>\n",
       "      <td>Utilities</td>\n",
       "      <td>14.06250</td>\n",
       "      <td>No. Documents: 1, AVG Sentiment: 14.06</td>\n",
       "    </tr>\n",
       "  </tbody>\n",
       "</table>\n",
       "</div>"
      ],
      "text/plain": [
       "            entity_sector  Wt_Avg_sector_sentiment  \\\n",
       "0  Consumer Non Cyclicals                -55.55560   \n",
       "1        Consumer Staples                 68.99310   \n",
       "2              Healthcare                 -6.94445   \n",
       "4             Industrials                 10.81200   \n",
       "6                    None                 33.15200   \n",
       "8              Technology                 12.26850   \n",
       "9               Utilities                 14.06250   \n",
       "\n",
       "                          sector_hoverinfo  \n",
       "0  No. Documents: 1, AVG Sentiment: -55.56  \n",
       "1   No. Documents: 1, AVG Sentiment: 68.99  \n",
       "2   No. Documents: 2, AVG Sentiment: -6.94  \n",
       "4   No. Documents: 2, AVG Sentiment: 10.81  \n",
       "6   No. Documents: 2, AVG Sentiment: 33.15  \n",
       "8   No. Documents: 1, AVG Sentiment: 12.27  \n",
       "9   No. Documents: 1, AVG Sentiment: 14.06  "
      ]
     },
     "execution_count": 46,
     "metadata": {},
     "output_type": "execute_result"
    }
   ],
   "source": [
    "#Hover info - entity sector joining\n",
    "entity_sector_nodes = pd.merge(entity_sector_nodes, sector_hoverinfo , on = 'entity_sector', how = 'left')\n",
    "#deduplicate\n",
    "entity_sector_nodes= entity_sector_nodes.drop_duplicates(subset=['entity_sector'], keep='first')\n",
    "\n",
    "entity_sector_nodes"
   ]
  },
  {
   "cell_type": "markdown",
   "metadata": {},
   "source": [
    "#### Creating nodes from unique df with sentiment"
   ]
  },
  {
   "cell_type": "code",
   "execution_count": 47,
   "metadata": {
    "scrolled": true
   },
   "outputs": [],
   "source": [
    "#entity\n",
    "node_df1 = entity_name_nodes.rename(columns={\"entity_name\": \"node\", \"Avg Entity Sentiment\": \"AVG Sentiment\",'entity_hover_info':'Hover_info'})\n",
    "#sector \n",
    "node_df2 = entity_sector_nodes.rename(columns={\"entity_sector\": \"node\", \"Wt_Avg_sector_sentiment\": \"AVG Sentiment\",'sector_hoverinfo':'Hover_info'})\n",
    "#event\n",
    "node_df3 = event_nodes.rename(columns={\"event\": \"node\", \"Avg Event Sentiment\": \"AVG Sentiment\",'event_hoverinfo':'Hover_info'})\n",
    "#doc \n",
    "#node_df4 = doc_avg_sentiment.rename(columns={\"doc_title\": \"node\", \"Avg Doc Sentiment\": \"AVG Sentiment\"})"
   ]
  },
  {
   "cell_type": "markdown",
   "metadata": {},
   "source": [
    "#### Column to Determine Shapes of Nodes"
   ]
  },
  {
   "cell_type": "code",
   "execution_count": 48,
   "metadata": {},
   "outputs": [],
   "source": [
    "#entity shape index\n",
    "node_df1['shape_index'] = 0   #circle\n",
    "\n",
    "#sector shape index\n",
    "node_df2['shape_index'] = 5   #triangle up\n",
    "\n",
    "#doc shape index\n",
    "#node_df4['shape_index'] = 1   #square \n",
    "\n",
    "#event shape index\n",
    "\n",
    "#assigning default value as 3 (#cross)\n",
    "node_df3['shape_index'] = 3     \n",
    "\n",
    "#running loop to check E, S or G and assign index respectively \n",
    "for i in range(len(node_df3['node'])):\n",
    "    if node_df3.iloc[i, 0].startswith('Environment'):\n",
    "        node_df3.iloc[i,3] = 3     #cross\n",
    "    elif node_df3.iloc[i, 0].startswith('Social'):\n",
    "        node_df3.iloc[i, 3] = 4     #X\n",
    "    else:\n",
    "        node_df3.iloc[i, 3] = 17    #star"
   ]
  },
  {
   "cell_type": "markdown",
   "metadata": {},
   "source": [
    "## Determine Node size"
   ]
  },
  {
   "cell_type": "markdown",
   "metadata": {},
   "source": [
    "#### Column to determine node size"
   ]
  },
  {
   "cell_type": "code",
   "execution_count": 49,
   "metadata": {},
   "outputs": [
    {
     "data": {
      "text/html": [
       "<div>\n",
       "<style scoped>\n",
       "    .dataframe tbody tr th:only-of-type {\n",
       "        vertical-align: middle;\n",
       "    }\n",
       "\n",
       "    .dataframe tbody tr th {\n",
       "        vertical-align: top;\n",
       "    }\n",
       "\n",
       "    .dataframe thead th {\n",
       "        text-align: right;\n",
       "    }\n",
       "</style>\n",
       "<table border=\"1\" class=\"dataframe\">\n",
       "  <thead>\n",
       "    <tr style=\"text-align: right;\">\n",
       "      <th></th>\n",
       "      <th>node</th>\n",
       "      <th>AVG Sentiment</th>\n",
       "      <th>Hover_info</th>\n",
       "      <th>shape_index</th>\n",
       "      <th>size</th>\n",
       "    </tr>\n",
       "  </thead>\n",
       "  <tbody>\n",
       "    <tr>\n",
       "      <th>0</th>\n",
       "      <td>AGTHIA GROUP PJSC</td>\n",
       "      <td>68.9931</td>\n",
       "      <td>Middle East, United Arab Emirates, AVG Sentime...</td>\n",
       "      <td>0</td>\n",
       "      <td>1</td>\n",
       "    </tr>\n",
       "    <tr>\n",
       "      <th>1</th>\n",
       "      <td>Adani Green Energy Ltd</td>\n",
       "      <td>14.0625</td>\n",
       "      <td>Asia, India, AVG Sentiment: 14.06</td>\n",
       "      <td>0</td>\n",
       "      <td>1</td>\n",
       "    </tr>\n",
       "    <tr>\n",
       "      <th>2</th>\n",
       "      <td>Alphabet Inc</td>\n",
       "      <td>12.2685</td>\n",
       "      <td>Europe, United Kingdom, AVG Sentiment: 12.27</td>\n",
       "      <td>0</td>\n",
       "      <td>1</td>\n",
       "    </tr>\n",
       "    <tr>\n",
       "      <th>3</th>\n",
       "      <td>BOMBARDIER INC-A</td>\n",
       "      <td>10.8120</td>\n",
       "      <td>Americas, Canada, AVG Sentiment: 10.81</td>\n",
       "      <td>0</td>\n",
       "      <td>2</td>\n",
       "    </tr>\n",
       "    <tr>\n",
       "      <th>4</th>\n",
       "      <td>BOMBARDIER INC-A</td>\n",
       "      <td>10.8120</td>\n",
       "      <td>Americas, Canada, AVG Sentiment: 10.81</td>\n",
       "      <td>0</td>\n",
       "      <td>2</td>\n",
       "    </tr>\n",
       "    <tr>\n",
       "      <th>5</th>\n",
       "      <td>INMED PHARMACEUTICALS INC</td>\n",
       "      <td>-25.0000</td>\n",
       "      <td>Americas, Canada, AVG Sentiment: -25.0</td>\n",
       "      <td>0</td>\n",
       "      <td>1</td>\n",
       "    </tr>\n",
       "    <tr>\n",
       "      <th>6</th>\n",
       "      <td>Illumina Inc</td>\n",
       "      <td>11.1111</td>\n",
       "      <td>Europe, United Kingdom, AVG Sentiment: 11.11</td>\n",
       "      <td>0</td>\n",
       "      <td>1</td>\n",
       "    </tr>\n",
       "    <tr>\n",
       "      <th>7</th>\n",
       "      <td>Procter &amp; Gamble Company</td>\n",
       "      <td>-55.5556</td>\n",
       "      <td>Asia, India, AVG Sentiment: -55.56</td>\n",
       "      <td>0</td>\n",
       "      <td>1</td>\n",
       "    </tr>\n",
       "    <tr>\n",
       "      <th>8</th>\n",
       "      <td>TEIJIN LTD</td>\n",
       "      <td>7.1429</td>\n",
       "      <td>None, None, AVG Sentiment: 7.14</td>\n",
       "      <td>0</td>\n",
       "      <td>1</td>\n",
       "    </tr>\n",
       "    <tr>\n",
       "      <th>9</th>\n",
       "      <td>YAMAHA CORP</td>\n",
       "      <td>59.1611</td>\n",
       "      <td>None, None, AVG Sentiment: 59.16</td>\n",
       "      <td>0</td>\n",
       "      <td>1</td>\n",
       "    </tr>\n",
       "  </tbody>\n",
       "</table>\n",
       "</div>"
      ],
      "text/plain": [
       "                        node  AVG Sentiment  \\\n",
       "0          AGTHIA GROUP PJSC        68.9931   \n",
       "1     Adani Green Energy Ltd        14.0625   \n",
       "2               Alphabet Inc        12.2685   \n",
       "3           BOMBARDIER INC-A        10.8120   \n",
       "4           BOMBARDIER INC-A        10.8120   \n",
       "5  INMED PHARMACEUTICALS INC       -25.0000   \n",
       "6               Illumina Inc        11.1111   \n",
       "7   Procter & Gamble Company       -55.5556   \n",
       "8                 TEIJIN LTD         7.1429   \n",
       "9                YAMAHA CORP        59.1611   \n",
       "\n",
       "                                          Hover_info  shape_index  size  \n",
       "0  Middle East, United Arab Emirates, AVG Sentime...            0     1  \n",
       "1                  Asia, India, AVG Sentiment: 14.06            0     1  \n",
       "2       Europe, United Kingdom, AVG Sentiment: 12.27            0     1  \n",
       "3             Americas, Canada, AVG Sentiment: 10.81            0     2  \n",
       "4             Americas, Canada, AVG Sentiment: 10.81            0     2  \n",
       "5             Americas, Canada, AVG Sentiment: -25.0            0     1  \n",
       "6       Europe, United Kingdom, AVG Sentiment: 11.11            0     1  \n",
       "7                 Asia, India, AVG Sentiment: -55.56            0     1  \n",
       "8                    None, None, AVG Sentiment: 7.14            0     1  \n",
       "9                   None, None, AVG Sentiment: 59.16            0     1  "
      ]
     },
     "execution_count": 49,
     "metadata": {},
     "output_type": "execute_result"
    }
   ],
   "source": [
    "#entity size\n",
    "node_df1 = pd.merge(node_df1, temp_data, left_on='node', right_on='entity_name')\n",
    "node_df1 = node_df1[['node','AVG Sentiment','Hover_info','shape_index','doc_count_per_entity']]\n",
    "node_df1.rename(columns={'doc_count_per_entity':'size'}, inplace=True)\n",
    "node_df1"
   ]
  },
  {
   "cell_type": "code",
   "execution_count": 50,
   "metadata": {},
   "outputs": [
    {
     "data": {
      "text/html": [
       "<div>\n",
       "<style scoped>\n",
       "    .dataframe tbody tr th:only-of-type {\n",
       "        vertical-align: middle;\n",
       "    }\n",
       "\n",
       "    .dataframe tbody tr th {\n",
       "        vertical-align: top;\n",
       "    }\n",
       "\n",
       "    .dataframe thead th {\n",
       "        text-align: right;\n",
       "    }\n",
       "</style>\n",
       "<table border=\"1\" class=\"dataframe\">\n",
       "  <thead>\n",
       "    <tr style=\"text-align: right;\">\n",
       "      <th></th>\n",
       "      <th>node</th>\n",
       "      <th>AVG Sentiment</th>\n",
       "      <th>Hover_info</th>\n",
       "      <th>shape_index</th>\n",
       "      <th>size</th>\n",
       "    </tr>\n",
       "  </thead>\n",
       "  <tbody>\n",
       "    <tr>\n",
       "      <th>0</th>\n",
       "      <td>Consumer Non Cyclicals</td>\n",
       "      <td>-55.55560</td>\n",
       "      <td>No. Documents: 1, AVG Sentiment: -55.56</td>\n",
       "      <td>5</td>\n",
       "      <td>1</td>\n",
       "    </tr>\n",
       "    <tr>\n",
       "      <th>1</th>\n",
       "      <td>Consumer Staples</td>\n",
       "      <td>68.99310</td>\n",
       "      <td>No. Documents: 1, AVG Sentiment: 68.99</td>\n",
       "      <td>5</td>\n",
       "      <td>1</td>\n",
       "    </tr>\n",
       "    <tr>\n",
       "      <th>2</th>\n",
       "      <td>Healthcare</td>\n",
       "      <td>-6.94445</td>\n",
       "      <td>No. Documents: 2, AVG Sentiment: -6.94</td>\n",
       "      <td>5</td>\n",
       "      <td>2</td>\n",
       "    </tr>\n",
       "    <tr>\n",
       "      <th>3</th>\n",
       "      <td>Healthcare</td>\n",
       "      <td>-6.94445</td>\n",
       "      <td>No. Documents: 2, AVG Sentiment: -6.94</td>\n",
       "      <td>5</td>\n",
       "      <td>2</td>\n",
       "    </tr>\n",
       "    <tr>\n",
       "      <th>4</th>\n",
       "      <td>Industrials</td>\n",
       "      <td>10.81200</td>\n",
       "      <td>No. Documents: 2, AVG Sentiment: 10.81</td>\n",
       "      <td>5</td>\n",
       "      <td>2</td>\n",
       "    </tr>\n",
       "    <tr>\n",
       "      <th>5</th>\n",
       "      <td>Industrials</td>\n",
       "      <td>10.81200</td>\n",
       "      <td>No. Documents: 2, AVG Sentiment: 10.81</td>\n",
       "      <td>5</td>\n",
       "      <td>2</td>\n",
       "    </tr>\n",
       "    <tr>\n",
       "      <th>6</th>\n",
       "      <td>None</td>\n",
       "      <td>33.15200</td>\n",
       "      <td>No. Documents: 2, AVG Sentiment: 33.15</td>\n",
       "      <td>5</td>\n",
       "      <td>2</td>\n",
       "    </tr>\n",
       "    <tr>\n",
       "      <th>7</th>\n",
       "      <td>None</td>\n",
       "      <td>33.15200</td>\n",
       "      <td>No. Documents: 2, AVG Sentiment: 33.15</td>\n",
       "      <td>5</td>\n",
       "      <td>2</td>\n",
       "    </tr>\n",
       "    <tr>\n",
       "      <th>8</th>\n",
       "      <td>Technology</td>\n",
       "      <td>12.26850</td>\n",
       "      <td>No. Documents: 1, AVG Sentiment: 12.27</td>\n",
       "      <td>5</td>\n",
       "      <td>1</td>\n",
       "    </tr>\n",
       "    <tr>\n",
       "      <th>9</th>\n",
       "      <td>Utilities</td>\n",
       "      <td>14.06250</td>\n",
       "      <td>No. Documents: 1, AVG Sentiment: 14.06</td>\n",
       "      <td>5</td>\n",
       "      <td>1</td>\n",
       "    </tr>\n",
       "  </tbody>\n",
       "</table>\n",
       "</div>"
      ],
      "text/plain": [
       "                     node  AVG Sentiment  \\\n",
       "0  Consumer Non Cyclicals      -55.55560   \n",
       "1        Consumer Staples       68.99310   \n",
       "2              Healthcare       -6.94445   \n",
       "3              Healthcare       -6.94445   \n",
       "4             Industrials       10.81200   \n",
       "5             Industrials       10.81200   \n",
       "6                    None       33.15200   \n",
       "7                    None       33.15200   \n",
       "8              Technology       12.26850   \n",
       "9               Utilities       14.06250   \n",
       "\n",
       "                                Hover_info  shape_index  size  \n",
       "0  No. Documents: 1, AVG Sentiment: -55.56            5     1  \n",
       "1   No. Documents: 1, AVG Sentiment: 68.99            5     1  \n",
       "2   No. Documents: 2, AVG Sentiment: -6.94            5     2  \n",
       "3   No. Documents: 2, AVG Sentiment: -6.94            5     2  \n",
       "4   No. Documents: 2, AVG Sentiment: 10.81            5     2  \n",
       "5   No. Documents: 2, AVG Sentiment: 10.81            5     2  \n",
       "6   No. Documents: 2, AVG Sentiment: 33.15            5     2  \n",
       "7   No. Documents: 2, AVG Sentiment: 33.15            5     2  \n",
       "8   No. Documents: 1, AVG Sentiment: 12.27            5     1  \n",
       "9   No. Documents: 1, AVG Sentiment: 14.06            5     1  "
      ]
     },
     "execution_count": 50,
     "metadata": {},
     "output_type": "execute_result"
    }
   ],
   "source": [
    "#sector size \n",
    "node_df2 = pd.merge(node_df2, temp_data, left_on='node', right_on='entity_sector')\n",
    "node_df2 = node_df2[['node','AVG Sentiment','Hover_info','shape_index','doc_count_per_sector']]\n",
    "node_df2.rename(columns={'doc_count_per_sector':'size'}, inplace=True)\n",
    "node_df2"
   ]
  },
  {
   "cell_type": "code",
   "execution_count": 51,
   "metadata": {},
   "outputs": [
    {
     "data": {
      "text/html": [
       "<div>\n",
       "<style scoped>\n",
       "    .dataframe tbody tr th:only-of-type {\n",
       "        vertical-align: middle;\n",
       "    }\n",
       "\n",
       "    .dataframe tbody tr th {\n",
       "        vertical-align: top;\n",
       "    }\n",
       "\n",
       "    .dataframe thead th {\n",
       "        text-align: right;\n",
       "    }\n",
       "</style>\n",
       "<table border=\"1\" class=\"dataframe\">\n",
       "  <thead>\n",
       "    <tr style=\"text-align: right;\">\n",
       "      <th></th>\n",
       "      <th>node</th>\n",
       "      <th>AVG Sentiment</th>\n",
       "      <th>Hover_info</th>\n",
       "      <th>shape_index</th>\n",
       "      <th>size</th>\n",
       "    </tr>\n",
       "  </thead>\n",
       "  <tbody>\n",
       "    <tr>\n",
       "      <th>0</th>\n",
       "      <td>Environment - Energy Management - SASB</td>\n",
       "      <td>30.60658</td>\n",
       "      <td>No. Documents: 5, AVG Sentiment: 30.61</td>\n",
       "      <td>3</td>\n",
       "      <td>5</td>\n",
       "    </tr>\n",
       "    <tr>\n",
       "      <th>1</th>\n",
       "      <td>Environment - Energy Management - SASB</td>\n",
       "      <td>30.60658</td>\n",
       "      <td>No. Documents: 5, AVG Sentiment: 30.61</td>\n",
       "      <td>3</td>\n",
       "      <td>5</td>\n",
       "    </tr>\n",
       "    <tr>\n",
       "      <th>2</th>\n",
       "      <td>Environment - Energy Management - SASB</td>\n",
       "      <td>30.60658</td>\n",
       "      <td>No. Documents: 5, AVG Sentiment: 30.61</td>\n",
       "      <td>3</td>\n",
       "      <td>5</td>\n",
       "    </tr>\n",
       "    <tr>\n",
       "      <th>3</th>\n",
       "      <td>Environment - Energy Management - SASB</td>\n",
       "      <td>30.60658</td>\n",
       "      <td>No. Documents: 5, AVG Sentiment: 30.61</td>\n",
       "      <td>3</td>\n",
       "      <td>5</td>\n",
       "    </tr>\n",
       "    <tr>\n",
       "      <th>4</th>\n",
       "      <td>Environment - Energy Management - SASB</td>\n",
       "      <td>30.60658</td>\n",
       "      <td>No. Documents: 5, AVG Sentiment: 30.61</td>\n",
       "      <td>3</td>\n",
       "      <td>5</td>\n",
       "    </tr>\n",
       "    <tr>\n",
       "      <th>5</th>\n",
       "      <td>Environment - GHG Emissions - SASB</td>\n",
       "      <td>11.80560</td>\n",
       "      <td>No. Documents: 1, AVG Sentiment: 11.81</td>\n",
       "      <td>3</td>\n",
       "      <td>1</td>\n",
       "    </tr>\n",
       "    <tr>\n",
       "      <th>6</th>\n",
       "      <td>Environment - Water Waste Management - SASB</td>\n",
       "      <td>1.04170</td>\n",
       "      <td>No. Documents: 1, AVG Sentiment: 1.04</td>\n",
       "      <td>3</td>\n",
       "      <td>1</td>\n",
       "    </tr>\n",
       "    <tr>\n",
       "      <th>7</th>\n",
       "      <td>Governance - Product Design &amp; Lifecycle Manage...</td>\n",
       "      <td>43.00955</td>\n",
       "      <td>No. Documents: 2, AVG Sentiment: 43.01</td>\n",
       "      <td>17</td>\n",
       "      <td>2</td>\n",
       "    </tr>\n",
       "    <tr>\n",
       "      <th>8</th>\n",
       "      <td>Governance - Product Design &amp; Lifecycle Manage...</td>\n",
       "      <td>43.00955</td>\n",
       "      <td>No. Documents: 2, AVG Sentiment: 43.01</td>\n",
       "      <td>17</td>\n",
       "      <td>2</td>\n",
       "    </tr>\n",
       "    <tr>\n",
       "      <th>9</th>\n",
       "      <td>Social - Data Security - SASB</td>\n",
       "      <td>12.10320</td>\n",
       "      <td>No. Documents: 1, AVG Sentiment: 12.1</td>\n",
       "      <td>4</td>\n",
       "      <td>1</td>\n",
       "    </tr>\n",
       "  </tbody>\n",
       "</table>\n",
       "</div>"
      ],
      "text/plain": [
       "                                                node  AVG Sentiment  \\\n",
       "0             Environment - Energy Management - SASB       30.60658   \n",
       "1             Environment - Energy Management - SASB       30.60658   \n",
       "2             Environment - Energy Management - SASB       30.60658   \n",
       "3             Environment - Energy Management - SASB       30.60658   \n",
       "4             Environment - Energy Management - SASB       30.60658   \n",
       "5                 Environment - GHG Emissions - SASB       11.80560   \n",
       "6        Environment - Water Waste Management - SASB        1.04170   \n",
       "7  Governance - Product Design & Lifecycle Manage...       43.00955   \n",
       "8  Governance - Product Design & Lifecycle Manage...       43.00955   \n",
       "9                      Social - Data Security - SASB       12.10320   \n",
       "\n",
       "                               Hover_info  shape_index  size  \n",
       "0  No. Documents: 5, AVG Sentiment: 30.61            3     5  \n",
       "1  No. Documents: 5, AVG Sentiment: 30.61            3     5  \n",
       "2  No. Documents: 5, AVG Sentiment: 30.61            3     5  \n",
       "3  No. Documents: 5, AVG Sentiment: 30.61            3     5  \n",
       "4  No. Documents: 5, AVG Sentiment: 30.61            3     5  \n",
       "5  No. Documents: 1, AVG Sentiment: 11.81            3     1  \n",
       "6   No. Documents: 1, AVG Sentiment: 1.04            3     1  \n",
       "7  No. Documents: 2, AVG Sentiment: 43.01           17     2  \n",
       "8  No. Documents: 2, AVG Sentiment: 43.01           17     2  \n",
       "9   No. Documents: 1, AVG Sentiment: 12.1            4     1  "
      ]
     },
     "execution_count": 51,
     "metadata": {},
     "output_type": "execute_result"
    }
   ],
   "source": [
    "#event size\n",
    "node_df3 = pd.merge(node_df3, temp_data, left_on='node', right_on='event')\n",
    "node_df3 = node_df3[['node','AVG Sentiment','Hover_info','shape_index','doc_count_per_event']]\n",
    "node_df3.rename(columns={'doc_count_per_event':'size'}, inplace=True)\n",
    "node_df3"
   ]
  },
  {
   "cell_type": "code",
   "execution_count": 52,
   "metadata": {
    "scrolled": true
   },
   "outputs": [],
   "source": [
    "#combining all df\n",
    "all_nodes = pd.concat([node_df1,node_df2,node_df3])"
   ]
  },
  {
   "cell_type": "code",
   "execution_count": 53,
   "metadata": {
    "scrolled": false
   },
   "outputs": [
    {
     "data": {
      "text/html": [
       "<div>\n",
       "<style scoped>\n",
       "    .dataframe tbody tr th:only-of-type {\n",
       "        vertical-align: middle;\n",
       "    }\n",
       "\n",
       "    .dataframe tbody tr th {\n",
       "        vertical-align: top;\n",
       "    }\n",
       "\n",
       "    .dataframe thead th {\n",
       "        text-align: right;\n",
       "    }\n",
       "</style>\n",
       "<table border=\"1\" class=\"dataframe\">\n",
       "  <thead>\n",
       "    <tr style=\"text-align: right;\">\n",
       "      <th></th>\n",
       "      <th>node</th>\n",
       "      <th>AVG Sentiment</th>\n",
       "      <th>Hover_info</th>\n",
       "      <th>shape_index</th>\n",
       "      <th>size</th>\n",
       "      <th>color</th>\n",
       "    </tr>\n",
       "  </thead>\n",
       "  <tbody>\n",
       "    <tr>\n",
       "      <th>0</th>\n",
       "      <td>AGTHIA GROUP PJSC</td>\n",
       "      <td>68.99310</td>\n",
       "      <td>Middle East, United Arab Emirates, AVG Sentime...</td>\n",
       "      <td>0</td>\n",
       "      <td>1</td>\n",
       "      <td>#006400</td>\n",
       "    </tr>\n",
       "    <tr>\n",
       "      <th>1</th>\n",
       "      <td>Adani Green Energy Ltd</td>\n",
       "      <td>14.06250</td>\n",
       "      <td>Asia, India, AVG Sentiment: 14.06</td>\n",
       "      <td>0</td>\n",
       "      <td>1</td>\n",
       "      <td>#90ee90</td>\n",
       "    </tr>\n",
       "    <tr>\n",
       "      <th>2</th>\n",
       "      <td>Alphabet Inc</td>\n",
       "      <td>12.26850</td>\n",
       "      <td>Europe, United Kingdom, AVG Sentiment: 12.27</td>\n",
       "      <td>0</td>\n",
       "      <td>1</td>\n",
       "      <td>#90ee90</td>\n",
       "    </tr>\n",
       "    <tr>\n",
       "      <th>3</th>\n",
       "      <td>BOMBARDIER INC-A</td>\n",
       "      <td>10.81200</td>\n",
       "      <td>Americas, Canada, AVG Sentiment: 10.81</td>\n",
       "      <td>0</td>\n",
       "      <td>2</td>\n",
       "      <td>#90ee90</td>\n",
       "    </tr>\n",
       "    <tr>\n",
       "      <th>4</th>\n",
       "      <td>BOMBARDIER INC-A</td>\n",
       "      <td>10.81200</td>\n",
       "      <td>Americas, Canada, AVG Sentiment: 10.81</td>\n",
       "      <td>0</td>\n",
       "      <td>2</td>\n",
       "      <td>#90ee90</td>\n",
       "    </tr>\n",
       "    <tr>\n",
       "      <th>5</th>\n",
       "      <td>INMED PHARMACEUTICALS INC</td>\n",
       "      <td>-25.00000</td>\n",
       "      <td>Americas, Canada, AVG Sentiment: -25.0</td>\n",
       "      <td>0</td>\n",
       "      <td>1</td>\n",
       "      <td>#ff0000</td>\n",
       "    </tr>\n",
       "    <tr>\n",
       "      <th>6</th>\n",
       "      <td>Illumina Inc</td>\n",
       "      <td>11.11110</td>\n",
       "      <td>Europe, United Kingdom, AVG Sentiment: 11.11</td>\n",
       "      <td>0</td>\n",
       "      <td>1</td>\n",
       "      <td>#90ee90</td>\n",
       "    </tr>\n",
       "    <tr>\n",
       "      <th>7</th>\n",
       "      <td>Procter &amp; Gamble Company</td>\n",
       "      <td>-55.55560</td>\n",
       "      <td>Asia, India, AVG Sentiment: -55.56</td>\n",
       "      <td>0</td>\n",
       "      <td>1</td>\n",
       "      <td>#8b0000</td>\n",
       "    </tr>\n",
       "    <tr>\n",
       "      <th>8</th>\n",
       "      <td>TEIJIN LTD</td>\n",
       "      <td>7.14290</td>\n",
       "      <td>None, None, AVG Sentiment: 7.14</td>\n",
       "      <td>0</td>\n",
       "      <td>1</td>\n",
       "      <td>#ffffff</td>\n",
       "    </tr>\n",
       "    <tr>\n",
       "      <th>9</th>\n",
       "      <td>YAMAHA CORP</td>\n",
       "      <td>59.16110</td>\n",
       "      <td>None, None, AVG Sentiment: 59.16</td>\n",
       "      <td>0</td>\n",
       "      <td>1</td>\n",
       "      <td>#006400</td>\n",
       "    </tr>\n",
       "    <tr>\n",
       "      <th>0</th>\n",
       "      <td>Consumer Non Cyclicals</td>\n",
       "      <td>-55.55560</td>\n",
       "      <td>No. Documents: 1, AVG Sentiment: -55.56</td>\n",
       "      <td>5</td>\n",
       "      <td>1</td>\n",
       "      <td>#8b0000</td>\n",
       "    </tr>\n",
       "    <tr>\n",
       "      <th>1</th>\n",
       "      <td>Consumer Staples</td>\n",
       "      <td>68.99310</td>\n",
       "      <td>No. Documents: 1, AVG Sentiment: 68.99</td>\n",
       "      <td>5</td>\n",
       "      <td>1</td>\n",
       "      <td>#006400</td>\n",
       "    </tr>\n",
       "    <tr>\n",
       "      <th>2</th>\n",
       "      <td>Healthcare</td>\n",
       "      <td>-6.94445</td>\n",
       "      <td>No. Documents: 2, AVG Sentiment: -6.94</td>\n",
       "      <td>5</td>\n",
       "      <td>2</td>\n",
       "      <td>#ffffff</td>\n",
       "    </tr>\n",
       "    <tr>\n",
       "      <th>3</th>\n",
       "      <td>Healthcare</td>\n",
       "      <td>-6.94445</td>\n",
       "      <td>No. Documents: 2, AVG Sentiment: -6.94</td>\n",
       "      <td>5</td>\n",
       "      <td>2</td>\n",
       "      <td>#ffffff</td>\n",
       "    </tr>\n",
       "    <tr>\n",
       "      <th>4</th>\n",
       "      <td>Industrials</td>\n",
       "      <td>10.81200</td>\n",
       "      <td>No. Documents: 2, AVG Sentiment: 10.81</td>\n",
       "      <td>5</td>\n",
       "      <td>2</td>\n",
       "      <td>#90ee90</td>\n",
       "    </tr>\n",
       "    <tr>\n",
       "      <th>5</th>\n",
       "      <td>Industrials</td>\n",
       "      <td>10.81200</td>\n",
       "      <td>No. Documents: 2, AVG Sentiment: 10.81</td>\n",
       "      <td>5</td>\n",
       "      <td>2</td>\n",
       "      <td>#90ee90</td>\n",
       "    </tr>\n",
       "    <tr>\n",
       "      <th>6</th>\n",
       "      <td>None</td>\n",
       "      <td>33.15200</td>\n",
       "      <td>No. Documents: 2, AVG Sentiment: 33.15</td>\n",
       "      <td>5</td>\n",
       "      <td>2</td>\n",
       "      <td>#90ee90</td>\n",
       "    </tr>\n",
       "    <tr>\n",
       "      <th>7</th>\n",
       "      <td>None</td>\n",
       "      <td>33.15200</td>\n",
       "      <td>No. Documents: 2, AVG Sentiment: 33.15</td>\n",
       "      <td>5</td>\n",
       "      <td>2</td>\n",
       "      <td>#90ee90</td>\n",
       "    </tr>\n",
       "    <tr>\n",
       "      <th>8</th>\n",
       "      <td>Technology</td>\n",
       "      <td>12.26850</td>\n",
       "      <td>No. Documents: 1, AVG Sentiment: 12.27</td>\n",
       "      <td>5</td>\n",
       "      <td>1</td>\n",
       "      <td>#90ee90</td>\n",
       "    </tr>\n",
       "    <tr>\n",
       "      <th>9</th>\n",
       "      <td>Utilities</td>\n",
       "      <td>14.06250</td>\n",
       "      <td>No. Documents: 1, AVG Sentiment: 14.06</td>\n",
       "      <td>5</td>\n",
       "      <td>1</td>\n",
       "      <td>#90ee90</td>\n",
       "    </tr>\n",
       "    <tr>\n",
       "      <th>0</th>\n",
       "      <td>Environment - Energy Management - SASB</td>\n",
       "      <td>30.60658</td>\n",
       "      <td>No. Documents: 5, AVG Sentiment: 30.61</td>\n",
       "      <td>3</td>\n",
       "      <td>5</td>\n",
       "      <td>#90ee90</td>\n",
       "    </tr>\n",
       "    <tr>\n",
       "      <th>1</th>\n",
       "      <td>Environment - Energy Management - SASB</td>\n",
       "      <td>30.60658</td>\n",
       "      <td>No. Documents: 5, AVG Sentiment: 30.61</td>\n",
       "      <td>3</td>\n",
       "      <td>5</td>\n",
       "      <td>#90ee90</td>\n",
       "    </tr>\n",
       "    <tr>\n",
       "      <th>2</th>\n",
       "      <td>Environment - Energy Management - SASB</td>\n",
       "      <td>30.60658</td>\n",
       "      <td>No. Documents: 5, AVG Sentiment: 30.61</td>\n",
       "      <td>3</td>\n",
       "      <td>5</td>\n",
       "      <td>#90ee90</td>\n",
       "    </tr>\n",
       "    <tr>\n",
       "      <th>3</th>\n",
       "      <td>Environment - Energy Management - SASB</td>\n",
       "      <td>30.60658</td>\n",
       "      <td>No. Documents: 5, AVG Sentiment: 30.61</td>\n",
       "      <td>3</td>\n",
       "      <td>5</td>\n",
       "      <td>#90ee90</td>\n",
       "    </tr>\n",
       "    <tr>\n",
       "      <th>4</th>\n",
       "      <td>Environment - Energy Management - SASB</td>\n",
       "      <td>30.60658</td>\n",
       "      <td>No. Documents: 5, AVG Sentiment: 30.61</td>\n",
       "      <td>3</td>\n",
       "      <td>5</td>\n",
       "      <td>#90ee90</td>\n",
       "    </tr>\n",
       "    <tr>\n",
       "      <th>5</th>\n",
       "      <td>Environment - GHG Emissions - SASB</td>\n",
       "      <td>11.80560</td>\n",
       "      <td>No. Documents: 1, AVG Sentiment: 11.81</td>\n",
       "      <td>3</td>\n",
       "      <td>1</td>\n",
       "      <td>#90ee90</td>\n",
       "    </tr>\n",
       "    <tr>\n",
       "      <th>6</th>\n",
       "      <td>Environment - Water Waste Management - SASB</td>\n",
       "      <td>1.04170</td>\n",
       "      <td>No. Documents: 1, AVG Sentiment: 1.04</td>\n",
       "      <td>3</td>\n",
       "      <td>1</td>\n",
       "      <td>#ffffff</td>\n",
       "    </tr>\n",
       "    <tr>\n",
       "      <th>7</th>\n",
       "      <td>Governance - Product Design &amp; Lifecycle Manage...</td>\n",
       "      <td>43.00955</td>\n",
       "      <td>No. Documents: 2, AVG Sentiment: 43.01</td>\n",
       "      <td>17</td>\n",
       "      <td>2</td>\n",
       "      <td>#90ee90</td>\n",
       "    </tr>\n",
       "    <tr>\n",
       "      <th>8</th>\n",
       "      <td>Governance - Product Design &amp; Lifecycle Manage...</td>\n",
       "      <td>43.00955</td>\n",
       "      <td>No. Documents: 2, AVG Sentiment: 43.01</td>\n",
       "      <td>17</td>\n",
       "      <td>2</td>\n",
       "      <td>#90ee90</td>\n",
       "    </tr>\n",
       "    <tr>\n",
       "      <th>9</th>\n",
       "      <td>Social - Data Security - SASB</td>\n",
       "      <td>12.10320</td>\n",
       "      <td>No. Documents: 1, AVG Sentiment: 12.1</td>\n",
       "      <td>4</td>\n",
       "      <td>1</td>\n",
       "      <td>#90ee90</td>\n",
       "    </tr>\n",
       "  </tbody>\n",
       "</table>\n",
       "</div>"
      ],
      "text/plain": [
       "                                                node  AVG Sentiment  \\\n",
       "0                                  AGTHIA GROUP PJSC       68.99310   \n",
       "1                             Adani Green Energy Ltd       14.06250   \n",
       "2                                       Alphabet Inc       12.26850   \n",
       "3                                   BOMBARDIER INC-A       10.81200   \n",
       "4                                   BOMBARDIER INC-A       10.81200   \n",
       "5                          INMED PHARMACEUTICALS INC      -25.00000   \n",
       "6                                       Illumina Inc       11.11110   \n",
       "7                           Procter & Gamble Company      -55.55560   \n",
       "8                                         TEIJIN LTD        7.14290   \n",
       "9                                        YAMAHA CORP       59.16110   \n",
       "0                             Consumer Non Cyclicals      -55.55560   \n",
       "1                                   Consumer Staples       68.99310   \n",
       "2                                         Healthcare       -6.94445   \n",
       "3                                         Healthcare       -6.94445   \n",
       "4                                        Industrials       10.81200   \n",
       "5                                        Industrials       10.81200   \n",
       "6                                               None       33.15200   \n",
       "7                                               None       33.15200   \n",
       "8                                         Technology       12.26850   \n",
       "9                                          Utilities       14.06250   \n",
       "0             Environment - Energy Management - SASB       30.60658   \n",
       "1             Environment - Energy Management - SASB       30.60658   \n",
       "2             Environment - Energy Management - SASB       30.60658   \n",
       "3             Environment - Energy Management - SASB       30.60658   \n",
       "4             Environment - Energy Management - SASB       30.60658   \n",
       "5                 Environment - GHG Emissions - SASB       11.80560   \n",
       "6        Environment - Water Waste Management - SASB        1.04170   \n",
       "7  Governance - Product Design & Lifecycle Manage...       43.00955   \n",
       "8  Governance - Product Design & Lifecycle Manage...       43.00955   \n",
       "9                      Social - Data Security - SASB       12.10320   \n",
       "\n",
       "                                          Hover_info  shape_index  size  \\\n",
       "0  Middle East, United Arab Emirates, AVG Sentime...            0     1   \n",
       "1                  Asia, India, AVG Sentiment: 14.06            0     1   \n",
       "2       Europe, United Kingdom, AVG Sentiment: 12.27            0     1   \n",
       "3             Americas, Canada, AVG Sentiment: 10.81            0     2   \n",
       "4             Americas, Canada, AVG Sentiment: 10.81            0     2   \n",
       "5             Americas, Canada, AVG Sentiment: -25.0            0     1   \n",
       "6       Europe, United Kingdom, AVG Sentiment: 11.11            0     1   \n",
       "7                 Asia, India, AVG Sentiment: -55.56            0     1   \n",
       "8                    None, None, AVG Sentiment: 7.14            0     1   \n",
       "9                   None, None, AVG Sentiment: 59.16            0     1   \n",
       "0            No. Documents: 1, AVG Sentiment: -55.56            5     1   \n",
       "1             No. Documents: 1, AVG Sentiment: 68.99            5     1   \n",
       "2             No. Documents: 2, AVG Sentiment: -6.94            5     2   \n",
       "3             No. Documents: 2, AVG Sentiment: -6.94            5     2   \n",
       "4             No. Documents: 2, AVG Sentiment: 10.81            5     2   \n",
       "5             No. Documents: 2, AVG Sentiment: 10.81            5     2   \n",
       "6             No. Documents: 2, AVG Sentiment: 33.15            5     2   \n",
       "7             No. Documents: 2, AVG Sentiment: 33.15            5     2   \n",
       "8             No. Documents: 1, AVG Sentiment: 12.27            5     1   \n",
       "9             No. Documents: 1, AVG Sentiment: 14.06            5     1   \n",
       "0             No. Documents: 5, AVG Sentiment: 30.61            3     5   \n",
       "1             No. Documents: 5, AVG Sentiment: 30.61            3     5   \n",
       "2             No. Documents: 5, AVG Sentiment: 30.61            3     5   \n",
       "3             No. Documents: 5, AVG Sentiment: 30.61            3     5   \n",
       "4             No. Documents: 5, AVG Sentiment: 30.61            3     5   \n",
       "5             No. Documents: 1, AVG Sentiment: 11.81            3     1   \n",
       "6              No. Documents: 1, AVG Sentiment: 1.04            3     1   \n",
       "7             No. Documents: 2, AVG Sentiment: 43.01           17     2   \n",
       "8             No. Documents: 2, AVG Sentiment: 43.01           17     2   \n",
       "9              No. Documents: 1, AVG Sentiment: 12.1            4     1   \n",
       "\n",
       "     color  \n",
       "0  #006400  \n",
       "1  #90ee90  \n",
       "2  #90ee90  \n",
       "3  #90ee90  \n",
       "4  #90ee90  \n",
       "5  #ff0000  \n",
       "6  #90ee90  \n",
       "7  #8b0000  \n",
       "8  #ffffff  \n",
       "9  #006400  \n",
       "0  #8b0000  \n",
       "1  #006400  \n",
       "2  #ffffff  \n",
       "3  #ffffff  \n",
       "4  #90ee90  \n",
       "5  #90ee90  \n",
       "6  #90ee90  \n",
       "7  #90ee90  \n",
       "8  #90ee90  \n",
       "9  #90ee90  \n",
       "0  #90ee90  \n",
       "1  #90ee90  \n",
       "2  #90ee90  \n",
       "3  #90ee90  \n",
       "4  #90ee90  \n",
       "5  #90ee90  \n",
       "6  #ffffff  \n",
       "7  #90ee90  \n",
       "8  #90ee90  \n",
       "9  #90ee90  "
      ]
     },
     "execution_count": 53,
     "metadata": {},
     "output_type": "execute_result"
    }
   ],
   "source": [
    "#binning the sentiments values \n",
    "# -100 to -50 --> dark red\n",
    "# -50 to -10 --> red\n",
    "# -10 to 10 --> white\n",
    "# 10 to 50 --> green\n",
    "# 50 to 100 --> dark green\n",
    "\n",
    "all_nodes['color'] = np.where(all_nodes['AVG Sentiment'] > 50, '#006400',\n",
    "                                                   (np.where(all_nodes['AVG Sentiment'] > 10, '#90ee90',\n",
    "                                                        (np.where(all_nodes['AVG Sentiment'] > -10, '#ffffff',\n",
    "                                                             (np.where(all_nodes['AVG Sentiment'] > -50 , '#ff0000', '#8b0000')))))))\n",
    "\n",
    "all_nodes"
   ]
  },
  {
   "cell_type": "code",
   "execution_count": 54,
   "metadata": {},
   "outputs": [
    {
     "name": "stdout",
     "output_type": "stream",
     "text": [
      "Middle East<br>United Arab Emirates<br>AVG Sentiment: 68.99\n",
      "Asia<br>India<br>AVG Sentiment: 14.06\n",
      "Europe<br>United Kingdom<br>AVG Sentiment: 12.27\n",
      "Americas<br>Canada<br>AVG Sentiment: 10.81\n",
      "Americas<br>Canada<br>AVG Sentiment: 10.81\n",
      "Americas<br>Canada<br>AVG Sentiment: -25.0\n",
      "Europe<br>United Kingdom<br>AVG Sentiment: 11.11\n",
      "Asia<br>India<br>AVG Sentiment: -55.56\n",
      "None<br>None<br>AVG Sentiment: 7.14\n",
      "None<br>None<br>AVG Sentiment: 59.16\n",
      "No. Documents: 1<br>AVG Sentiment: -55.56\n",
      "No. Documents: 1<br>AVG Sentiment: 68.99\n",
      "No. Documents: 2<br>AVG Sentiment: -6.94\n",
      "No. Documents: 2<br>AVG Sentiment: -6.94\n",
      "No. Documents: 2<br>AVG Sentiment: 10.81\n",
      "No. Documents: 2<br>AVG Sentiment: 10.81\n",
      "No. Documents: 2<br>AVG Sentiment: 33.15\n",
      "No. Documents: 2<br>AVG Sentiment: 33.15\n",
      "No. Documents: 1<br>AVG Sentiment: 12.27\n",
      "No. Documents: 1<br>AVG Sentiment: 14.06\n",
      "No. Documents: 5<br>AVG Sentiment: 30.61\n",
      "No. Documents: 5<br>AVG Sentiment: 30.61\n",
      "No. Documents: 5<br>AVG Sentiment: 30.61\n",
      "No. Documents: 5<br>AVG Sentiment: 30.61\n",
      "No. Documents: 5<br>AVG Sentiment: 30.61\n",
      "No. Documents: 1<br>AVG Sentiment: 11.81\n",
      "No. Documents: 1<br>AVG Sentiment: 1.04\n",
      "No. Documents: 2<br>AVG Sentiment: 43.01\n",
      "No. Documents: 2<br>AVG Sentiment: 43.01\n",
      "No. Documents: 1<br>AVG Sentiment: 12.1\n"
     ]
    }
   ],
   "source": [
    "for n in range(len(all_nodes)):\n",
    "    spl = str(all_nodes.iloc[n, 2]).split(\", \")\n",
    "    info = \"<br>\".join(spl)\n",
    "    print(info)"
   ]
  },
  {
   "cell_type": "code",
   "execution_count": 55,
   "metadata": {},
   "outputs": [],
   "source": [
    "#for n in range(len(all_nodes)):\n",
    "#    spl = str(all_nodes.iloc[n, 2]).split(\",\")\n",
    "#    all_nodes['Hover_info'] = \"\\n\".join(spl)\n",
    "#    print(all_nodes['Hover_info'])"
   ]
  },
  {
   "cell_type": "code",
   "execution_count": 56,
   "metadata": {
    "scrolled": false
   },
   "outputs": [
    {
     "data": {
      "text/plain": [
       "0                                    AGTHIA GROUP PJSC\n",
       "1                               Adani Green Energy Ltd\n",
       "2                                         Alphabet Inc\n",
       "3                                     BOMBARDIER INC-A\n",
       "4                                     BOMBARDIER INC-A\n",
       "5                            INMED PHARMACEUTICALS INC\n",
       "6                                         Illumina Inc\n",
       "7                             Procter & Gamble Company\n",
       "8                                           TEIJIN LTD\n",
       "9                                          YAMAHA CORP\n",
       "0                               Consumer Non Cyclicals\n",
       "1                                     Consumer Staples\n",
       "2                                           Healthcare\n",
       "3                                           Healthcare\n",
       "4                                          Industrials\n",
       "5                                          Industrials\n",
       "6                                                 None\n",
       "7                                                 None\n",
       "8                                           Technology\n",
       "9                                            Utilities\n",
       "0               Environment - Energy Management - SASB\n",
       "1               Environment - Energy Management - SASB\n",
       "2               Environment - Energy Management - SASB\n",
       "3               Environment - Energy Management - SASB\n",
       "4               Environment - Energy Management - SASB\n",
       "5                   Environment - GHG Emissions - SASB\n",
       "6          Environment - Water Waste Management - SASB\n",
       "7    Governance - Product Design & Lifecycle Manage...\n",
       "8    Governance - Product Design & Lifecycle Manage...\n",
       "9                        Social - Data Security - SASB\n",
       "Name: node, dtype: object"
      ]
     },
     "execution_count": 56,
     "metadata": {},
     "output_type": "execute_result"
    }
   ],
   "source": [
    "nodes_list=all_nodes['node']\n",
    "nodes_list"
   ]
  },
  {
   "cell_type": "markdown",
   "metadata": {},
   "source": [
    "### Sentiment Filtering"
   ]
  },
  {
   "cell_type": "code",
   "execution_count": 57,
   "metadata": {},
   "outputs": [],
   "source": [
    "#AND FILTERS based on All Nodes to find specific sentiment ranges\n",
    "#all_nodes = all_nodes[(all_nodes['AVG Sentiment'] >= -30) & (all_nodes['AVG Sentiment']<= 100)]\n",
    "\n",
    "#all_nodes"
   ]
  },
  {
   "cell_type": "markdown",
   "metadata": {},
   "source": [
    "### Edge Width"
   ]
  },
  {
   "cell_type": "code",
   "execution_count": 58,
   "metadata": {},
   "outputs": [],
   "source": [
    "entity_event_df_d = data.groupby(['entity_name', 'event'])['doc_id'].count().reset_index(name = 'doc_count')"
   ]
  },
  {
   "cell_type": "code",
   "execution_count": 59,
   "metadata": {},
   "outputs": [
    {
     "name": "stderr",
     "output_type": "stream",
     "text": [
      "/Users/shashank/opt/anaconda3/envs/Anomaly/lib/python3.7/site-packages/seaborn/_decorators.py:43: FutureWarning:\n",
      "\n",
      "Pass the following variable as a keyword arg: x. From version 0.12, the only valid positional argument will be `data`, and passing other arguments without an explicit keyword will result in an error or misinterpretation.\n",
      "\n"
     ]
    },
    {
     "data": {
      "text/plain": [
       "<AxesSubplot:xlabel='doc_count'>"
      ]
     },
     "execution_count": 59,
     "metadata": {},
     "output_type": "execute_result"
    },
    {
     "data": {
      "image/png": "[encoded data removed]",
      "text/plain": [
       "<Figure size 432x288 with 1 Axes>"
      ]
     },
     "metadata": {
      "needs_background": "light"
     },
     "output_type": "display_data"
    }
   ],
   "source": [
    "sns.boxplot(entity_event_df_d['doc_count'])"
   ]
  },
  {
   "cell_type": "markdown",
   "metadata": {},
   "source": [
    "#### Binning the document counts for edge width as following:\n",
    "\n",
    "* less than 2500 -> 0.5\n",
    "* 2500-5000 -> 2.5\n",
    "* greater than 5000 -> 5.0"
   ]
  },
  {
   "cell_type": "markdown",
   "metadata": {},
   "source": [
    "### Entity - Event Document Count"
   ]
  },
  {
   "cell_type": "code",
   "execution_count": 60,
   "metadata": {},
   "outputs": [
    {
     "data": {
      "text/html": [
       "<div>\n",
       "<style scoped>\n",
       "    .dataframe tbody tr th:only-of-type {\n",
       "        vertical-align: middle;\n",
       "    }\n",
       "\n",
       "    .dataframe tbody tr th {\n",
       "        vertical-align: top;\n",
       "    }\n",
       "\n",
       "    .dataframe thead th {\n",
       "        text-align: right;\n",
       "    }\n",
       "</style>\n",
       "<table border=\"1\" class=\"dataframe\">\n",
       "  <thead>\n",
       "    <tr style=\"text-align: right;\">\n",
       "      <th></th>\n",
       "      <th>entity_name</th>\n",
       "      <th>event</th>\n",
       "      <th>doc_count</th>\n",
       "    </tr>\n",
       "  </thead>\n",
       "  <tbody>\n",
       "    <tr>\n",
       "      <th>0</th>\n",
       "      <td>AGTHIA GROUP PJSC</td>\n",
       "      <td>Environment - Energy Management - SASB</td>\n",
       "      <td>1</td>\n",
       "    </tr>\n",
       "    <tr>\n",
       "      <th>1</th>\n",
       "      <td>Adani Green Energy Ltd</td>\n",
       "      <td>Environment - Energy Management - SASB</td>\n",
       "      <td>1</td>\n",
       "    </tr>\n",
       "    <tr>\n",
       "      <th>2</th>\n",
       "      <td>Alphabet Inc</td>\n",
       "      <td>Governance - Product Design &amp; Lifecycle Manage...</td>\n",
       "      <td>1</td>\n",
       "    </tr>\n",
       "    <tr>\n",
       "      <th>3</th>\n",
       "      <td>BOMBARDIER INC-A</td>\n",
       "      <td>Environment - Energy Management - SASB</td>\n",
       "      <td>2</td>\n",
       "    </tr>\n",
       "    <tr>\n",
       "      <th>4</th>\n",
       "      <td>INMED PHARMACEUTICALS INC</td>\n",
       "      <td>Environment - Water Waste Management - SASB</td>\n",
       "      <td>1</td>\n",
       "    </tr>\n",
       "    <tr>\n",
       "      <th>5</th>\n",
       "      <td>Illumina Inc</td>\n",
       "      <td>Environment - Energy Management - SASB</td>\n",
       "      <td>1</td>\n",
       "    </tr>\n",
       "    <tr>\n",
       "      <th>6</th>\n",
       "      <td>Procter &amp; Gamble Company</td>\n",
       "      <td>Environment - GHG Emissions - SASB</td>\n",
       "      <td>1</td>\n",
       "    </tr>\n",
       "    <tr>\n",
       "      <th>7</th>\n",
       "      <td>TEIJIN LTD</td>\n",
       "      <td>Social - Data Security - SASB</td>\n",
       "      <td>1</td>\n",
       "    </tr>\n",
       "    <tr>\n",
       "      <th>8</th>\n",
       "      <td>YAMAHA CORP</td>\n",
       "      <td>Governance - Product Design &amp; Lifecycle Manage...</td>\n",
       "      <td>1</td>\n",
       "    </tr>\n",
       "  </tbody>\n",
       "</table>\n",
       "</div>"
      ],
      "text/plain": [
       "                 entity_name  \\\n",
       "0          AGTHIA GROUP PJSC   \n",
       "1     Adani Green Energy Ltd   \n",
       "2               Alphabet Inc   \n",
       "3           BOMBARDIER INC-A   \n",
       "4  INMED PHARMACEUTICALS INC   \n",
       "5               Illumina Inc   \n",
       "6   Procter & Gamble Company   \n",
       "7                 TEIJIN LTD   \n",
       "8                YAMAHA CORP   \n",
       "\n",
       "                                               event  doc_count  \n",
       "0             Environment - Energy Management - SASB          1  \n",
       "1             Environment - Energy Management - SASB          1  \n",
       "2  Governance - Product Design & Lifecycle Manage...          1  \n",
       "3             Environment - Energy Management - SASB          2  \n",
       "4        Environment - Water Waste Management - SASB          1  \n",
       "5             Environment - Energy Management - SASB          1  \n",
       "6                 Environment - GHG Emissions - SASB          1  \n",
       "7                      Social - Data Security - SASB          1  \n",
       "8  Governance - Product Design & Lifecycle Manage...          1  "
      ]
     },
     "execution_count": 60,
     "metadata": {},
     "output_type": "execute_result"
    }
   ],
   "source": [
    "entity_event_df = temp_data.groupby(['entity_name', 'event'])['doc_id'].count().reset_index(name = 'doc_count')\n",
    "entity_event_df"
   ]
  },
  {
   "cell_type": "code",
   "execution_count": 61,
   "metadata": {},
   "outputs": [],
   "source": [
    "entity_event_df['edge_width'] = np.where(entity_event_df['doc_count'] > 5000, 5.0,\n",
    "                                                   (np.where(entity_event_df['doc_count'] > 2500, 2.5, 0.5)))"
   ]
  },
  {
   "cell_type": "code",
   "execution_count": 62,
   "metadata": {
    "scrolled": true
   },
   "outputs": [],
   "source": [
    "entity_event_df = entity_event_df.rename(columns = {'entity_name': 'source', 'event' : 'destination'})"
   ]
  },
  {
   "cell_type": "markdown",
   "metadata": {},
   "source": [
    "### Entity - Sector Document Count"
   ]
  },
  {
   "cell_type": "code",
   "execution_count": 63,
   "metadata": {},
   "outputs": [
    {
     "data": {
      "text/html": [
       "<div>\n",
       "<style scoped>\n",
       "    .dataframe tbody tr th:only-of-type {\n",
       "        vertical-align: middle;\n",
       "    }\n",
       "\n",
       "    .dataframe tbody tr th {\n",
       "        vertical-align: top;\n",
       "    }\n",
       "\n",
       "    .dataframe thead th {\n",
       "        text-align: right;\n",
       "    }\n",
       "</style>\n",
       "<table border=\"1\" class=\"dataframe\">\n",
       "  <thead>\n",
       "    <tr style=\"text-align: right;\">\n",
       "      <th></th>\n",
       "      <th>entity_name</th>\n",
       "      <th>entity_sector</th>\n",
       "      <th>doc_count</th>\n",
       "    </tr>\n",
       "  </thead>\n",
       "  <tbody>\n",
       "    <tr>\n",
       "      <th>0</th>\n",
       "      <td>AGTHIA GROUP PJSC</td>\n",
       "      <td>Consumer Staples</td>\n",
       "      <td>1</td>\n",
       "    </tr>\n",
       "    <tr>\n",
       "      <th>1</th>\n",
       "      <td>Adani Green Energy Ltd</td>\n",
       "      <td>Utilities</td>\n",
       "      <td>1</td>\n",
       "    </tr>\n",
       "    <tr>\n",
       "      <th>2</th>\n",
       "      <td>Alphabet Inc</td>\n",
       "      <td>Technology</td>\n",
       "      <td>1</td>\n",
       "    </tr>\n",
       "    <tr>\n",
       "      <th>3</th>\n",
       "      <td>BOMBARDIER INC-A</td>\n",
       "      <td>Industrials</td>\n",
       "      <td>2</td>\n",
       "    </tr>\n",
       "    <tr>\n",
       "      <th>4</th>\n",
       "      <td>INMED PHARMACEUTICALS INC</td>\n",
       "      <td>Healthcare</td>\n",
       "      <td>1</td>\n",
       "    </tr>\n",
       "    <tr>\n",
       "      <th>5</th>\n",
       "      <td>Illumina Inc</td>\n",
       "      <td>Healthcare</td>\n",
       "      <td>1</td>\n",
       "    </tr>\n",
       "    <tr>\n",
       "      <th>6</th>\n",
       "      <td>Procter &amp; Gamble Company</td>\n",
       "      <td>Consumer Non Cyclicals</td>\n",
       "      <td>1</td>\n",
       "    </tr>\n",
       "    <tr>\n",
       "      <th>7</th>\n",
       "      <td>TEIJIN LTD</td>\n",
       "      <td>None</td>\n",
       "      <td>1</td>\n",
       "    </tr>\n",
       "    <tr>\n",
       "      <th>8</th>\n",
       "      <td>YAMAHA CORP</td>\n",
       "      <td>None</td>\n",
       "      <td>1</td>\n",
       "    </tr>\n",
       "  </tbody>\n",
       "</table>\n",
       "</div>"
      ],
      "text/plain": [
       "                 entity_name           entity_sector  doc_count\n",
       "0          AGTHIA GROUP PJSC        Consumer Staples          1\n",
       "1     Adani Green Energy Ltd               Utilities          1\n",
       "2               Alphabet Inc              Technology          1\n",
       "3           BOMBARDIER INC-A             Industrials          2\n",
       "4  INMED PHARMACEUTICALS INC              Healthcare          1\n",
       "5               Illumina Inc              Healthcare          1\n",
       "6   Procter & Gamble Company  Consumer Non Cyclicals          1\n",
       "7                 TEIJIN LTD                    None          1\n",
       "8                YAMAHA CORP                    None          1"
      ]
     },
     "execution_count": 63,
     "metadata": {},
     "output_type": "execute_result"
    }
   ],
   "source": [
    "entity_sector_df = temp_data.groupby(['entity_name', 'entity_sector'])['doc_id'].count().reset_index(name = 'doc_count')\n",
    "entity_sector_df"
   ]
  },
  {
   "cell_type": "code",
   "execution_count": 64,
   "metadata": {},
   "outputs": [],
   "source": [
    "entity_sector_df['edge_width'] = 1      # since one-to-one relation"
   ]
  },
  {
   "cell_type": "code",
   "execution_count": 65,
   "metadata": {},
   "outputs": [
    {
     "data": {
      "text/html": [
       "<div>\n",
       "<style scoped>\n",
       "    .dataframe tbody tr th:only-of-type {\n",
       "        vertical-align: middle;\n",
       "    }\n",
       "\n",
       "    .dataframe tbody tr th {\n",
       "        vertical-align: top;\n",
       "    }\n",
       "\n",
       "    .dataframe thead th {\n",
       "        text-align: right;\n",
       "    }\n",
       "</style>\n",
       "<table border=\"1\" class=\"dataframe\">\n",
       "  <thead>\n",
       "    <tr style=\"text-align: right;\">\n",
       "      <th></th>\n",
       "      <th>entity_name</th>\n",
       "      <th>entity_sector</th>\n",
       "      <th>doc_count</th>\n",
       "      <th>edge_width</th>\n",
       "    </tr>\n",
       "  </thead>\n",
       "  <tbody>\n",
       "    <tr>\n",
       "      <th>0</th>\n",
       "      <td>AGTHIA GROUP PJSC</td>\n",
       "      <td>Consumer Staples</td>\n",
       "      <td>1</td>\n",
       "      <td>1</td>\n",
       "    </tr>\n",
       "    <tr>\n",
       "      <th>1</th>\n",
       "      <td>Adani Green Energy Ltd</td>\n",
       "      <td>Utilities</td>\n",
       "      <td>1</td>\n",
       "      <td>1</td>\n",
       "    </tr>\n",
       "    <tr>\n",
       "      <th>2</th>\n",
       "      <td>Alphabet Inc</td>\n",
       "      <td>Technology</td>\n",
       "      <td>1</td>\n",
       "      <td>1</td>\n",
       "    </tr>\n",
       "    <tr>\n",
       "      <th>3</th>\n",
       "      <td>BOMBARDIER INC-A</td>\n",
       "      <td>Industrials</td>\n",
       "      <td>2</td>\n",
       "      <td>1</td>\n",
       "    </tr>\n",
       "    <tr>\n",
       "      <th>4</th>\n",
       "      <td>INMED PHARMACEUTICALS INC</td>\n",
       "      <td>Healthcare</td>\n",
       "      <td>1</td>\n",
       "      <td>1</td>\n",
       "    </tr>\n",
       "    <tr>\n",
       "      <th>5</th>\n",
       "      <td>Illumina Inc</td>\n",
       "      <td>Healthcare</td>\n",
       "      <td>1</td>\n",
       "      <td>1</td>\n",
       "    </tr>\n",
       "    <tr>\n",
       "      <th>6</th>\n",
       "      <td>Procter &amp; Gamble Company</td>\n",
       "      <td>Consumer Non Cyclicals</td>\n",
       "      <td>1</td>\n",
       "      <td>1</td>\n",
       "    </tr>\n",
       "    <tr>\n",
       "      <th>7</th>\n",
       "      <td>TEIJIN LTD</td>\n",
       "      <td>None</td>\n",
       "      <td>1</td>\n",
       "      <td>1</td>\n",
       "    </tr>\n",
       "    <tr>\n",
       "      <th>8</th>\n",
       "      <td>YAMAHA CORP</td>\n",
       "      <td>None</td>\n",
       "      <td>1</td>\n",
       "      <td>1</td>\n",
       "    </tr>\n",
       "  </tbody>\n",
       "</table>\n",
       "</div>"
      ],
      "text/plain": [
       "                 entity_name           entity_sector  doc_count  edge_width\n",
       "0          AGTHIA GROUP PJSC        Consumer Staples          1           1\n",
       "1     Adani Green Energy Ltd               Utilities          1           1\n",
       "2               Alphabet Inc              Technology          1           1\n",
       "3           BOMBARDIER INC-A             Industrials          2           1\n",
       "4  INMED PHARMACEUTICALS INC              Healthcare          1           1\n",
       "5               Illumina Inc              Healthcare          1           1\n",
       "6   Procter & Gamble Company  Consumer Non Cyclicals          1           1\n",
       "7                 TEIJIN LTD                    None          1           1\n",
       "8                YAMAHA CORP                    None          1           1"
      ]
     },
     "execution_count": 65,
     "metadata": {},
     "output_type": "execute_result"
    }
   ],
   "source": [
    "entity_sector_df"
   ]
  },
  {
   "cell_type": "code",
   "execution_count": 66,
   "metadata": {},
   "outputs": [],
   "source": [
    "entity_sector_df = entity_sector_df.rename(columns = { 'entity_sector' : 'source', 'entity_name': 'destination'})"
   ]
  },
  {
   "cell_type": "markdown",
   "metadata": {},
   "source": [
    "### Concatenating above 2 dfs to create a consolidated dataframe of edges"
   ]
  },
  {
   "cell_type": "code",
   "execution_count": 67,
   "metadata": {},
   "outputs": [
    {
     "data": {
      "text/html": [
       "<div>\n",
       "<style scoped>\n",
       "    .dataframe tbody tr th:only-of-type {\n",
       "        vertical-align: middle;\n",
       "    }\n",
       "\n",
       "    .dataframe tbody tr th {\n",
       "        vertical-align: top;\n",
       "    }\n",
       "\n",
       "    .dataframe thead th {\n",
       "        text-align: right;\n",
       "    }\n",
       "</style>\n",
       "<table border=\"1\" class=\"dataframe\">\n",
       "  <thead>\n",
       "    <tr style=\"text-align: right;\">\n",
       "      <th></th>\n",
       "      <th>source</th>\n",
       "      <th>destination</th>\n",
       "      <th>doc_count</th>\n",
       "      <th>edge_width</th>\n",
       "    </tr>\n",
       "  </thead>\n",
       "  <tbody>\n",
       "    <tr>\n",
       "      <th>0</th>\n",
       "      <td>AGTHIA GROUP PJSC</td>\n",
       "      <td>Environment - Energy Management - SASB</td>\n",
       "      <td>1</td>\n",
       "      <td>0.5</td>\n",
       "    </tr>\n",
       "    <tr>\n",
       "      <th>1</th>\n",
       "      <td>Adani Green Energy Ltd</td>\n",
       "      <td>Environment - Energy Management - SASB</td>\n",
       "      <td>1</td>\n",
       "      <td>0.5</td>\n",
       "    </tr>\n",
       "    <tr>\n",
       "      <th>2</th>\n",
       "      <td>Alphabet Inc</td>\n",
       "      <td>Governance - Product Design &amp; Lifecycle Manage...</td>\n",
       "      <td>1</td>\n",
       "      <td>0.5</td>\n",
       "    </tr>\n",
       "    <tr>\n",
       "      <th>3</th>\n",
       "      <td>BOMBARDIER INC-A</td>\n",
       "      <td>Environment - Energy Management - SASB</td>\n",
       "      <td>2</td>\n",
       "      <td>0.5</td>\n",
       "    </tr>\n",
       "    <tr>\n",
       "      <th>4</th>\n",
       "      <td>INMED PHARMACEUTICALS INC</td>\n",
       "      <td>Environment - Water Waste Management - SASB</td>\n",
       "      <td>1</td>\n",
       "      <td>0.5</td>\n",
       "    </tr>\n",
       "    <tr>\n",
       "      <th>5</th>\n",
       "      <td>Illumina Inc</td>\n",
       "      <td>Environment - Energy Management - SASB</td>\n",
       "      <td>1</td>\n",
       "      <td>0.5</td>\n",
       "    </tr>\n",
       "    <tr>\n",
       "      <th>6</th>\n",
       "      <td>Procter &amp; Gamble Company</td>\n",
       "      <td>Environment - GHG Emissions - SASB</td>\n",
       "      <td>1</td>\n",
       "      <td>0.5</td>\n",
       "    </tr>\n",
       "    <tr>\n",
       "      <th>7</th>\n",
       "      <td>TEIJIN LTD</td>\n",
       "      <td>Social - Data Security - SASB</td>\n",
       "      <td>1</td>\n",
       "      <td>0.5</td>\n",
       "    </tr>\n",
       "    <tr>\n",
       "      <th>8</th>\n",
       "      <td>YAMAHA CORP</td>\n",
       "      <td>Governance - Product Design &amp; Lifecycle Manage...</td>\n",
       "      <td>1</td>\n",
       "      <td>0.5</td>\n",
       "    </tr>\n",
       "    <tr>\n",
       "      <th>0</th>\n",
       "      <td>Consumer Staples</td>\n",
       "      <td>AGTHIA GROUP PJSC</td>\n",
       "      <td>1</td>\n",
       "      <td>1.0</td>\n",
       "    </tr>\n",
       "    <tr>\n",
       "      <th>1</th>\n",
       "      <td>Utilities</td>\n",
       "      <td>Adani Green Energy Ltd</td>\n",
       "      <td>1</td>\n",
       "      <td>1.0</td>\n",
       "    </tr>\n",
       "    <tr>\n",
       "      <th>2</th>\n",
       "      <td>Technology</td>\n",
       "      <td>Alphabet Inc</td>\n",
       "      <td>1</td>\n",
       "      <td>1.0</td>\n",
       "    </tr>\n",
       "    <tr>\n",
       "      <th>3</th>\n",
       "      <td>Industrials</td>\n",
       "      <td>BOMBARDIER INC-A</td>\n",
       "      <td>2</td>\n",
       "      <td>1.0</td>\n",
       "    </tr>\n",
       "    <tr>\n",
       "      <th>4</th>\n",
       "      <td>Healthcare</td>\n",
       "      <td>INMED PHARMACEUTICALS INC</td>\n",
       "      <td>1</td>\n",
       "      <td>1.0</td>\n",
       "    </tr>\n",
       "    <tr>\n",
       "      <th>5</th>\n",
       "      <td>Healthcare</td>\n",
       "      <td>Illumina Inc</td>\n",
       "      <td>1</td>\n",
       "      <td>1.0</td>\n",
       "    </tr>\n",
       "    <tr>\n",
       "      <th>6</th>\n",
       "      <td>Consumer Non Cyclicals</td>\n",
       "      <td>Procter &amp; Gamble Company</td>\n",
       "      <td>1</td>\n",
       "      <td>1.0</td>\n",
       "    </tr>\n",
       "    <tr>\n",
       "      <th>7</th>\n",
       "      <td>None</td>\n",
       "      <td>TEIJIN LTD</td>\n",
       "      <td>1</td>\n",
       "      <td>1.0</td>\n",
       "    </tr>\n",
       "    <tr>\n",
       "      <th>8</th>\n",
       "      <td>None</td>\n",
       "      <td>YAMAHA CORP</td>\n",
       "      <td>1</td>\n",
       "      <td>1.0</td>\n",
       "    </tr>\n",
       "  </tbody>\n",
       "</table>\n",
       "</div>"
      ],
      "text/plain": [
       "                      source  \\\n",
       "0          AGTHIA GROUP PJSC   \n",
       "1     Adani Green Energy Ltd   \n",
       "2               Alphabet Inc   \n",
       "3           BOMBARDIER INC-A   \n",
       "4  INMED PHARMACEUTICALS INC   \n",
       "5               Illumina Inc   \n",
       "6   Procter & Gamble Company   \n",
       "7                 TEIJIN LTD   \n",
       "8                YAMAHA CORP   \n",
       "0           Consumer Staples   \n",
       "1                  Utilities   \n",
       "2                 Technology   \n",
       "3                Industrials   \n",
       "4                 Healthcare   \n",
       "5                 Healthcare   \n",
       "6     Consumer Non Cyclicals   \n",
       "7                       None   \n",
       "8                       None   \n",
       "\n",
       "                                         destination  doc_count  edge_width  \n",
       "0             Environment - Energy Management - SASB          1         0.5  \n",
       "1             Environment - Energy Management - SASB          1         0.5  \n",
       "2  Governance - Product Design & Lifecycle Manage...          1         0.5  \n",
       "3             Environment - Energy Management - SASB          2         0.5  \n",
       "4        Environment - Water Waste Management - SASB          1         0.5  \n",
       "5             Environment - Energy Management - SASB          1         0.5  \n",
       "6                 Environment - GHG Emissions - SASB          1         0.5  \n",
       "7                      Social - Data Security - SASB          1         0.5  \n",
       "8  Governance - Product Design & Lifecycle Manage...          1         0.5  \n",
       "0                                  AGTHIA GROUP PJSC          1         1.0  \n",
       "1                             Adani Green Energy Ltd          1         1.0  \n",
       "2                                       Alphabet Inc          1         1.0  \n",
       "3                                   BOMBARDIER INC-A          2         1.0  \n",
       "4                          INMED PHARMACEUTICALS INC          1         1.0  \n",
       "5                                       Illumina Inc          1         1.0  \n",
       "6                           Procter & Gamble Company          1         1.0  \n",
       "7                                         TEIJIN LTD          1         1.0  \n",
       "8                                        YAMAHA CORP          1         1.0  "
      ]
     },
     "execution_count": 67,
     "metadata": {},
     "output_type": "execute_result"
    }
   ],
   "source": [
    "edge_width_df = pd.concat([entity_event_df, entity_sector_df])\n",
    "edge_width_df"
   ]
  },
  {
   "cell_type": "markdown",
   "metadata": {},
   "source": [
    "#### Dummy values for testing"
   ]
  },
  {
   "cell_type": "markdown",
   "metadata": {},
   "source": [
    "edge_width_df.iloc[1, 2] = 5\n",
    "edge_width_df.iloc[4, 2] = 5\n",
    "edge_width_df.iloc[10, 2] = 5\n"
   ]
  },
  {
   "cell_type": "code",
   "execution_count": 68,
   "metadata": {},
   "outputs": [
    {
     "data": {
      "text/html": [
       "<div>\n",
       "<style scoped>\n",
       "    .dataframe tbody tr th:only-of-type {\n",
       "        vertical-align: middle;\n",
       "    }\n",
       "\n",
       "    .dataframe tbody tr th {\n",
       "        vertical-align: top;\n",
       "    }\n",
       "\n",
       "    .dataframe thead th {\n",
       "        text-align: right;\n",
       "    }\n",
       "</style>\n",
       "<table border=\"1\" class=\"dataframe\">\n",
       "  <thead>\n",
       "    <tr style=\"text-align: right;\">\n",
       "      <th></th>\n",
       "      <th>source</th>\n",
       "      <th>destination</th>\n",
       "      <th>doc_count</th>\n",
       "      <th>edge_width</th>\n",
       "    </tr>\n",
       "  </thead>\n",
       "  <tbody>\n",
       "    <tr>\n",
       "      <th>0</th>\n",
       "      <td>AGTHIA GROUP PJSC</td>\n",
       "      <td>Environment - Energy Management - SASB</td>\n",
       "      <td>1</td>\n",
       "      <td>0.5</td>\n",
       "    </tr>\n",
       "    <tr>\n",
       "      <th>1</th>\n",
       "      <td>Adani Green Energy Ltd</td>\n",
       "      <td>Environment - Energy Management - SASB</td>\n",
       "      <td>1</td>\n",
       "      <td>0.5</td>\n",
       "    </tr>\n",
       "    <tr>\n",
       "      <th>2</th>\n",
       "      <td>Alphabet Inc</td>\n",
       "      <td>Governance - Product Design &amp; Lifecycle Manage...</td>\n",
       "      <td>1</td>\n",
       "      <td>0.5</td>\n",
       "    </tr>\n",
       "    <tr>\n",
       "      <th>3</th>\n",
       "      <td>BOMBARDIER INC-A</td>\n",
       "      <td>Environment - Energy Management - SASB</td>\n",
       "      <td>2</td>\n",
       "      <td>0.5</td>\n",
       "    </tr>\n",
       "    <tr>\n",
       "      <th>4</th>\n",
       "      <td>INMED PHARMACEUTICALS INC</td>\n",
       "      <td>Environment - Water Waste Management - SASB</td>\n",
       "      <td>1</td>\n",
       "      <td>0.5</td>\n",
       "    </tr>\n",
       "    <tr>\n",
       "      <th>5</th>\n",
       "      <td>Illumina Inc</td>\n",
       "      <td>Environment - Energy Management - SASB</td>\n",
       "      <td>1</td>\n",
       "      <td>0.5</td>\n",
       "    </tr>\n",
       "    <tr>\n",
       "      <th>6</th>\n",
       "      <td>Procter &amp; Gamble Company</td>\n",
       "      <td>Environment - GHG Emissions - SASB</td>\n",
       "      <td>1</td>\n",
       "      <td>0.5</td>\n",
       "    </tr>\n",
       "    <tr>\n",
       "      <th>7</th>\n",
       "      <td>TEIJIN LTD</td>\n",
       "      <td>Social - Data Security - SASB</td>\n",
       "      <td>1</td>\n",
       "      <td>0.5</td>\n",
       "    </tr>\n",
       "    <tr>\n",
       "      <th>8</th>\n",
       "      <td>YAMAHA CORP</td>\n",
       "      <td>Governance - Product Design &amp; Lifecycle Manage...</td>\n",
       "      <td>1</td>\n",
       "      <td>0.5</td>\n",
       "    </tr>\n",
       "    <tr>\n",
       "      <th>0</th>\n",
       "      <td>Consumer Staples</td>\n",
       "      <td>AGTHIA GROUP PJSC</td>\n",
       "      <td>1</td>\n",
       "      <td>1.0</td>\n",
       "    </tr>\n",
       "    <tr>\n",
       "      <th>1</th>\n",
       "      <td>Utilities</td>\n",
       "      <td>Adani Green Energy Ltd</td>\n",
       "      <td>1</td>\n",
       "      <td>1.0</td>\n",
       "    </tr>\n",
       "    <tr>\n",
       "      <th>2</th>\n",
       "      <td>Technology</td>\n",
       "      <td>Alphabet Inc</td>\n",
       "      <td>1</td>\n",
       "      <td>1.0</td>\n",
       "    </tr>\n",
       "    <tr>\n",
       "      <th>3</th>\n",
       "      <td>Industrials</td>\n",
       "      <td>BOMBARDIER INC-A</td>\n",
       "      <td>2</td>\n",
       "      <td>1.0</td>\n",
       "    </tr>\n",
       "    <tr>\n",
       "      <th>4</th>\n",
       "      <td>Healthcare</td>\n",
       "      <td>INMED PHARMACEUTICALS INC</td>\n",
       "      <td>1</td>\n",
       "      <td>1.0</td>\n",
       "    </tr>\n",
       "    <tr>\n",
       "      <th>5</th>\n",
       "      <td>Healthcare</td>\n",
       "      <td>Illumina Inc</td>\n",
       "      <td>1</td>\n",
       "      <td>1.0</td>\n",
       "    </tr>\n",
       "    <tr>\n",
       "      <th>6</th>\n",
       "      <td>Consumer Non Cyclicals</td>\n",
       "      <td>Procter &amp; Gamble Company</td>\n",
       "      <td>1</td>\n",
       "      <td>1.0</td>\n",
       "    </tr>\n",
       "    <tr>\n",
       "      <th>7</th>\n",
       "      <td>None</td>\n",
       "      <td>TEIJIN LTD</td>\n",
       "      <td>1</td>\n",
       "      <td>1.0</td>\n",
       "    </tr>\n",
       "    <tr>\n",
       "      <th>8</th>\n",
       "      <td>None</td>\n",
       "      <td>YAMAHA CORP</td>\n",
       "      <td>1</td>\n",
       "      <td>1.0</td>\n",
       "    </tr>\n",
       "  </tbody>\n",
       "</table>\n",
       "</div>"
      ],
      "text/plain": [
       "                      source  \\\n",
       "0          AGTHIA GROUP PJSC   \n",
       "1     Adani Green Energy Ltd   \n",
       "2               Alphabet Inc   \n",
       "3           BOMBARDIER INC-A   \n",
       "4  INMED PHARMACEUTICALS INC   \n",
       "5               Illumina Inc   \n",
       "6   Procter & Gamble Company   \n",
       "7                 TEIJIN LTD   \n",
       "8                YAMAHA CORP   \n",
       "0           Consumer Staples   \n",
       "1                  Utilities   \n",
       "2                 Technology   \n",
       "3                Industrials   \n",
       "4                 Healthcare   \n",
       "5                 Healthcare   \n",
       "6     Consumer Non Cyclicals   \n",
       "7                       None   \n",
       "8                       None   \n",
       "\n",
       "                                         destination  doc_count  edge_width  \n",
       "0             Environment - Energy Management - SASB          1         0.5  \n",
       "1             Environment - Energy Management - SASB          1         0.5  \n",
       "2  Governance - Product Design & Lifecycle Manage...          1         0.5  \n",
       "3             Environment - Energy Management - SASB          2         0.5  \n",
       "4        Environment - Water Waste Management - SASB          1         0.5  \n",
       "5             Environment - Energy Management - SASB          1         0.5  \n",
       "6                 Environment - GHG Emissions - SASB          1         0.5  \n",
       "7                      Social - Data Security - SASB          1         0.5  \n",
       "8  Governance - Product Design & Lifecycle Manage...          1         0.5  \n",
       "0                                  AGTHIA GROUP PJSC          1         1.0  \n",
       "1                             Adani Green Energy Ltd          1         1.0  \n",
       "2                                       Alphabet Inc          1         1.0  \n",
       "3                                   BOMBARDIER INC-A          2         1.0  \n",
       "4                          INMED PHARMACEUTICALS INC          1         1.0  \n",
       "5                                       Illumina Inc          1         1.0  \n",
       "6                           Procter & Gamble Company          1         1.0  \n",
       "7                                         TEIJIN LTD          1         1.0  \n",
       "8                                        YAMAHA CORP          1         1.0  "
      ]
     },
     "execution_count": 68,
     "metadata": {},
     "output_type": "execute_result"
    }
   ],
   "source": [
    "edge_width_df"
   ]
  },
  {
   "cell_type": "markdown",
   "metadata": {},
   "source": [
    "### Graphing"
   ]
  },
  {
   "cell_type": "code",
   "execution_count": 69,
   "metadata": {},
   "outputs": [],
   "source": [
    "# create empty graph instance\n",
    "G = nx.Graph()"
   ]
  },
  {
   "cell_type": "code",
   "execution_count": 70,
   "metadata": {},
   "outputs": [],
   "source": [
    "# add nodes\n",
    "for i in nodes_list:\n",
    "    G.add_node(i)"
   ]
  },
  {
   "cell_type": "code",
   "execution_count": 71,
   "metadata": {},
   "outputs": [
    {
     "data": {
      "text/plain": [
       "NodeView(('AGTHIA GROUP PJSC', 'Adani Green Energy Ltd', 'Alphabet Inc', 'BOMBARDIER INC-A', 'INMED PHARMACEUTICALS INC', 'Illumina Inc', 'Procter & Gamble Company', 'TEIJIN LTD', 'YAMAHA CORP', 'Consumer Non Cyclicals', 'Consumer Staples', 'Healthcare', 'Industrials', 'None', 'Technology', 'Utilities', 'Environment - Energy Management - SASB', 'Environment - GHG Emissions - SASB', 'Environment - Water Waste Management - SASB', 'Governance - Product Design & Lifecycle Management - SASB', 'Social - Data Security - SASB'))"
      ]
     },
     "execution_count": 71,
     "metadata": {},
     "output_type": "execute_result"
    }
   ],
   "source": [
    "G.nodes()"
   ]
  },
  {
   "cell_type": "code",
   "execution_count": 72,
   "metadata": {},
   "outputs": [],
   "source": [
    "#Creating edge list for relationships\n",
    "for i,j in temp_data.iterrows():\n",
    "    #G.add_edges_from([(j[\"event\"],j[\"doc_title\"])]) #rls 1\n",
    "    #G.add_edges_from([(j[\"entity_name\"],j[\"doc_title\"])]) #rls 2\n",
    "    G.add_edges_from([(j[\"entity_sector\"],j[\"entity_name\"])]) #rls 3\n",
    "    G.add_edges_from([(j[\"event\"],j[\"entity_name\"])]) #rls 4"
   ]
  },
  {
   "cell_type": "code",
   "execution_count": 73,
   "metadata": {},
   "outputs": [
    {
     "data": {
      "text/plain": [
       "{'AGTHIA GROUP PJSC': array([0.53041041, 0.29924046]),\n",
       " 'Adani Green Energy Ltd': array([ 0.15464914, -0.28540786]),\n",
       " 'Alphabet Inc': array([-0.75914869,  0.18829177]),\n",
       " 'BOMBARDIER INC-A': array([ 0.51769205, -0.42548707]),\n",
       " 'INMED PHARMACEUTICALS INC': array([ 0.84562345, -0.12950522]),\n",
       " 'Illumina Inc': array([0.3662015 , 0.09190043]),\n",
       " 'Procter & Gamble Company': array([-0.06332373,  0.78078054]),\n",
       " 'TEIJIN LTD': array([-0.62552935, -0.51952257]),\n",
       " 'YAMAHA CORP': array([-1.        , -0.11640487]),\n",
       " 'Consumer Non Cyclicals': array([0.03653263, 0.48340516]),\n",
       " 'Consumer Staples': array([0.54478082, 0.60588813]),\n",
       " 'Healthcare': array([0.70590006, 0.06208854]),\n",
       " 'Industrials': array([ 0.61789476, -0.62376389]),\n",
       " 'None': array([-0.72614122, -0.22464155]),\n",
       " 'Technology': array([-0.58623963,  0.34127878]),\n",
       " 'Utilities': array([-0.09851323, -0.37006149]),\n",
       " 'Environment - Energy Management - SASB': array([ 0.40885833, -0.09131397]),\n",
       " 'Environment - GHG Emissions - SASB': array([-0.24192698,  0.88871212]),\n",
       " 'Environment - Water Waste Management - SASB': array([ 0.6358241 , -0.26256896]),\n",
       " 'Governance - Product Design & Lifecycle Management - SASB': array([-0.87412709, -0.02249986]),\n",
       " 'Social - Data Security - SASB': array([-0.38941732, -0.67040859])}"
      ]
     },
     "execution_count": 73,
     "metadata": {},
     "output_type": "execute_result"
    }
   ],
   "source": [
    "# getting positions of each node\n",
    "pos = nx.spring_layout(G, k=0.5, iterations=50)\n",
    "pos"
   ]
  },
  {
   "cell_type": "code",
   "execution_count": 74,
   "metadata": {},
   "outputs": [],
   "source": [
    "# add positions to graph\n",
    "\n",
    "for n, p in pos.items():\n",
    "    G.nodes[n]['pos'] = p"
   ]
  },
  {
   "cell_type": "code",
   "execution_count": 75,
   "metadata": {},
   "outputs": [],
   "source": [
    "# function for creating edges with width as an argument for each edge\n",
    "\n",
    "def make_edge(x, y, width):\n",
    "    return  go.Scatter(x         = x,\n",
    "                       y         = y,\n",
    "                       line      = dict(width = width,\n",
    "                                   color = '#888'),\n",
    "                       hoverinfo = 'none',\n",
    "                       mode      = 'lines')"
   ]
  },
  {
   "cell_type": "code",
   "execution_count": 76,
   "metadata": {},
   "outputs": [
    {
     "name": "stderr",
     "output_type": "stream",
     "text": [
      "/Users/shashank/opt/anaconda3/envs/Anomaly/lib/python3.7/site-packages/plotly/graph_objs/_deprecations.py:441: DeprecationWarning:\n",
      "\n",
      "plotly.graph_objs.Marker is deprecated.\n",
      "Please replace it with one of the following more specific types\n",
      "  - plotly.graph_objs.scatter.Marker\n",
      "  - plotly.graph_objs.histogram.selected.Marker\n",
      "  - etc.\n",
      "\n",
      "\n"
     ]
    }
   ],
   "source": [
    "middle_node_trace = go.Scatter(\n",
    "    x=[],\n",
    "    y=[],\n",
    "    text=[],\n",
    "    mode='markers',\n",
    "    hoverinfo='text',\n",
    "    marker=go.Marker(\n",
    "        opacity=0\n",
    "    )\n",
    ")\n",
    "\n",
    "\n",
    "# creating edge trace\n",
    "edge_trace = []\n",
    "edge_hover_text = []\n",
    "for i in range(len(edge_width_df)):\n",
    "    x0, y0 = G.nodes[edge_width_df.iloc[i, 0]]['pos']\n",
    "    x1, y1 = G.nodes[edge_width_df.iloc[i, 1]]['pos']\n",
    "    \n",
    "    trace  = make_edge([x0, x1, None], [y0, y1, None],  \n",
    "                           width = edge_width_df.iloc[i, 2])\n",
    "    edge_trace.append(trace)\n",
    "    \n",
    "    middle_node_trace['x'] += tuple([(x0+x1)/2])\n",
    "    middle_node_trace['y'] += tuple([(y0+y1)/2])\n",
    "    edge_hover_text.append(\"No. of Docs: \" + str(edge_width_df.iloc[i, 2]))\n",
    "    \n",
    "middle_node_trace['text'] = edge_hover_text\n"
   ]
  },
  {
   "cell_type": "markdown",
   "metadata": {},
   "source": [
    "#### sizing of nodes based on degrees"
   ]
  },
  {
   "cell_type": "code",
   "execution_count": 87,
   "metadata": {},
   "outputs": [],
   "source": [
    "d = nx.degree(G)\n",
    "node_sizes = all_nodes['size'] * 5\n",
    "#node_sizes = all_nodes['size']\n",
    "#for i in d:\n",
    " #   _, value = i\n",
    "  #  node_sizes.append(3*value+10)    \n",
    "    \n",
    "    "
   ]
  },
  {
   "cell_type": "markdown",
   "metadata": {},
   "source": [
    "#### shapes of nodes based on event_groups"
   ]
  },
  {
   "cell_type": "code",
   "execution_count": 88,
   "metadata": {},
   "outputs": [],
   "source": [
    "symbols = all_nodes['shape_index']"
   ]
  },
  {
   "cell_type": "code",
   "execution_count": 89,
   "metadata": {},
   "outputs": [
    {
     "name": "stdout",
     "output_type": "stream",
     "text": [
      "AGTHIA GROUP PJSC\r\n",
      "Middle East, United Arab Emirates, AVG Sentiment: 68.99\n",
      "Adani Green Energy Ltd\r\n",
      "Asia, India, AVG Sentiment: 14.06\n",
      "Alphabet Inc\r\n",
      "Europe, United Kingdom, AVG Sentiment: 12.27\n",
      "BOMBARDIER INC-A\r\n",
      "Americas, Canada, AVG Sentiment: 10.81\n",
      "BOMBARDIER INC-A\r\n",
      "Americas, Canada, AVG Sentiment: 10.81\n",
      "INMED PHARMACEUTICALS INC\r\n",
      "Americas, Canada, AVG Sentiment: -25.0\n",
      "Illumina Inc\r\n",
      "Europe, United Kingdom, AVG Sentiment: 11.11\n",
      "Procter & Gamble Company\r\n",
      "Asia, India, AVG Sentiment: -55.56\n",
      "TEIJIN LTD\r\n",
      "None, None, AVG Sentiment: 7.14\n",
      "YAMAHA CORP\r\n",
      "None, None, AVG Sentiment: 59.16\n",
      "Consumer Non Cyclicals\r\n",
      "No. Documents: 1, AVG Sentiment: -55.56\n",
      "Consumer Staples\r\n",
      "No. Documents: 1, AVG Sentiment: 68.99\n",
      "Healthcare\r\n",
      "No. Documents: 2, AVG Sentiment: -6.94\n",
      "Healthcare\r\n",
      "No. Documents: 2, AVG Sentiment: -6.94\n",
      "Industrials\r\n",
      "No. Documents: 2, AVG Sentiment: 10.81\n",
      "Industrials\r\n",
      "No. Documents: 2, AVG Sentiment: 10.81\n",
      "None\r\n",
      "No. Documents: 2, AVG Sentiment: 33.15\n",
      "None\r\n",
      "No. Documents: 2, AVG Sentiment: 33.15\n",
      "Technology\r\n",
      "No. Documents: 1, AVG Sentiment: 12.27\n",
      "Utilities\r\n",
      "No. Documents: 1, AVG Sentiment: 14.06\n",
      "Environment - Energy Management - SASB\r\n",
      "No. Documents: 5, AVG Sentiment: 30.61\n",
      "Environment - Energy Management - SASB\r\n",
      "No. Documents: 5, AVG Sentiment: 30.61\n",
      "Environment - Energy Management - SASB\r\n",
      "No. Documents: 5, AVG Sentiment: 30.61\n",
      "Environment - Energy Management - SASB\r\n",
      "No. Documents: 5, AVG Sentiment: 30.61\n",
      "Environment - Energy Management - SASB\r\n",
      "No. Documents: 5, AVG Sentiment: 30.61\n",
      "Environment - GHG Emissions - SASB\r\n",
      "No. Documents: 1, AVG Sentiment: 11.81\n",
      "Environment - Water Waste Management - SASB\r\n",
      "No. Documents: 1, AVG Sentiment: 1.04\n",
      "Governance - Product Design & Lifecycle Management - SASB\r\n",
      "No. Documents: 2, AVG Sentiment: 43.01\n",
      "Governance - Product Design & Lifecycle Management - SASB\r\n",
      "No. Documents: 2, AVG Sentiment: 43.01\n",
      "Social - Data Security - SASB\r\n",
      "No. Documents: 1, AVG Sentiment: 12.1\n"
     ]
    }
   ],
   "source": [
    "for n in range(len(all_nodes)):\n",
    "    text = str(all_nodes.iloc[n, 0]) + \"\\r\\n\" + str(all_nodes.iloc[n, 2])\n",
    "    print(text)"
   ]
  },
  {
   "cell_type": "markdown",
   "metadata": {},
   "source": [
    "## adding everything together"
   ]
  },
  {
   "cell_type": "code",
   "execution_count": 90,
   "metadata": {},
   "outputs": [],
   "source": [
    "#adjusting colour scale\n",
    "node_trace = go.Scatter(\n",
    "    x=[],\n",
    "    y=[],\n",
    "    text=[],\n",
    "    mode='markers',\n",
    "    marker_symbol = symbols,\n",
    "    marker_line_color=\"black\", \n",
    "    marker_line_width=2,\n",
    "    hoverinfo='text',\n",
    "    marker=dict(\n",
    "        showscale=False,\n",
    "        #colorscale=#based on max-min\n",
    "        #            [[0,\"rgb(160,44,51)\"], #dark red\n",
    "        #            [0.25,\"rgb(227,26,28)\"], #red\n",
    "        #            [0.5,\"rgb(255,255,255)\"], #white\n",
    "        #            [0.75,\"rgb(51,160,44)\"], #green\n",
    "        #            [1,\"rgb(22,68,19)\"]], # dark green\n",
    "        reversescale=False,\n",
    "        color=all_nodes['color'],\n",
    "        size=node_sizes,\n",
    "        colorbar=dict(\n",
    "            thickness=10,\n",
    "            title='Sentiment Range',\n",
    "            xanchor='left',\n",
    "            titleside='right'\n",
    "        ),\n",
    "        line=dict(width=0)))\n",
    "\n",
    "# logic for hover information    \n",
    "hover_text_list = []\n",
    "for n in range(len(all_nodes)):\n",
    "    x, y = G.nodes[all_nodes.iloc[n, 0]]['pos']\n",
    "    node_trace['x'] += tuple([x])\n",
    "    node_trace['y'] += tuple([y])\n",
    "    spl = str(all_nodes.iloc[n, 2]).split(\", \")\n",
    "    info = \"<br>\".join(spl)\n",
    "    hover_text_list.append(str(all_nodes.iloc[n, 0] + \"<br>\" + info))\n",
    "    \n",
    "node_trace['text'] = hover_text_list"
   ]
  },
  {
   "cell_type": "markdown",
   "metadata": {},
   "source": [
    "#### hover info<a class=\"anchor\" id=\"Section_52\"></a>"
   ]
  },
  {
   "cell_type": "markdown",
   "metadata": {},
   "source": [
    "#colour based on adjancecy --> Loan to update\n",
    "for node, adjacencies in enumerate(G.adjacency()):\n",
    "    node_trace['marker']['color']+=tuple([len(adjacencies[1])])\n",
    "    print(adjacencies[0])\n",
    "    node_info = adjacencies[0] +'<br> # of connections: '+str(len(adjacencies[1]))\n",
    "    node_trace['text']+=tuple([node_info])"
   ]
  },
  {
   "cell_type": "code",
   "execution_count": 91,
   "metadata": {},
   "outputs": [],
   "source": [
    "#Counting events within ESG Event groups \n",
    "E_count = len(temp_data[temp_data['event_group'] == 'Environment'])\n",
    "S_count = len(temp_data[temp_data['event_group'] == 'Social'])\n",
    "G_count = len(temp_data[temp_data['event_group'] == 'Governance'])"
   ]
  },
  {
   "cell_type": "code",
   "execution_count": 92,
   "metadata": {},
   "outputs": [],
   "source": [
    "# creating custom layout\n",
    "\n",
    "layout = go.Layout(\n",
    "    paper_bgcolor='rgba(0,0,0,0)', # transparent background\n",
    "    plot_bgcolor='rgba(0,0,0,0)', # transparent 2nd background\n",
    "    xaxis =  {'showgrid': False, 'zeroline': False}, # no gridlines\n",
    "    yaxis = {'showgrid': False, 'zeroline': False}, # no gridlines\n",
    "    title = '<br> ESG Knowledge Graph </br>',\n",
    "    titlefont = dict(size = 20),\n",
    "    xaxis_title=('Number of Events in <br> Environment: '+ str(E_count)+ '   Social: '+str(S_count)+ '   Governance: '+str(G_count))\n",
    ")"
   ]
  },
  {
   "cell_type": "code",
   "execution_count": 93,
   "metadata": {},
   "outputs": [
    {
     "data": {
      "application/vnd.plotly.v1+json": {
       "config": {
        "plotlyServerURL": "https://plot.ly"
       },
       "data": [
        {
         "hoverinfo": "none",
         "line": {
          "color": "#888",
          "width": 1
         },
         "mode": "lines",
         "type": "scatter",
         "x": [
          0.530410408996518,
          0.4088583311618789,
          null
         ],
         "y": [
          0.2992404628399657,
          -0.09131397305862576,
          null
         ]
        },
        {
         "hoverinfo": "none",
         "line": {
          "color": "#888",
          "width": 1
         },
         "mode": "lines",
         "type": "scatter",
         "x": [
          0.15464914433299937,
          0.4088583311618789,
          null
         ],
         "y": [
          -0.2854078601082719,
          -0.09131397305862576,
          null
         ]
        },
        {
         "hoverinfo": "none",
         "line": {
          "color": "#888",
          "width": 1
         },
         "mode": "lines",
         "type": "scatter",
         "x": [
          -0.7591486870722663,
          -0.8741270850045709,
          null
         ],
         "y": [
          0.1882917680514138,
          -0.02249986398284723,
          null
         ]
        },
        {
         "hoverinfo": "none",
         "line": {
          "color": "#888",
          "width": 2
         },
         "mode": "lines",
         "type": "scatter",
         "x": [
          0.5176920503404686,
          0.4088583311618789,
          null
         ],
         "y": [
          -0.42548706926529095,
          -0.09131397305862576,
          null
         ]
        },
        {
         "hoverinfo": "none",
         "line": {
          "color": "#888",
          "width": 1
         },
         "mode": "lines",
         "type": "scatter",
         "x": [
          0.8456234473200723,
          0.6358240951676861,
          null
         ],
         "y": [
          -0.12950522095489903,
          -0.2625689558639881,
          null
         ]
        },
        {
         "hoverinfo": "none",
         "line": {
          "color": "#888",
          "width": 1
         },
         "mode": "lines",
         "type": "scatter",
         "x": [
          0.3662015028799159,
          0.4088583311618789,
          null
         ],
         "y": [
          0.0919004289997458,
          -0.09131397305862576,
          null
         ]
        },
        {
         "hoverinfo": "none",
         "line": {
          "color": "#888",
          "width": 1
         },
         "mode": "lines",
         "type": "scatter",
         "x": [
          -0.06332373279306196,
          -0.24192698348728547,
          null
         ],
         "y": [
          0.7807805356860685,
          0.8887121201851405,
          null
         ]
        },
        {
         "hoverinfo": "none",
         "line": {
          "color": "#888",
          "width": 1
         },
         "mode": "lines",
         "type": "scatter",
         "x": [
          -0.625529353647802,
          -0.38941732058642065,
          null
         ],
         "y": [
          -0.5195225740479824,
          -0.6704085924677197,
          null
         ]
        },
        {
         "hoverinfo": "none",
         "line": {
          "color": "#888",
          "width": 1
         },
         "mode": "lines",
         "type": "scatter",
         "x": [
          -1,
          -0.8741270850045709,
          null
         ],
         "y": [
          -0.11640486573619786,
          -0.02249986398284723,
          null
         ]
        },
        {
         "hoverinfo": "none",
         "line": {
          "color": "#888",
          "width": 1
         },
         "mode": "lines",
         "type": "scatter",
         "x": [
          0.5447808188268843,
          0.530410408996518,
          null
         ],
         "y": [
          0.605888134313573,
          0.2992404628399657,
          null
         ]
        },
        {
         "hoverinfo": "none",
         "line": {
          "color": "#888",
          "width": 1
         },
         "mode": "lines",
         "type": "scatter",
         "x": [
          -0.098513229234488,
          0.15464914433299937,
          null
         ],
         "y": [
          -0.3700614941989094,
          -0.2854078601082719,
          null
         ]
        },
        {
         "hoverinfo": "none",
         "line": {
          "color": "#888",
          "width": 1
         },
         "mode": "lines",
         "type": "scatter",
         "x": [
          -0.5862396342101904,
          -0.7591486870722663,
          null
         ],
         "y": [
          0.3412787750896154,
          0.1882917680514138,
          null
         ]
        },
        {
         "hoverinfo": "none",
         "line": {
          "color": "#888",
          "width": 2
         },
         "mode": "lines",
         "type": "scatter",
         "x": [
          0.6178947577155882,
          0.5176920503404686,
          null
         ],
         "y": [
          -0.6237638938818117,
          -0.42548706926529095,
          null
         ]
        },
        {
         "hoverinfo": "none",
         "line": {
          "color": "#888",
          "width": 1
         },
         "mode": "lines",
         "type": "scatter",
         "x": [
          0.7059000606648819,
          0.8456234473200723,
          null
         ],
         "y": [
          0.062088535476855146,
          -0.12950522095489903,
          null
         ]
        },
        {
         "hoverinfo": "none",
         "line": {
          "color": "#888",
          "width": 1
         },
         "mode": "lines",
         "type": "scatter",
         "x": [
          0.7059000606648819,
          0.3662015028799159,
          null
         ],
         "y": [
          0.062088535476855146,
          0.0919004289997458,
          null
         ]
        },
        {
         "hoverinfo": "none",
         "line": {
          "color": "#888",
          "width": 1
         },
         "mode": "lines",
         "type": "scatter",
         "x": [
          0.03653262860149902,
          -0.06332373279306196,
          null
         ],
         "y": [
          0.4834051561466253,
          0.7807805356860685,
          null
         ]
        },
        {
         "hoverinfo": "none",
         "line": {
          "color": "#888",
          "width": 1
         },
         "mode": "lines",
         "type": "scatter",
         "x": [
          -0.7261412199723072,
          -0.625529353647802,
          null
         ],
         "y": [
          -0.22464155322245952,
          -0.5195225740479824,
          null
         ]
        },
        {
         "hoverinfo": "none",
         "line": {
          "color": "#888",
          "width": 1
         },
         "mode": "lines",
         "type": "scatter",
         "x": [
          -0.7261412199723072,
          -1,
          null
         ],
         "y": [
          -0.22464155322245952,
          -0.11640486573619786,
          null
         ]
        },
        {
         "hoverinfo": "text",
         "marker": {
          "color": [
           "#006400",
           "#90ee90",
           "#90ee90",
           "#90ee90",
           "#90ee90",
           "#ff0000",
           "#90ee90",
           "#8b0000",
           "#ffffff",
           "#006400",
           "#8b0000",
           "#006400",
           "#ffffff",
           "#ffffff",
           "#90ee90",
           "#90ee90",
           "#90ee90",
           "#90ee90",
           "#90ee90",
           "#90ee90",
           "#90ee90",
           "#90ee90",
           "#90ee90",
           "#90ee90",
           "#90ee90",
           "#90ee90",
           "#ffffff",
           "#90ee90",
           "#90ee90",
           "#90ee90"
          ],
          "colorbar": {
           "thickness": 10,
           "title": {
            "side": "right",
            "text": "Sentiment Range"
           },
           "xanchor": "left"
          },
          "line": {
           "color": "black",
           "width": 2
          },
          "reversescale": false,
          "showscale": false,
          "size": [
           5,
           5,
           5,
           10,
           10,
           5,
           5,
           5,
           5,
           5,
           5,
           5,
           10,
           10,
           10,
           10,
           10,
           10,
           5,
           5,
           25,
           25,
           25,
           25,
           25,
           5,
           5,
           10,
           10,
           5
          ],
          "symbol": [
           0,
           0,
           0,
           0,
           0,
           0,
           0,
           0,
           0,
           0,
           5,
           5,
           5,
           5,
           5,
           5,
           5,
           5,
           5,
           5,
           3,
           3,
           3,
           3,
           3,
           3,
           3,
           17,
           17,
           4
          ]
         },
         "mode": "markers",
         "text": [
          "AGTHIA GROUP PJSC<br>Middle East<br>United Arab Emirates<br>AVG Sentiment: 68.99",
          "Adani Green Energy Ltd<br>Asia<br>India<br>AVG Sentiment: 14.06",
          "Alphabet Inc<br>Europe<br>United Kingdom<br>AVG Sentiment: 12.27",
          "BOMBARDIER INC-A<br>Americas<br>Canada<br>AVG Sentiment: 10.81",
          "BOMBARDIER INC-A<br>Americas<br>Canada<br>AVG Sentiment: 10.81",
          "INMED PHARMACEUTICALS INC<br>Americas<br>Canada<br>AVG Sentiment: -25.0",
          "Illumina Inc<br>Europe<br>United Kingdom<br>AVG Sentiment: 11.11",
          "Procter & Gamble Company<br>Asia<br>India<br>AVG Sentiment: -55.56",
          "TEIJIN LTD<br>None<br>None<br>AVG Sentiment: 7.14",
          "YAMAHA CORP<br>None<br>None<br>AVG Sentiment: 59.16",
          "Consumer Non Cyclicals<br>No. Documents: 1<br>AVG Sentiment: -55.56",
          "Consumer Staples<br>No. Documents: 1<br>AVG Sentiment: 68.99",
          "Healthcare<br>No. Documents: 2<br>AVG Sentiment: -6.94",
          "Healthcare<br>No. Documents: 2<br>AVG Sentiment: -6.94",
          "Industrials<br>No. Documents: 2<br>AVG Sentiment: 10.81",
          "Industrials<br>No. Documents: 2<br>AVG Sentiment: 10.81",
          "None<br>No. Documents: 2<br>AVG Sentiment: 33.15",
          "None<br>No. Documents: 2<br>AVG Sentiment: 33.15",
          "Technology<br>No. Documents: 1<br>AVG Sentiment: 12.27",
          "Utilities<br>No. Documents: 1<br>AVG Sentiment: 14.06",
          "Environment - Energy Management - SASB<br>No. Documents: 5<br>AVG Sentiment: 30.61",
          "Environment - Energy Management - SASB<br>No. Documents: 5<br>AVG Sentiment: 30.61",
          "Environment - Energy Management - SASB<br>No. Documents: 5<br>AVG Sentiment: 30.61",
          "Environment - Energy Management - SASB<br>No. Documents: 5<br>AVG Sentiment: 30.61",
          "Environment - Energy Management - SASB<br>No. Documents: 5<br>AVG Sentiment: 30.61",
          "Environment - GHG Emissions - SASB<br>No. Documents: 1<br>AVG Sentiment: 11.81",
          "Environment - Water Waste Management - SASB<br>No. Documents: 1<br>AVG Sentiment: 1.04",
          "Governance - Product Design & Lifecycle Management - SASB<br>No. Documents: 2<br>AVG Sentiment: 43.01",
          "Governance - Product Design & Lifecycle Management - SASB<br>No. Documents: 2<br>AVG Sentiment: 43.01",
          "Social - Data Security - SASB<br>No. Documents: 1<br>AVG Sentiment: 12.1"
         ],
         "type": "scatter",
         "x": [
          0.530410408996518,
          0.15464914433299937,
          -0.7591486870722663,
          0.5176920503404686,
          0.5176920503404686,
          0.8456234473200723,
          0.3662015028799159,
          -0.06332373279306196,
          -0.625529353647802,
          -1,
          0.03653262860149902,
          0.5447808188268843,
          0.7059000606648819,
          0.7059000606648819,
          0.6178947577155882,
          0.6178947577155882,
          -0.7261412199723072,
          -0.7261412199723072,
          -0.5862396342101904,
          -0.098513229234488,
          0.4088583311618789,
          0.4088583311618789,
          0.4088583311618789,
          0.4088583311618789,
          0.4088583311618789,
          -0.24192698348728547,
          0.6358240951676861,
          -0.8741270850045709,
          -0.8741270850045709,
          -0.38941732058642065
         ],
         "y": [
          0.2992404628399657,
          -0.2854078601082719,
          0.1882917680514138,
          -0.42548706926529095,
          -0.42548706926529095,
          -0.12950522095489903,
          0.0919004289997458,
          0.7807805356860685,
          -0.5195225740479824,
          -0.11640486573619786,
          0.4834051561466253,
          0.605888134313573,
          0.062088535476855146,
          0.062088535476855146,
          -0.6237638938818117,
          -0.6237638938818117,
          -0.22464155322245952,
          -0.22464155322245952,
          0.3412787750896154,
          -0.3700614941989094,
          -0.09131397305862576,
          -0.09131397305862576,
          -0.09131397305862576,
          -0.09131397305862576,
          -0.09131397305862576,
          0.8887121201851405,
          -0.2625689558639881,
          -0.02249986398284723,
          -0.02249986398284723,
          -0.6704085924677197
         ]
        },
        {
         "hoverinfo": "text",
         "marker": {
          "opacity": 0
         },
         "mode": "markers",
         "text": [
          "No. of Docs: 1",
          "No. of Docs: 1",
          "No. of Docs: 1",
          "No. of Docs: 2",
          "No. of Docs: 1",
          "No. of Docs: 1",
          "No. of Docs: 1",
          "No. of Docs: 1",
          "No. of Docs: 1",
          "No. of Docs: 1",
          "No. of Docs: 1",
          "No. of Docs: 1",
          "No. of Docs: 2",
          "No. of Docs: 1",
          "No. of Docs: 1",
          "No. of Docs: 1",
          "No. of Docs: 1",
          "No. of Docs: 1"
         ],
         "type": "scatter",
         "x": [
          0.4696343700791985,
          0.28175373774743917,
          -0.8166378860384187,
          0.46327519075117374,
          0.7407237712438792,
          0.3875299170208974,
          -0.15262535814017372,
          -0.5074733371171114,
          -0.9370635425022855,
          0.5375956139117012,
          0.02806795754925568,
          -0.6726941606412284,
          0.5677934040280284,
          0.775761753992477,
          0.5360507817723988,
          -0.013395552095781468,
          -0.6758352868100546,
          -0.8630706099861536
         ],
         "y": [
          0.10396324489066996,
          -0.18836091658344883,
          0.08289595203428328,
          -0.25840052116195833,
          -0.19603708840944356,
          0.0002932279705600213,
          0.8347463279356044,
          -0.5949655832578511,
          -0.06945236485952255,
          0.4525642985767694,
          -0.3277346771535906,
          0.26478527157051457,
          -0.5246254815735514,
          -0.03370834273902194,
          0.07699448223830048,
          0.632092845916347,
          -0.37208206363522095,
          -0.1705232094793287
         ]
        }
       ],
       "layout": {
        "paper_bgcolor": "rgba(0,0,0,0)",
        "plot_bgcolor": "rgba(0,0,0,0)",
        "showlegend": false,
        "template": {
         "data": {
          "bar": [
           {
            "error_x": {
             "color": "#2a3f5f"
            },
            "error_y": {
             "color": "#2a3f5f"
            },
            "marker": {
             "line": {
              "color": "#E5ECF6",
              "width": 0.5
             }
            },
            "type": "bar"
           }
          ],
          "barpolar": [
           {
            "marker": {
             "line": {
              "color": "#E5ECF6",
              "width": 0.5
             }
            },
            "type": "barpolar"
           }
          ],
          "carpet": [
           {
            "aaxis": {
             "endlinecolor": "#2a3f5f",
             "gridcolor": "white",
             "linecolor": "white",
             "minorgridcolor": "white",
             "startlinecolor": "#2a3f5f"
            },
            "baxis": {
             "endlinecolor": "#2a3f5f",
             "gridcolor": "white",
             "linecolor": "white",
             "minorgridcolor": "white",
             "startlinecolor": "#2a3f5f"
            },
            "type": "carpet"
           }
          ],
          "choropleth": [
           {
            "colorbar": {
             "outlinewidth": 0,
             "ticks": ""
            },
            "type": "choropleth"
           }
          ],
          "contour": [
           {
            "colorbar": {
             "outlinewidth": 0,
             "ticks": ""
            },
            "colorscale": [
             [
              0,
              "#0d0887"
             ],
             [
              0.1111111111111111,
              "#46039f"
             ],
             [
              0.2222222222222222,
              "#7201a8"
             ],
             [
              0.3333333333333333,
              "#9c179e"
             ],
             [
              0.4444444444444444,
              "#bd3786"
             ],
             [
              0.5555555555555556,
              "#d8576b"
             ],
             [
              0.6666666666666666,
              "#ed7953"
             ],
             [
              0.7777777777777778,
              "#fb9f3a"
             ],
             [
              0.8888888888888888,
              "#fdca26"
             ],
             [
              1,
              "#f0f921"
             ]
            ],
            "type": "contour"
           }
          ],
          "contourcarpet": [
           {
            "colorbar": {
             "outlinewidth": 0,
             "ticks": ""
            },
            "type": "contourcarpet"
           }
          ],
          "heatmap": [
           {
            "colorbar": {
             "outlinewidth": 0,
             "ticks": ""
            },
            "colorscale": [
             [
              0,
              "#0d0887"
             ],
             [
              0.1111111111111111,
              "#46039f"
             ],
             [
              0.2222222222222222,
              "#7201a8"
             ],
             [
              0.3333333333333333,
              "#9c179e"
             ],
             [
              0.4444444444444444,
              "#bd3786"
             ],
             [
              0.5555555555555556,
              "#d8576b"
             ],
             [
              0.6666666666666666,
              "#ed7953"
             ],
             [
              0.7777777777777778,
              "#fb9f3a"
             ],
             [
              0.8888888888888888,
              "#fdca26"
             ],
             [
              1,
              "#f0f921"
             ]
            ],
            "type": "heatmap"
           }
          ],
          "heatmapgl": [
           {
            "colorbar": {
             "outlinewidth": 0,
             "ticks": ""
            },
            "colorscale": [
             [
              0,
              "#0d0887"
             ],
             [
              0.1111111111111111,
              "#46039f"
             ],
             [
              0.2222222222222222,
              "#7201a8"
             ],
             [
              0.3333333333333333,
              "#9c179e"
             ],
             [
              0.4444444444444444,
              "#bd3786"
             ],
             [
              0.5555555555555556,
              "#d8576b"
             ],
             [
              0.6666666666666666,
              "#ed7953"
             ],
             [
              0.7777777777777778,
              "#fb9f3a"
             ],
             [
              0.8888888888888888,
              "#fdca26"
             ],
             [
              1,
              "#f0f921"
             ]
            ],
            "type": "heatmapgl"
           }
          ],
          "histogram": [
           {
            "marker": {
             "colorbar": {
              "outlinewidth": 0,
              "ticks": ""
             }
            },
            "type": "histogram"
           }
          ],
          "histogram2d": [
           {
            "colorbar": {
             "outlinewidth": 0,
             "ticks": ""
            },
            "colorscale": [
             [
              0,
              "#0d0887"
             ],
             [
              0.1111111111111111,
              "#46039f"
             ],
             [
              0.2222222222222222,
              "#7201a8"
             ],
             [
              0.3333333333333333,
              "#9c179e"
             ],
             [
              0.4444444444444444,
              "#bd3786"
             ],
             [
              0.5555555555555556,
              "#d8576b"
             ],
             [
              0.6666666666666666,
              "#ed7953"
             ],
             [
              0.7777777777777778,
              "#fb9f3a"
             ],
             [
              0.8888888888888888,
              "#fdca26"
             ],
             [
              1,
              "#f0f921"
             ]
            ],
            "type": "histogram2d"
           }
          ],
          "histogram2dcontour": [
           {
            "colorbar": {
             "outlinewidth": 0,
             "ticks": ""
            },
            "colorscale": [
             [
              0,
              "#0d0887"
             ],
             [
              0.1111111111111111,
              "#46039f"
             ],
             [
              0.2222222222222222,
              "#7201a8"
             ],
             [
              0.3333333333333333,
              "#9c179e"
             ],
             [
              0.4444444444444444,
              "#bd3786"
             ],
             [
              0.5555555555555556,
              "#d8576b"
             ],
             [
              0.6666666666666666,
              "#ed7953"
             ],
             [
              0.7777777777777778,
              "#fb9f3a"
             ],
             [
              0.8888888888888888,
              "#fdca26"
             ],
             [
              1,
              "#f0f921"
             ]
            ],
            "type": "histogram2dcontour"
           }
          ],
          "mesh3d": [
           {
            "colorbar": {
             "outlinewidth": 0,
             "ticks": ""
            },
            "type": "mesh3d"
           }
          ],
          "parcoords": [
           {
            "line": {
             "colorbar": {
              "outlinewidth": 0,
              "ticks": ""
             }
            },
            "type": "parcoords"
           }
          ],
          "pie": [
           {
            "automargin": true,
            "type": "pie"
           }
          ],
          "scatter": [
           {
            "marker": {
             "colorbar": {
              "outlinewidth": 0,
              "ticks": ""
             }
            },
            "type": "scatter"
           }
          ],
          "scatter3d": [
           {
            "line": {
             "colorbar": {
              "outlinewidth": 0,
              "ticks": ""
             }
            },
            "marker": {
             "colorbar": {
              "outlinewidth": 0,
              "ticks": ""
             }
            },
            "type": "scatter3d"
           }
          ],
          "scattercarpet": [
           {
            "marker": {
             "colorbar": {
              "outlinewidth": 0,
              "ticks": ""
             }
            },
            "type": "scattercarpet"
           }
          ],
          "scattergeo": [
           {
            "marker": {
             "colorbar": {
              "outlinewidth": 0,
              "ticks": ""
             }
            },
            "type": "scattergeo"
           }
          ],
          "scattergl": [
           {
            "marker": {
             "colorbar": {
              "outlinewidth": 0,
              "ticks": ""
             }
            },
            "type": "scattergl"
           }
          ],
          "scattermapbox": [
           {
            "marker": {
             "colorbar": {
              "outlinewidth": 0,
              "ticks": ""
             }
            },
            "type": "scattermapbox"
           }
          ],
          "scatterpolar": [
           {
            "marker": {
             "colorbar": {
              "outlinewidth": 0,
              "ticks": ""
             }
            },
            "type": "scatterpolar"
           }
          ],
          "scatterpolargl": [
           {
            "marker": {
             "colorbar": {
              "outlinewidth": 0,
              "ticks": ""
             }
            },
            "type": "scatterpolargl"
           }
          ],
          "scatterternary": [
           {
            "marker": {
             "colorbar": {
              "outlinewidth": 0,
              "ticks": ""
             }
            },
            "type": "scatterternary"
           }
          ],
          "surface": [
           {
            "colorbar": {
             "outlinewidth": 0,
             "ticks": ""
            },
            "colorscale": [
             [
              0,
              "#0d0887"
             ],
             [
              0.1111111111111111,
              "#46039f"
             ],
             [
              0.2222222222222222,
              "#7201a8"
             ],
             [
              0.3333333333333333,
              "#9c179e"
             ],
             [
              0.4444444444444444,
              "#bd3786"
             ],
             [
              0.5555555555555556,
              "#d8576b"
             ],
             [
              0.6666666666666666,
              "#ed7953"
             ],
             [
              0.7777777777777778,
              "#fb9f3a"
             ],
             [
              0.8888888888888888,
              "#fdca26"
             ],
             [
              1,
              "#f0f921"
             ]
            ],
            "type": "surface"
           }
          ],
          "table": [
           {
            "cells": {
             "fill": {
              "color": "#EBF0F8"
             },
             "line": {
              "color": "white"
             }
            },
            "header": {
             "fill": {
              "color": "#C8D4E3"
             },
             "line": {
              "color": "white"
             }
            },
            "type": "table"
           }
          ]
         },
         "layout": {
          "annotationdefaults": {
           "arrowcolor": "#2a3f5f",
           "arrowhead": 0,
           "arrowwidth": 1
          },
          "coloraxis": {
           "colorbar": {
            "outlinewidth": 0,
            "ticks": ""
           }
          },
          "colorscale": {
           "diverging": [
            [
             0,
             "#8e0152"
            ],
            [
             0.1,
             "#c51b7d"
            ],
            [
             0.2,
             "#de77ae"
            ],
            [
             0.3,
             "#f1b6da"
            ],
            [
             0.4,
             "#fde0ef"
            ],
            [
             0.5,
             "#f7f7f7"
            ],
            [
             0.6,
             "#e6f5d0"
            ],
            [
             0.7,
             "#b8e186"
            ],
            [
             0.8,
             "#7fbc41"
            ],
            [
             0.9,
             "#4d9221"
            ],
            [
             1,
             "#276419"
            ]
           ],
           "sequential": [
            [
             0,
             "#0d0887"
            ],
            [
             0.1111111111111111,
             "#46039f"
            ],
            [
             0.2222222222222222,
             "#7201a8"
            ],
            [
             0.3333333333333333,
             "#9c179e"
            ],
            [
             0.4444444444444444,
             "#bd3786"
            ],
            [
             0.5555555555555556,
             "#d8576b"
            ],
            [
             0.6666666666666666,
             "#ed7953"
            ],
            [
             0.7777777777777778,
             "#fb9f3a"
            ],
            [
             0.8888888888888888,
             "#fdca26"
            ],
            [
             1,
             "#f0f921"
            ]
           ],
           "sequentialminus": [
            [
             0,
             "#0d0887"
            ],
            [
             0.1111111111111111,
             "#46039f"
            ],
            [
             0.2222222222222222,
             "#7201a8"
            ],
            [
             0.3333333333333333,
             "#9c179e"
            ],
            [
             0.4444444444444444,
             "#bd3786"
            ],
            [
             0.5555555555555556,
             "#d8576b"
            ],
            [
             0.6666666666666666,
             "#ed7953"
            ],
            [
             0.7777777777777778,
             "#fb9f3a"
            ],
            [
             0.8888888888888888,
             "#fdca26"
            ],
            [
             1,
             "#f0f921"
            ]
           ]
          },
          "colorway": [
           "#636efa",
           "#EF553B",
           "#00cc96",
           "#ab63fa",
           "#FFA15A",
           "#19d3f3",
           "#FF6692",
           "#B6E880",
           "#FF97FF",
           "#FECB52"
          ],
          "font": {
           "color": "#2a3f5f"
          },
          "geo": {
           "bgcolor": "white",
           "lakecolor": "white",
           "landcolor": "#E5ECF6",
           "showlakes": true,
           "showland": true,
           "subunitcolor": "white"
          },
          "hoverlabel": {
           "align": "left"
          },
          "hovermode": "closest",
          "mapbox": {
           "style": "light"
          },
          "paper_bgcolor": "white",
          "plot_bgcolor": "#E5ECF6",
          "polar": {
           "angularaxis": {
            "gridcolor": "white",
            "linecolor": "white",
            "ticks": ""
           },
           "bgcolor": "#E5ECF6",
           "radialaxis": {
            "gridcolor": "white",
            "linecolor": "white",
            "ticks": ""
           }
          },
          "scene": {
           "xaxis": {
            "backgroundcolor": "#E5ECF6",
            "gridcolor": "white",
            "gridwidth": 2,
            "linecolor": "white",
            "showbackground": true,
            "ticks": "",
            "zerolinecolor": "white"
           },
           "yaxis": {
            "backgroundcolor": "#E5ECF6",
            "gridcolor": "white",
            "gridwidth": 2,
            "linecolor": "white",
            "showbackground": true,
            "ticks": "",
            "zerolinecolor": "white"
           },
           "zaxis": {
            "backgroundcolor": "#E5ECF6",
            "gridcolor": "white",
            "gridwidth": 2,
            "linecolor": "white",
            "showbackground": true,
            "ticks": "",
            "zerolinecolor": "white"
           }
          },
          "shapedefaults": {
           "line": {
            "color": "#2a3f5f"
           }
          },
          "ternary": {
           "aaxis": {
            "gridcolor": "white",
            "linecolor": "white",
            "ticks": ""
           },
           "baxis": {
            "gridcolor": "white",
            "linecolor": "white",
            "ticks": ""
           },
           "bgcolor": "#E5ECF6",
           "caxis": {
            "gridcolor": "white",
            "linecolor": "white",
            "ticks": ""
           }
          },
          "title": {
           "x": 0.05
          },
          "xaxis": {
           "automargin": true,
           "gridcolor": "white",
           "linecolor": "white",
           "ticks": "",
           "title": {
            "standoff": 15
           },
           "zerolinecolor": "white",
           "zerolinewidth": 2
          },
          "yaxis": {
           "automargin": true,
           "gridcolor": "white",
           "linecolor": "white",
           "ticks": "",
           "title": {
            "standoff": 15
           },
           "zerolinecolor": "white",
           "zerolinewidth": 2
          }
         }
        },
        "title": {
         "font": {
          "size": 20
         },
         "text": "<br> ESG Knowledge Graph </br>"
        },
        "xaxis": {
         "showgrid": false,
         "showticklabels": false,
         "title": {
          "text": "Number of Events in <br> Environment: 7   Social: 1   Governance: 2"
         },
         "zeroline": false
        },
        "yaxis": {
         "showgrid": false,
         "showticklabels": false,
         "zeroline": false
        }
       }
      },
      "text/html": [
       "<div>                            <div id=\"7de53bb3-d974-4c95-880e-50e298368c5e\" class=\"plotly-graph-div\" style=\"height:525px; width:100%;\"></div>            <script type=\"text/javascript\">                require([\"plotly\"], function(Plotly) {                    window.PLOTLYENV=window.PLOTLYENV || {};                                    if (document.getElementById(\"7de53bb3-d974-4c95-880e-50e298368c5e\")) {                    Plotly.newPlot(                        \"7de53bb3-d974-4c95-880e-50e298368c5e\",                        [{\"hoverinfo\": \"none\", \"line\": {\"color\": \"#888\", \"width\": 1}, \"mode\": \"lines\", \"type\": \"scatter\", \"x\": [0.530410408996518, 0.4088583311618789, null], \"y\": [0.2992404628399657, -0.09131397305862576, null]}, {\"hoverinfo\": \"none\", \"line\": {\"color\": \"#888\", \"width\": 1}, \"mode\": \"lines\", \"type\": \"scatter\", \"x\": [0.15464914433299937, 0.4088583311618789, null], \"y\": [-0.2854078601082719, -0.09131397305862576, null]}, {\"hoverinfo\": \"none\", \"line\": {\"color\": \"#888\", \"width\": 1}, \"mode\": \"lines\", \"type\": \"scatter\", \"x\": [-0.7591486870722663, -0.8741270850045709, null], \"y\": [0.1882917680514138, -0.02249986398284723, null]}, {\"hoverinfo\": \"none\", \"line\": {\"color\": \"#888\", \"width\": 2}, \"mode\": \"lines\", \"type\": \"scatter\", \"x\": [0.5176920503404686, 0.4088583311618789, null], \"y\": [-0.42548706926529095, -0.09131397305862576, null]}, {\"hoverinfo\": \"none\", \"line\": {\"color\": \"#888\", \"width\": 1}, \"mode\": \"lines\", \"type\": \"scatter\", \"x\": [0.8456234473200723, 0.6358240951676861, null], \"y\": [-0.12950522095489903, -0.2625689558639881, null]}, {\"hoverinfo\": \"none\", \"line\": {\"color\": \"#888\", \"width\": 1}, \"mode\": \"lines\", \"type\": \"scatter\", \"x\": [0.3662015028799159, 0.4088583311618789, null], \"y\": [0.0919004289997458, -0.09131397305862576, null]}, {\"hoverinfo\": \"none\", \"line\": {\"color\": \"#888\", \"width\": 1}, \"mode\": \"lines\", \"type\": \"scatter\", \"x\": [-0.06332373279306196, -0.24192698348728547, null], \"y\": [0.7807805356860685, 0.8887121201851405, null]}, {\"hoverinfo\": \"none\", \"line\": {\"color\": \"#888\", \"width\": 1}, \"mode\": \"lines\", \"type\": \"scatter\", \"x\": [-0.625529353647802, -0.38941732058642065, null], \"y\": [-0.5195225740479824, -0.6704085924677197, null]}, {\"hoverinfo\": \"none\", \"line\": {\"color\": \"#888\", \"width\": 1}, \"mode\": \"lines\", \"type\": \"scatter\", \"x\": [-1.0, -0.8741270850045709, null], \"y\": [-0.11640486573619786, -0.02249986398284723, null]}, {\"hoverinfo\": \"none\", \"line\": {\"color\": \"#888\", \"width\": 1}, \"mode\": \"lines\", \"type\": \"scatter\", \"x\": [0.5447808188268843, 0.530410408996518, null], \"y\": [0.605888134313573, 0.2992404628399657, null]}, {\"hoverinfo\": \"none\", \"line\": {\"color\": \"#888\", \"width\": 1}, \"mode\": \"lines\", \"type\": \"scatter\", \"x\": [-0.098513229234488, 0.15464914433299937, null], \"y\": [-0.3700614941989094, -0.2854078601082719, null]}, {\"hoverinfo\": \"none\", \"line\": {\"color\": \"#888\", \"width\": 1}, \"mode\": \"lines\", \"type\": \"scatter\", \"x\": [-0.5862396342101904, -0.7591486870722663, null], \"y\": [0.3412787750896154, 0.1882917680514138, null]}, {\"hoverinfo\": \"none\", \"line\": {\"color\": \"#888\", \"width\": 2}, \"mode\": \"lines\", \"type\": \"scatter\", \"x\": [0.6178947577155882, 0.5176920503404686, null], \"y\": [-0.6237638938818117, -0.42548706926529095, null]}, {\"hoverinfo\": \"none\", \"line\": {\"color\": \"#888\", \"width\": 1}, \"mode\": \"lines\", \"type\": \"scatter\", \"x\": [0.7059000606648819, 0.8456234473200723, null], \"y\": [0.062088535476855146, -0.12950522095489903, null]}, {\"hoverinfo\": \"none\", \"line\": {\"color\": \"#888\", \"width\": 1}, \"mode\": \"lines\", \"type\": \"scatter\", \"x\": [0.7059000606648819, 0.3662015028799159, null], \"y\": [0.062088535476855146, 0.0919004289997458, null]}, {\"hoverinfo\": \"none\", \"line\": {\"color\": \"#888\", \"width\": 1}, \"mode\": \"lines\", \"type\": \"scatter\", \"x\": [0.03653262860149902, -0.06332373279306196, null], \"y\": [0.4834051561466253, 0.7807805356860685, null]}, {\"hoverinfo\": \"none\", \"line\": {\"color\": \"#888\", \"width\": 1}, \"mode\": \"lines\", \"type\": \"scatter\", \"x\": [-0.7261412199723072, -0.625529353647802, null], \"y\": [-0.22464155322245952, -0.5195225740479824, null]}, {\"hoverinfo\": \"none\", \"line\": {\"color\": \"#888\", \"width\": 1}, \"mode\": \"lines\", \"type\": \"scatter\", \"x\": [-0.7261412199723072, -1.0, null], \"y\": [-0.22464155322245952, -0.11640486573619786, null]}, {\"hoverinfo\": \"text\", \"marker\": {\"color\": [\"#006400\", \"#90ee90\", \"#90ee90\", \"#90ee90\", \"#90ee90\", \"#ff0000\", \"#90ee90\", \"#8b0000\", \"#ffffff\", \"#006400\", \"#8b0000\", \"#006400\", \"#ffffff\", \"#ffffff\", \"#90ee90\", \"#90ee90\", \"#90ee90\", \"#90ee90\", \"#90ee90\", \"#90ee90\", \"#90ee90\", \"#90ee90\", \"#90ee90\", \"#90ee90\", \"#90ee90\", \"#90ee90\", \"#ffffff\", \"#90ee90\", \"#90ee90\", \"#90ee90\"], \"colorbar\": {\"thickness\": 10, \"title\": {\"side\": \"right\", \"text\": \"Sentiment Range\"}, \"xanchor\": \"left\"}, \"line\": {\"color\": \"black\", \"width\": 2}, \"reversescale\": false, \"showscale\": false, \"size\": [5, 5, 5, 10, 10, 5, 5, 5, 5, 5, 5, 5, 10, 10, 10, 10, 10, 10, 5, 5, 25, 25, 25, 25, 25, 5, 5, 10, 10, 5], \"symbol\": [0, 0, 0, 0, 0, 0, 0, 0, 0, 0, 5, 5, 5, 5, 5, 5, 5, 5, 5, 5, 3, 3, 3, 3, 3, 3, 3, 17, 17, 4]}, \"mode\": \"markers\", \"text\": [\"AGTHIA GROUP PJSC<br>Middle East<br>United Arab Emirates<br>AVG Sentiment: 68.99\", \"Adani Green Energy Ltd<br>Asia<br>India<br>AVG Sentiment: 14.06\", \"Alphabet Inc<br>Europe<br>United Kingdom<br>AVG Sentiment: 12.27\", \"BOMBARDIER INC-A<br>Americas<br>Canada<br>AVG Sentiment: 10.81\", \"BOMBARDIER INC-A<br>Americas<br>Canada<br>AVG Sentiment: 10.81\", \"INMED PHARMACEUTICALS INC<br>Americas<br>Canada<br>AVG Sentiment: -25.0\", \"Illumina Inc<br>Europe<br>United Kingdom<br>AVG Sentiment: 11.11\", \"Procter & Gamble Company<br>Asia<br>India<br>AVG Sentiment: -55.56\", \"TEIJIN LTD<br>None<br>None<br>AVG Sentiment: 7.14\", \"YAMAHA CORP<br>None<br>None<br>AVG Sentiment: 59.16\", \"Consumer Non Cyclicals<br>No. Documents: 1<br>AVG Sentiment: -55.56\", \"Consumer Staples<br>No. Documents: 1<br>AVG Sentiment: 68.99\", \"Healthcare<br>No. Documents: 2<br>AVG Sentiment: -6.94\", \"Healthcare<br>No. Documents: 2<br>AVG Sentiment: -6.94\", \"Industrials<br>No. Documents: 2<br>AVG Sentiment: 10.81\", \"Industrials<br>No. Documents: 2<br>AVG Sentiment: 10.81\", \"None<br>No. Documents: 2<br>AVG Sentiment: 33.15\", \"None<br>No. Documents: 2<br>AVG Sentiment: 33.15\", \"Technology<br>No. Documents: 1<br>AVG Sentiment: 12.27\", \"Utilities<br>No. Documents: 1<br>AVG Sentiment: 14.06\", \"Environment - Energy Management - SASB<br>No. Documents: 5<br>AVG Sentiment: 30.61\", \"Environment - Energy Management - SASB<br>No. Documents: 5<br>AVG Sentiment: 30.61\", \"Environment - Energy Management - SASB<br>No. Documents: 5<br>AVG Sentiment: 30.61\", \"Environment - Energy Management - SASB<br>No. Documents: 5<br>AVG Sentiment: 30.61\", \"Environment - Energy Management - SASB<br>No. Documents: 5<br>AVG Sentiment: 30.61\", \"Environment - GHG Emissions - SASB<br>No. Documents: 1<br>AVG Sentiment: 11.81\", \"Environment - Water Waste Management - SASB<br>No. Documents: 1<br>AVG Sentiment: 1.04\", \"Governance - Product Design & Lifecycle Management - SASB<br>No. Documents: 2<br>AVG Sentiment: 43.01\", \"Governance - Product Design & Lifecycle Management - SASB<br>No. Documents: 2<br>AVG Sentiment: 43.01\", \"Social - Data Security - SASB<br>No. Documents: 1<br>AVG Sentiment: 12.1\"], \"type\": \"scatter\", \"x\": [0.530410408996518, 0.15464914433299937, -0.7591486870722663, 0.5176920503404686, 0.5176920503404686, 0.8456234473200723, 0.3662015028799159, -0.06332373279306196, -0.625529353647802, -1.0, 0.03653262860149902, 0.5447808188268843, 0.7059000606648819, 0.7059000606648819, 0.6178947577155882, 0.6178947577155882, -0.7261412199723072, -0.7261412199723072, -0.5862396342101904, -0.098513229234488, 0.4088583311618789, 0.4088583311618789, 0.4088583311618789, 0.4088583311618789, 0.4088583311618789, -0.24192698348728547, 0.6358240951676861, -0.8741270850045709, -0.8741270850045709, -0.38941732058642065], \"y\": [0.2992404628399657, -0.2854078601082719, 0.1882917680514138, -0.42548706926529095, -0.42548706926529095, -0.12950522095489903, 0.0919004289997458, 0.7807805356860685, -0.5195225740479824, -0.11640486573619786, 0.4834051561466253, 0.605888134313573, 0.062088535476855146, 0.062088535476855146, -0.6237638938818117, -0.6237638938818117, -0.22464155322245952, -0.22464155322245952, 0.3412787750896154, -0.3700614941989094, -0.09131397305862576, -0.09131397305862576, -0.09131397305862576, -0.09131397305862576, -0.09131397305862576, 0.8887121201851405, -0.2625689558639881, -0.02249986398284723, -0.02249986398284723, -0.6704085924677197]}, {\"hoverinfo\": \"text\", \"marker\": {\"opacity\": 0}, \"mode\": \"markers\", \"text\": [\"No. of Docs: 1\", \"No. of Docs: 1\", \"No. of Docs: 1\", \"No. of Docs: 2\", \"No. of Docs: 1\", \"No. of Docs: 1\", \"No. of Docs: 1\", \"No. of Docs: 1\", \"No. of Docs: 1\", \"No. of Docs: 1\", \"No. of Docs: 1\", \"No. of Docs: 1\", \"No. of Docs: 2\", \"No. of Docs: 1\", \"No. of Docs: 1\", \"No. of Docs: 1\", \"No. of Docs: 1\", \"No. of Docs: 1\"], \"type\": \"scatter\", \"x\": [0.4696343700791985, 0.28175373774743917, -0.8166378860384187, 0.46327519075117374, 0.7407237712438792, 0.3875299170208974, -0.15262535814017372, -0.5074733371171114, -0.9370635425022855, 0.5375956139117012, 0.02806795754925568, -0.6726941606412284, 0.5677934040280284, 0.775761753992477, 0.5360507817723988, -0.013395552095781468, -0.6758352868100546, -0.8630706099861536], \"y\": [0.10396324489066996, -0.18836091658344883, 0.08289595203428328, -0.25840052116195833, -0.19603708840944356, 0.0002932279705600213, 0.8347463279356044, -0.5949655832578511, -0.06945236485952255, 0.4525642985767694, -0.3277346771535906, 0.26478527157051457, -0.5246254815735514, -0.03370834273902194, 0.07699448223830048, 0.632092845916347, -0.37208206363522095, -0.1705232094793287]}],                        {\"paper_bgcolor\": \"rgba(0,0,0,0)\", \"plot_bgcolor\": \"rgba(0,0,0,0)\", \"showlegend\": false, \"template\": {\"data\": {\"bar\": [{\"error_x\": {\"color\": \"#2a3f5f\"}, \"error_y\": {\"color\": \"#2a3f5f\"}, \"marker\": {\"line\": {\"color\": \"#E5ECF6\", \"width\": 0.5}}, \"type\": \"bar\"}], \"barpolar\": [{\"marker\": {\"line\": {\"color\": \"#E5ECF6\", \"width\": 0.5}}, \"type\": \"barpolar\"}], \"carpet\": [{\"aaxis\": {\"endlinecolor\": \"#2a3f5f\", \"gridcolor\": \"white\", \"linecolor\": \"white\", \"minorgridcolor\": \"white\", \"startlinecolor\": \"#2a3f5f\"}, \"baxis\": {\"endlinecolor\": \"#2a3f5f\", \"gridcolor\": \"white\", \"linecolor\": \"white\", \"minorgridcolor\": \"white\", \"startlinecolor\": \"#2a3f5f\"}, \"type\": \"carpet\"}], \"choropleth\": [{\"colorbar\": {\"outlinewidth\": 0, \"ticks\": \"\"}, \"type\": \"choropleth\"}], \"contour\": [{\"colorbar\": {\"outlinewidth\": 0, \"ticks\": \"\"}, \"colorscale\": [[0.0, \"#0d0887\"], [0.1111111111111111, \"#46039f\"], [0.2222222222222222, \"#7201a8\"], [0.3333333333333333, \"#9c179e\"], [0.4444444444444444, \"#bd3786\"], [0.5555555555555556, \"#d8576b\"], [0.6666666666666666, \"#ed7953\"], [0.7777777777777778, \"#fb9f3a\"], [0.8888888888888888, \"#fdca26\"], [1.0, \"#f0f921\"]], \"type\": \"contour\"}], \"contourcarpet\": [{\"colorbar\": {\"outlinewidth\": 0, \"ticks\": \"\"}, \"type\": \"contourcarpet\"}], \"heatmap\": [{\"colorbar\": {\"outlinewidth\": 0, \"ticks\": \"\"}, \"colorscale\": [[0.0, \"#0d0887\"], [0.1111111111111111, \"#46039f\"], [0.2222222222222222, \"#7201a8\"], [0.3333333333333333, \"#9c179e\"], [0.4444444444444444, \"#bd3786\"], [0.5555555555555556, \"#d8576b\"], [0.6666666666666666, \"#ed7953\"], [0.7777777777777778, \"#fb9f3a\"], [0.8888888888888888, \"#fdca26\"], [1.0, \"#f0f921\"]], \"type\": \"heatmap\"}], \"heatmapgl\": [{\"colorbar\": {\"outlinewidth\": 0, \"ticks\": \"\"}, \"colorscale\": [[0.0, \"#0d0887\"], [0.1111111111111111, \"#46039f\"], [0.2222222222222222, \"#7201a8\"], [0.3333333333333333, \"#9c179e\"], [0.4444444444444444, \"#bd3786\"], [0.5555555555555556, \"#d8576b\"], [0.6666666666666666, \"#ed7953\"], [0.7777777777777778, \"#fb9f3a\"], [0.8888888888888888, \"#fdca26\"], [1.0, \"#f0f921\"]], \"type\": \"heatmapgl\"}], \"histogram\": [{\"marker\": {\"colorbar\": {\"outlinewidth\": 0, \"ticks\": \"\"}}, \"type\": \"histogram\"}], \"histogram2d\": [{\"colorbar\": {\"outlinewidth\": 0, \"ticks\": \"\"}, \"colorscale\": [[0.0, \"#0d0887\"], [0.1111111111111111, \"#46039f\"], [0.2222222222222222, \"#7201a8\"], [0.3333333333333333, \"#9c179e\"], [0.4444444444444444, \"#bd3786\"], [0.5555555555555556, \"#d8576b\"], [0.6666666666666666, \"#ed7953\"], [0.7777777777777778, \"#fb9f3a\"], [0.8888888888888888, \"#fdca26\"], [1.0, \"#f0f921\"]], \"type\": \"histogram2d\"}], \"histogram2dcontour\": [{\"colorbar\": {\"outlinewidth\": 0, \"ticks\": \"\"}, \"colorscale\": [[0.0, \"#0d0887\"], [0.1111111111111111, \"#46039f\"], [0.2222222222222222, \"#7201a8\"], [0.3333333333333333, \"#9c179e\"], [0.4444444444444444, \"#bd3786\"], [0.5555555555555556, \"#d8576b\"], [0.6666666666666666, \"#ed7953\"], [0.7777777777777778, \"#fb9f3a\"], [0.8888888888888888, \"#fdca26\"], [1.0, \"#f0f921\"]], \"type\": \"histogram2dcontour\"}], \"mesh3d\": [{\"colorbar\": {\"outlinewidth\": 0, \"ticks\": \"\"}, \"type\": \"mesh3d\"}], \"parcoords\": [{\"line\": {\"colorbar\": {\"outlinewidth\": 0, \"ticks\": \"\"}}, \"type\": \"parcoords\"}], \"pie\": [{\"automargin\": true, \"type\": \"pie\"}], \"scatter\": [{\"marker\": {\"colorbar\": {\"outlinewidth\": 0, \"ticks\": \"\"}}, \"type\": \"scatter\"}], \"scatter3d\": [{\"line\": {\"colorbar\": {\"outlinewidth\": 0, \"ticks\": \"\"}}, \"marker\": {\"colorbar\": {\"outlinewidth\": 0, \"ticks\": \"\"}}, \"type\": \"scatter3d\"}], \"scattercarpet\": [{\"marker\": {\"colorbar\": {\"outlinewidth\": 0, \"ticks\": \"\"}}, \"type\": \"scattercarpet\"}], \"scattergeo\": [{\"marker\": {\"colorbar\": {\"outlinewidth\": 0, \"ticks\": \"\"}}, \"type\": \"scattergeo\"}], \"scattergl\": [{\"marker\": {\"colorbar\": {\"outlinewidth\": 0, \"ticks\": \"\"}}, \"type\": \"scattergl\"}], \"scattermapbox\": [{\"marker\": {\"colorbar\": {\"outlinewidth\": 0, \"ticks\": \"\"}}, \"type\": \"scattermapbox\"}], \"scatterpolar\": [{\"marker\": {\"colorbar\": {\"outlinewidth\": 0, \"ticks\": \"\"}}, \"type\": \"scatterpolar\"}], \"scatterpolargl\": [{\"marker\": {\"colorbar\": {\"outlinewidth\": 0, \"ticks\": \"\"}}, \"type\": \"scatterpolargl\"}], \"scatterternary\": [{\"marker\": {\"colorbar\": {\"outlinewidth\": 0, \"ticks\": \"\"}}, \"type\": \"scatterternary\"}], \"surface\": [{\"colorbar\": {\"outlinewidth\": 0, \"ticks\": \"\"}, \"colorscale\": [[0.0, \"#0d0887\"], [0.1111111111111111, \"#46039f\"], [0.2222222222222222, \"#7201a8\"], [0.3333333333333333, \"#9c179e\"], [0.4444444444444444, \"#bd3786\"], [0.5555555555555556, \"#d8576b\"], [0.6666666666666666, \"#ed7953\"], [0.7777777777777778, \"#fb9f3a\"], [0.8888888888888888, \"#fdca26\"], [1.0, \"#f0f921\"]], \"type\": \"surface\"}], \"table\": [{\"cells\": {\"fill\": {\"color\": \"#EBF0F8\"}, \"line\": {\"color\": \"white\"}}, \"header\": {\"fill\": {\"color\": \"#C8D4E3\"}, \"line\": {\"color\": \"white\"}}, \"type\": \"table\"}]}, \"layout\": {\"annotationdefaults\": {\"arrowcolor\": \"#2a3f5f\", \"arrowhead\": 0, \"arrowwidth\": 1}, \"coloraxis\": {\"colorbar\": {\"outlinewidth\": 0, \"ticks\": \"\"}}, \"colorscale\": {\"diverging\": [[0, \"#8e0152\"], [0.1, \"#c51b7d\"], [0.2, \"#de77ae\"], [0.3, \"#f1b6da\"], [0.4, \"#fde0ef\"], [0.5, \"#f7f7f7\"], [0.6, \"#e6f5d0\"], [0.7, \"#b8e186\"], [0.8, \"#7fbc41\"], [0.9, \"#4d9221\"], [1, \"#276419\"]], \"sequential\": [[0.0, \"#0d0887\"], [0.1111111111111111, \"#46039f\"], [0.2222222222222222, \"#7201a8\"], [0.3333333333333333, \"#9c179e\"], [0.4444444444444444, \"#bd3786\"], [0.5555555555555556, \"#d8576b\"], [0.6666666666666666, \"#ed7953\"], [0.7777777777777778, \"#fb9f3a\"], [0.8888888888888888, \"#fdca26\"], [1.0, \"#f0f921\"]], \"sequentialminus\": [[0.0, \"#0d0887\"], [0.1111111111111111, \"#46039f\"], [0.2222222222222222, \"#7201a8\"], [0.3333333333333333, \"#9c179e\"], [0.4444444444444444, \"#bd3786\"], [0.5555555555555556, \"#d8576b\"], [0.6666666666666666, \"#ed7953\"], [0.7777777777777778, \"#fb9f3a\"], [0.8888888888888888, \"#fdca26\"], [1.0, \"#f0f921\"]]}, \"colorway\": [\"#636efa\", \"#EF553B\", \"#00cc96\", \"#ab63fa\", \"#FFA15A\", \"#19d3f3\", \"#FF6692\", \"#B6E880\", \"#FF97FF\", \"#FECB52\"], \"font\": {\"color\": \"#2a3f5f\"}, \"geo\": {\"bgcolor\": \"white\", \"lakecolor\": \"white\", \"landcolor\": \"#E5ECF6\", \"showlakes\": true, \"showland\": true, \"subunitcolor\": \"white\"}, \"hoverlabel\": {\"align\": \"left\"}, \"hovermode\": \"closest\", \"mapbox\": {\"style\": \"light\"}, \"paper_bgcolor\": \"white\", \"plot_bgcolor\": \"#E5ECF6\", \"polar\": {\"angularaxis\": {\"gridcolor\": \"white\", \"linecolor\": \"white\", \"ticks\": \"\"}, \"bgcolor\": \"#E5ECF6\", \"radialaxis\": {\"gridcolor\": \"white\", \"linecolor\": \"white\", \"ticks\": \"\"}}, \"scene\": {\"xaxis\": {\"backgroundcolor\": \"#E5ECF6\", \"gridcolor\": \"white\", \"gridwidth\": 2, \"linecolor\": \"white\", \"showbackground\": true, \"ticks\": \"\", \"zerolinecolor\": \"white\"}, \"yaxis\": {\"backgroundcolor\": \"#E5ECF6\", \"gridcolor\": \"white\", \"gridwidth\": 2, \"linecolor\": \"white\", \"showbackground\": true, \"ticks\": \"\", \"zerolinecolor\": \"white\"}, \"zaxis\": {\"backgroundcolor\": \"#E5ECF6\", \"gridcolor\": \"white\", \"gridwidth\": 2, \"linecolor\": \"white\", \"showbackground\": true, \"ticks\": \"\", \"zerolinecolor\": \"white\"}}, \"shapedefaults\": {\"line\": {\"color\": \"#2a3f5f\"}}, \"ternary\": {\"aaxis\": {\"gridcolor\": \"white\", \"linecolor\": \"white\", \"ticks\": \"\"}, \"baxis\": {\"gridcolor\": \"white\", \"linecolor\": \"white\", \"ticks\": \"\"}, \"bgcolor\": \"#E5ECF6\", \"caxis\": {\"gridcolor\": \"white\", \"linecolor\": \"white\", \"ticks\": \"\"}}, \"title\": {\"x\": 0.05}, \"xaxis\": {\"automargin\": true, \"gridcolor\": \"white\", \"linecolor\": \"white\", \"ticks\": \"\", \"title\": {\"standoff\": 15}, \"zerolinecolor\": \"white\", \"zerolinewidth\": 2}, \"yaxis\": {\"automargin\": true, \"gridcolor\": \"white\", \"linecolor\": \"white\", \"ticks\": \"\", \"title\": {\"standoff\": 15}, \"zerolinecolor\": \"white\", \"zerolinewidth\": 2}}}, \"title\": {\"font\": {\"size\": 20}, \"text\": \"<br> ESG Knowledge Graph </br>\"}, \"xaxis\": {\"showgrid\": false, \"showticklabels\": false, \"title\": {\"text\": \"Number of Events in <br> Environment: 7   Social: 1   Governance: 2\"}, \"zeroline\": false}, \"yaxis\": {\"showgrid\": false, \"showticklabels\": false, \"zeroline\": false}},                        {\"responsive\": true}                    ).then(function(){\n",
       "                            \n",
       "var gd = document.getElementById('7de53bb3-d974-4c95-880e-50e298368c5e');\n",
       "var x = new MutationObserver(function (mutations, observer) {{\n",
       "        var display = window.getComputedStyle(gd).display;\n",
       "        if (!display || display === 'none') {{\n",
       "            console.log([gd, 'removed!']);\n",
       "            Plotly.purge(gd);\n",
       "            observer.disconnect();\n",
       "        }}\n",
       "}});\n",
       "\n",
       "// Listen for the removal of the full notebook cells\n",
       "var notebookContainer = gd.closest('#notebook-container');\n",
       "if (notebookContainer) {{\n",
       "    x.observe(notebookContainer, {childList: true});\n",
       "}}\n",
       "\n",
       "// Listen for the clearing of the current output cell\n",
       "var outputEl = gd.closest('.output');\n",
       "if (outputEl) {{\n",
       "    x.observe(outputEl, {childList: true});\n",
       "}}\n",
       "\n",
       "                        })                };                });            </script>        </div>"
      ]
     },
     "metadata": {},
     "output_type": "display_data"
    }
   ],
   "source": [
    "fig = go.Figure(layout = layout)\n",
    "\n",
    "# Add all edge traces\n",
    "for trace in edge_trace:\n",
    "    fig.add_trace(trace)\n",
    "    \n",
    "# Add node trace\n",
    "fig.add_trace(node_trace)\n",
    "\n",
    "# Add hidden node trace for edge hover info\n",
    "fig.add_trace(middle_node_trace)\n",
    "\n",
    "# Remove legend\n",
    "fig.update_layout(showlegend = False)\n",
    "\n",
    "# Remove tick labels\n",
    "fig.update_xaxes(showticklabels = False)\n",
    "fig.update_yaxes(showticklabels = False)\n",
    "\n",
    "# Show figure\n",
    "fig.show()"
   ]
  },
  {
   "cell_type": "markdown",
   "metadata": {},
   "source": [
    "## Plotting"
   ]
  },
  {
   "cell_type": "code",
   "execution_count": 94,
   "metadata": {
    "scrolled": true
   },
   "outputs": [
    {
     "name": "stdout",
     "output_type": "stream",
     "text": [
      "Nodes to be shown = 21 \n",
      " > entity_name: 9 \n",
      " > entity_sector: 7 \n",
      " > event_group: 3\n"
     ]
    },
    {
     "data": {
      "text/html": [
       "<div>\n",
       "<style scoped>\n",
       "    .dataframe tbody tr th:only-of-type {\n",
       "        vertical-align: middle;\n",
       "    }\n",
       "\n",
       "    .dataframe tbody tr th {\n",
       "        vertical-align: top;\n",
       "    }\n",
       "\n",
       "    .dataframe thead th {\n",
       "        text-align: right;\n",
       "    }\n",
       "</style>\n",
       "<table border=\"1\" class=\"dataframe\">\n",
       "  <thead>\n",
       "    <tr style=\"text-align: right;\">\n",
       "      <th></th>\n",
       "      <th>entity_name</th>\n",
       "      <th>entity_sector</th>\n",
       "      <th>event</th>\n",
       "      <th>doc_title</th>\n",
       "      <th>Avg Entity Sentiment</th>\n",
       "      <th>Avg Event Sentiment</th>\n",
       "      <th>Wt_Avg_sector_sentiment</th>\n",
       "    </tr>\n",
       "  </thead>\n",
       "  <tbody>\n",
       "    <tr>\n",
       "      <th>0</th>\n",
       "      <td>INMED PHARMACEUTICALS INC</td>\n",
       "      <td>Healthcare</td>\n",
       "      <td>Environment - Water Waste Management - SASB</td>\n",
       "      <td>THE EFFECTS OF WASTEWATER TREATMENT PLANT EFFL...</td>\n",
       "      <td>-25.0000</td>\n",
       "      <td>1.04170</td>\n",
       "      <td>-6.94445</td>\n",
       "    </tr>\n",
       "    <tr>\n",
       "      <th>1</th>\n",
       "      <td>Adani Green Energy Ltd</td>\n",
       "      <td>Utilities</td>\n",
       "      <td>Environment - Energy Management - SASB</td>\n",
       "      <td>Adani Green jumps 5% on commissioning of new p...</td>\n",
       "      <td>14.0625</td>\n",
       "      <td>30.60658</td>\n",
       "      <td>14.06250</td>\n",
       "    </tr>\n",
       "    <tr>\n",
       "      <th>2</th>\n",
       "      <td>BOMBARDIER INC-A</td>\n",
       "      <td>Industrials</td>\n",
       "      <td>Environment - Energy Management - SASB</td>\n",
       "      <td>Print - Bombardiers joint venture wins contrac...</td>\n",
       "      <td>10.8120</td>\n",
       "      <td>30.60658</td>\n",
       "      <td>10.81200</td>\n",
       "    </tr>\n",
       "    <tr>\n",
       "      <th>3</th>\n",
       "      <td>BOMBARDIER INC-A</td>\n",
       "      <td>Industrials</td>\n",
       "      <td>Environment - Energy Management - SASB</td>\n",
       "      <td>Bombardiers joint venture wins contract to bui...</td>\n",
       "      <td>10.8120</td>\n",
       "      <td>30.60658</td>\n",
       "      <td>10.81200</td>\n",
       "    </tr>\n",
       "    <tr>\n",
       "      <th>4</th>\n",
       "      <td>Procter &amp; Gamble Company</td>\n",
       "      <td>Consumer Non Cyclicals</td>\n",
       "      <td>Environment - GHG Emissions - SASB</td>\n",
       "      <td>Design and systems-level performance analysis ...</td>\n",
       "      <td>-55.5556</td>\n",
       "      <td>11.80560</td>\n",
       "      <td>-55.55560</td>\n",
       "    </tr>\n",
       "    <tr>\n",
       "      <th>5</th>\n",
       "      <td>TEIJIN LTD</td>\n",
       "      <td>None</td>\n",
       "      <td>Social - Data Security - SASB</td>\n",
       "      <td>Analysts Downgrades for January, 1st (SAUHF, S...</td>\n",
       "      <td>7.1429</td>\n",
       "      <td>12.10320</td>\n",
       "      <td>33.15200</td>\n",
       "    </tr>\n",
       "    <tr>\n",
       "      <th>6</th>\n",
       "      <td>Alphabet Inc</td>\n",
       "      <td>Technology</td>\n",
       "      <td>Governance - Product Design &amp; Lifecycle Manage...</td>\n",
       "      <td>Google will finally stop using controversial I...</td>\n",
       "      <td>12.2685</td>\n",
       "      <td>43.00955</td>\n",
       "      <td>12.26850</td>\n",
       "    </tr>\n",
       "    <tr>\n",
       "      <th>7</th>\n",
       "      <td>Illumina Inc</td>\n",
       "      <td>Healthcare</td>\n",
       "      <td>Environment - Energy Management - SASB</td>\n",
       "      <td>Occurrence of Thermophilic Microorganisms in D...</td>\n",
       "      <td>11.1111</td>\n",
       "      <td>30.60658</td>\n",
       "      <td>-6.94445</td>\n",
       "    </tr>\n",
       "    <tr>\n",
       "      <th>8</th>\n",
       "      <td>YAMAHA CORP</td>\n",
       "      <td>None</td>\n",
       "      <td>Governance - Product Design &amp; Lifecycle Manage...</td>\n",
       "      <td>Monster Energy Star Yamaha Racing Announces 20...</td>\n",
       "      <td>59.1611</td>\n",
       "      <td>43.00955</td>\n",
       "      <td>33.15200</td>\n",
       "    </tr>\n",
       "    <tr>\n",
       "      <th>9</th>\n",
       "      <td>AGTHIA GROUP PJSC</td>\n",
       "      <td>Consumer Staples</td>\n",
       "      <td>Environment - Energy Management - SASB</td>\n",
       "      <td>Monster Energy Star Yamaha Racing Announces 20...</td>\n",
       "      <td>68.9931</td>\n",
       "      <td>30.60658</td>\n",
       "      <td>68.99310</td>\n",
       "    </tr>\n",
       "  </tbody>\n",
       "</table>\n",
       "</div>"
      ],
      "text/plain": [
       "                 entity_name           entity_sector  \\\n",
       "0  INMED PHARMACEUTICALS INC              Healthcare   \n",
       "1     Adani Green Energy Ltd               Utilities   \n",
       "2           BOMBARDIER INC-A             Industrials   \n",
       "3           BOMBARDIER INC-A             Industrials   \n",
       "4   Procter & Gamble Company  Consumer Non Cyclicals   \n",
       "5                 TEIJIN LTD                    None   \n",
       "6               Alphabet Inc              Technology   \n",
       "7               Illumina Inc              Healthcare   \n",
       "8                YAMAHA CORP                    None   \n",
       "9          AGTHIA GROUP PJSC        Consumer Staples   \n",
       "\n",
       "                                               event  \\\n",
       "0        Environment - Water Waste Management - SASB   \n",
       "1             Environment - Energy Management - SASB   \n",
       "2             Environment - Energy Management - SASB   \n",
       "3             Environment - Energy Management - SASB   \n",
       "4                 Environment - GHG Emissions - SASB   \n",
       "5                      Social - Data Security - SASB   \n",
       "6  Governance - Product Design & Lifecycle Manage...   \n",
       "7             Environment - Energy Management - SASB   \n",
       "8  Governance - Product Design & Lifecycle Manage...   \n",
       "9             Environment - Energy Management - SASB   \n",
       "\n",
       "                                           doc_title  Avg Entity Sentiment  \\\n",
       "0  THE EFFECTS OF WASTEWATER TREATMENT PLANT EFFL...              -25.0000   \n",
       "1  Adani Green jumps 5% on commissioning of new p...               14.0625   \n",
       "2  Print - Bombardiers joint venture wins contrac...               10.8120   \n",
       "3  Bombardiers joint venture wins contract to bui...               10.8120   \n",
       "4  Design and systems-level performance analysis ...              -55.5556   \n",
       "5  Analysts Downgrades for January, 1st (SAUHF, S...                7.1429   \n",
       "6  Google will finally stop using controversial I...               12.2685   \n",
       "7  Occurrence of Thermophilic Microorganisms in D...               11.1111   \n",
       "8  Monster Energy Star Yamaha Racing Announces 20...               59.1611   \n",
       "9  Monster Energy Star Yamaha Racing Announces 20...               68.9931   \n",
       "\n",
       "   Avg Event Sentiment  Wt_Avg_sector_sentiment  \n",
       "0              1.04170                 -6.94445  \n",
       "1             30.60658                 14.06250  \n",
       "2             30.60658                 10.81200  \n",
       "3             30.60658                 10.81200  \n",
       "4             11.80560                -55.55560  \n",
       "5             12.10320                 33.15200  \n",
       "6             43.00955                 12.26850  \n",
       "7             30.60658                 -6.94445  \n",
       "8             43.00955                 33.15200  \n",
       "9             30.60658                 68.99310  "
      ]
     },
     "execution_count": 94,
     "metadata": {},
     "output_type": "execute_result"
    }
   ],
   "source": [
    "print(\"Nodes to be shown =\", temp_data.entity_name.nunique()+temp_data.entity_sector.nunique()+temp_data.event.nunique(),#+temp_data.doc_title.nunique(),\n",
    "      \"\\n > entity_name:\", temp_data.entity_name.nunique()\n",
    "     ,\"\\n > entity_sector:\", temp_data.entity_sector.nunique()\n",
    "     ,\"\\n > event_group:\", temp_data.event_group.nunique())\n",
    "    # ,\"\\n > doc_title:\", temp_data.doc_title.nunique())\n",
    "\n",
    "\n",
    "temp_data[[\"entity_name\", \"entity_sector\",\"event\",\"doc_title\",'Avg Entity Sentiment','Avg Event Sentiment','Wt_Avg_sector_sentiment']]"
   ]
  },
  {
   "cell_type": "code",
   "execution_count": 85,
   "metadata": {},
   "outputs": [
    {
     "name": "stderr",
     "output_type": "stream",
     "text": [
      "/Users/shashank/opt/anaconda3/envs/Anomaly/lib/python3.7/site-packages/seaborn/_decorators.py:43: FutureWarning:\n",
      "\n",
      "Pass the following variable as a keyword arg: x. From version 0.12, the only valid positional argument will be `data`, and passing other arguments without an explicit keyword will result in an error or misinterpretation.\n",
      "\n"
     ]
    },
    {
     "data": {
      "text/plain": [
       "<AxesSubplot:xlabel='size'>"
      ]
     },
     "execution_count": 85,
     "metadata": {},
     "output_type": "execute_result"
    },
    {
     "data": {
      "image/png": "[encoded data removed]",
      "text/plain": [
       "<Figure size 432x288 with 1 Axes>"
      ]
     },
     "metadata": {
      "needs_background": "light"
     },
     "output_type": "display_data"
    }
   ],
   "source": [
    "sns.boxplot(all_nodes['size'])"
   ]
  },
  {
   "cell_type": "code",
   "execution_count": 86,
   "metadata": {},
   "outputs": [
    {
     "data": {
      "text/html": [
       "<div>\n",
       "<style scoped>\n",
       "    .dataframe tbody tr th:only-of-type {\n",
       "        vertical-align: middle;\n",
       "    }\n",
       "\n",
       "    .dataframe tbody tr th {\n",
       "        vertical-align: top;\n",
       "    }\n",
       "\n",
       "    .dataframe thead th {\n",
       "        text-align: right;\n",
       "    }\n",
       "</style>\n",
       "<table border=\"1\" class=\"dataframe\">\n",
       "  <thead>\n",
       "    <tr style=\"text-align: right;\">\n",
       "      <th></th>\n",
       "      <th>node</th>\n",
       "      <th>AVG Sentiment</th>\n",
       "      <th>Hover_info</th>\n",
       "      <th>shape_index</th>\n",
       "      <th>size</th>\n",
       "      <th>color</th>\n",
       "    </tr>\n",
       "  </thead>\n",
       "  <tbody>\n",
       "    <tr>\n",
       "      <th>0</th>\n",
       "      <td>AGTHIA GROUP PJSC</td>\n",
       "      <td>68.99310</td>\n",
       "      <td>Middle East, United Arab Emirates, AVG Sentime...</td>\n",
       "      <td>0</td>\n",
       "      <td>1</td>\n",
       "      <td>#006400</td>\n",
       "    </tr>\n",
       "    <tr>\n",
       "      <th>1</th>\n",
       "      <td>Adani Green Energy Ltd</td>\n",
       "      <td>14.06250</td>\n",
       "      <td>Asia, India, AVG Sentiment: 14.06</td>\n",
       "      <td>0</td>\n",
       "      <td>1</td>\n",
       "      <td>#90ee90</td>\n",
       "    </tr>\n",
       "    <tr>\n",
       "      <th>2</th>\n",
       "      <td>Alphabet Inc</td>\n",
       "      <td>12.26850</td>\n",
       "      <td>Europe, United Kingdom, AVG Sentiment: 12.27</td>\n",
       "      <td>0</td>\n",
       "      <td>1</td>\n",
       "      <td>#90ee90</td>\n",
       "    </tr>\n",
       "    <tr>\n",
       "      <th>3</th>\n",
       "      <td>BOMBARDIER INC-A</td>\n",
       "      <td>10.81200</td>\n",
       "      <td>Americas, Canada, AVG Sentiment: 10.81</td>\n",
       "      <td>0</td>\n",
       "      <td>2</td>\n",
       "      <td>#90ee90</td>\n",
       "    </tr>\n",
       "    <tr>\n",
       "      <th>4</th>\n",
       "      <td>BOMBARDIER INC-A</td>\n",
       "      <td>10.81200</td>\n",
       "      <td>Americas, Canada, AVG Sentiment: 10.81</td>\n",
       "      <td>0</td>\n",
       "      <td>2</td>\n",
       "      <td>#90ee90</td>\n",
       "    </tr>\n",
       "    <tr>\n",
       "      <th>5</th>\n",
       "      <td>INMED PHARMACEUTICALS INC</td>\n",
       "      <td>-25.00000</td>\n",
       "      <td>Americas, Canada, AVG Sentiment: -25.0</td>\n",
       "      <td>0</td>\n",
       "      <td>1</td>\n",
       "      <td>#ff0000</td>\n",
       "    </tr>\n",
       "    <tr>\n",
       "      <th>6</th>\n",
       "      <td>Illumina Inc</td>\n",
       "      <td>11.11110</td>\n",
       "      <td>Europe, United Kingdom, AVG Sentiment: 11.11</td>\n",
       "      <td>0</td>\n",
       "      <td>1</td>\n",
       "      <td>#90ee90</td>\n",
       "    </tr>\n",
       "    <tr>\n",
       "      <th>7</th>\n",
       "      <td>Procter &amp; Gamble Company</td>\n",
       "      <td>-55.55560</td>\n",
       "      <td>Asia, India, AVG Sentiment: -55.56</td>\n",
       "      <td>0</td>\n",
       "      <td>1</td>\n",
       "      <td>#8b0000</td>\n",
       "    </tr>\n",
       "    <tr>\n",
       "      <th>8</th>\n",
       "      <td>TEIJIN LTD</td>\n",
       "      <td>7.14290</td>\n",
       "      <td>None, None, AVG Sentiment: 7.14</td>\n",
       "      <td>0</td>\n",
       "      <td>1</td>\n",
       "      <td>#ffffff</td>\n",
       "    </tr>\n",
       "    <tr>\n",
       "      <th>9</th>\n",
       "      <td>YAMAHA CORP</td>\n",
       "      <td>59.16110</td>\n",
       "      <td>None, None, AVG Sentiment: 59.16</td>\n",
       "      <td>0</td>\n",
       "      <td>1</td>\n",
       "      <td>#006400</td>\n",
       "    </tr>\n",
       "    <tr>\n",
       "      <th>0</th>\n",
       "      <td>Consumer Non Cyclicals</td>\n",
       "      <td>-55.55560</td>\n",
       "      <td>No. Documents: 1, AVG Sentiment: -55.56</td>\n",
       "      <td>5</td>\n",
       "      <td>1</td>\n",
       "      <td>#8b0000</td>\n",
       "    </tr>\n",
       "    <tr>\n",
       "      <th>1</th>\n",
       "      <td>Consumer Staples</td>\n",
       "      <td>68.99310</td>\n",
       "      <td>No. Documents: 1, AVG Sentiment: 68.99</td>\n",
       "      <td>5</td>\n",
       "      <td>1</td>\n",
       "      <td>#006400</td>\n",
       "    </tr>\n",
       "    <tr>\n",
       "      <th>2</th>\n",
       "      <td>Healthcare</td>\n",
       "      <td>-6.94445</td>\n",
       "      <td>No. Documents: 2, AVG Sentiment: -6.94</td>\n",
       "      <td>5</td>\n",
       "      <td>2</td>\n",
       "      <td>#ffffff</td>\n",
       "    </tr>\n",
       "    <tr>\n",
       "      <th>3</th>\n",
       "      <td>Healthcare</td>\n",
       "      <td>-6.94445</td>\n",
       "      <td>No. Documents: 2, AVG Sentiment: -6.94</td>\n",
       "      <td>5</td>\n",
       "      <td>2</td>\n",
       "      <td>#ffffff</td>\n",
       "    </tr>\n",
       "    <tr>\n",
       "      <th>4</th>\n",
       "      <td>Industrials</td>\n",
       "      <td>10.81200</td>\n",
       "      <td>No. Documents: 2, AVG Sentiment: 10.81</td>\n",
       "      <td>5</td>\n",
       "      <td>2</td>\n",
       "      <td>#90ee90</td>\n",
       "    </tr>\n",
       "    <tr>\n",
       "      <th>5</th>\n",
       "      <td>Industrials</td>\n",
       "      <td>10.81200</td>\n",
       "      <td>No. Documents: 2, AVG Sentiment: 10.81</td>\n",
       "      <td>5</td>\n",
       "      <td>2</td>\n",
       "      <td>#90ee90</td>\n",
       "    </tr>\n",
       "    <tr>\n",
       "      <th>6</th>\n",
       "      <td>None</td>\n",
       "      <td>33.15200</td>\n",
       "      <td>No. Documents: 2, AVG Sentiment: 33.15</td>\n",
       "      <td>5</td>\n",
       "      <td>2</td>\n",
       "      <td>#90ee90</td>\n",
       "    </tr>\n",
       "    <tr>\n",
       "      <th>7</th>\n",
       "      <td>None</td>\n",
       "      <td>33.15200</td>\n",
       "      <td>No. Documents: 2, AVG Sentiment: 33.15</td>\n",
       "      <td>5</td>\n",
       "      <td>2</td>\n",
       "      <td>#90ee90</td>\n",
       "    </tr>\n",
       "    <tr>\n",
       "      <th>8</th>\n",
       "      <td>Technology</td>\n",
       "      <td>12.26850</td>\n",
       "      <td>No. Documents: 1, AVG Sentiment: 12.27</td>\n",
       "      <td>5</td>\n",
       "      <td>1</td>\n",
       "      <td>#90ee90</td>\n",
       "    </tr>\n",
       "    <tr>\n",
       "      <th>9</th>\n",
       "      <td>Utilities</td>\n",
       "      <td>14.06250</td>\n",
       "      <td>No. Documents: 1, AVG Sentiment: 14.06</td>\n",
       "      <td>5</td>\n",
       "      <td>1</td>\n",
       "      <td>#90ee90</td>\n",
       "    </tr>\n",
       "    <tr>\n",
       "      <th>0</th>\n",
       "      <td>Environment - Energy Management - SASB</td>\n",
       "      <td>30.60658</td>\n",
       "      <td>No. Documents: 5, AVG Sentiment: 30.61</td>\n",
       "      <td>3</td>\n",
       "      <td>5</td>\n",
       "      <td>#90ee90</td>\n",
       "    </tr>\n",
       "    <tr>\n",
       "      <th>1</th>\n",
       "      <td>Environment - Energy Management - SASB</td>\n",
       "      <td>30.60658</td>\n",
       "      <td>No. Documents: 5, AVG Sentiment: 30.61</td>\n",
       "      <td>3</td>\n",
       "      <td>5</td>\n",
       "      <td>#90ee90</td>\n",
       "    </tr>\n",
       "    <tr>\n",
       "      <th>2</th>\n",
       "      <td>Environment - Energy Management - SASB</td>\n",
       "      <td>30.60658</td>\n",
       "      <td>No. Documents: 5, AVG Sentiment: 30.61</td>\n",
       "      <td>3</td>\n",
       "      <td>5</td>\n",
       "      <td>#90ee90</td>\n",
       "    </tr>\n",
       "    <tr>\n",
       "      <th>3</th>\n",
       "      <td>Environment - Energy Management - SASB</td>\n",
       "      <td>30.60658</td>\n",
       "      <td>No. Documents: 5, AVG Sentiment: 30.61</td>\n",
       "      <td>3</td>\n",
       "      <td>5</td>\n",
       "      <td>#90ee90</td>\n",
       "    </tr>\n",
       "    <tr>\n",
       "      <th>4</th>\n",
       "      <td>Environment - Energy Management - SASB</td>\n",
       "      <td>30.60658</td>\n",
       "      <td>No. Documents: 5, AVG Sentiment: 30.61</td>\n",
       "      <td>3</td>\n",
       "      <td>5</td>\n",
       "      <td>#90ee90</td>\n",
       "    </tr>\n",
       "    <tr>\n",
       "      <th>5</th>\n",
       "      <td>Environment - GHG Emissions - SASB</td>\n",
       "      <td>11.80560</td>\n",
       "      <td>No. Documents: 1, AVG Sentiment: 11.81</td>\n",
       "      <td>3</td>\n",
       "      <td>1</td>\n",
       "      <td>#90ee90</td>\n",
       "    </tr>\n",
       "    <tr>\n",
       "      <th>6</th>\n",
       "      <td>Environment - Water Waste Management - SASB</td>\n",
       "      <td>1.04170</td>\n",
       "      <td>No. Documents: 1, AVG Sentiment: 1.04</td>\n",
       "      <td>3</td>\n",
       "      <td>1</td>\n",
       "      <td>#ffffff</td>\n",
       "    </tr>\n",
       "    <tr>\n",
       "      <th>7</th>\n",
       "      <td>Governance - Product Design &amp; Lifecycle Manage...</td>\n",
       "      <td>43.00955</td>\n",
       "      <td>No. Documents: 2, AVG Sentiment: 43.01</td>\n",
       "      <td>17</td>\n",
       "      <td>2</td>\n",
       "      <td>#90ee90</td>\n",
       "    </tr>\n",
       "    <tr>\n",
       "      <th>8</th>\n",
       "      <td>Governance - Product Design &amp; Lifecycle Manage...</td>\n",
       "      <td>43.00955</td>\n",
       "      <td>No. Documents: 2, AVG Sentiment: 43.01</td>\n",
       "      <td>17</td>\n",
       "      <td>2</td>\n",
       "      <td>#90ee90</td>\n",
       "    </tr>\n",
       "    <tr>\n",
       "      <th>9</th>\n",
       "      <td>Social - Data Security - SASB</td>\n",
       "      <td>12.10320</td>\n",
       "      <td>No. Documents: 1, AVG Sentiment: 12.1</td>\n",
       "      <td>4</td>\n",
       "      <td>1</td>\n",
       "      <td>#90ee90</td>\n",
       "    </tr>\n",
       "  </tbody>\n",
       "</table>\n",
       "</div>"
      ],
      "text/plain": [
       "                                                node  AVG Sentiment  \\\n",
       "0                                  AGTHIA GROUP PJSC       68.99310   \n",
       "1                             Adani Green Energy Ltd       14.06250   \n",
       "2                                       Alphabet Inc       12.26850   \n",
       "3                                   BOMBARDIER INC-A       10.81200   \n",
       "4                                   BOMBARDIER INC-A       10.81200   \n",
       "5                          INMED PHARMACEUTICALS INC      -25.00000   \n",
       "6                                       Illumina Inc       11.11110   \n",
       "7                           Procter & Gamble Company      -55.55560   \n",
       "8                                         TEIJIN LTD        7.14290   \n",
       "9                                        YAMAHA CORP       59.16110   \n",
       "0                             Consumer Non Cyclicals      -55.55560   \n",
       "1                                   Consumer Staples       68.99310   \n",
       "2                                         Healthcare       -6.94445   \n",
       "3                                         Healthcare       -6.94445   \n",
       "4                                        Industrials       10.81200   \n",
       "5                                        Industrials       10.81200   \n",
       "6                                               None       33.15200   \n",
       "7                                               None       33.15200   \n",
       "8                                         Technology       12.26850   \n",
       "9                                          Utilities       14.06250   \n",
       "0             Environment - Energy Management - SASB       30.60658   \n",
       "1             Environment - Energy Management - SASB       30.60658   \n",
       "2             Environment - Energy Management - SASB       30.60658   \n",
       "3             Environment - Energy Management - SASB       30.60658   \n",
       "4             Environment - Energy Management - SASB       30.60658   \n",
       "5                 Environment - GHG Emissions - SASB       11.80560   \n",
       "6        Environment - Water Waste Management - SASB        1.04170   \n",
       "7  Governance - Product Design & Lifecycle Manage...       43.00955   \n",
       "8  Governance - Product Design & Lifecycle Manage...       43.00955   \n",
       "9                      Social - Data Security - SASB       12.10320   \n",
       "\n",
       "                                          Hover_info  shape_index  size  \\\n",
       "0  Middle East, United Arab Emirates, AVG Sentime...            0     1   \n",
       "1                  Asia, India, AVG Sentiment: 14.06            0     1   \n",
       "2       Europe, United Kingdom, AVG Sentiment: 12.27            0     1   \n",
       "3             Americas, Canada, AVG Sentiment: 10.81            0     2   \n",
       "4             Americas, Canada, AVG Sentiment: 10.81            0     2   \n",
       "5             Americas, Canada, AVG Sentiment: -25.0            0     1   \n",
       "6       Europe, United Kingdom, AVG Sentiment: 11.11            0     1   \n",
       "7                 Asia, India, AVG Sentiment: -55.56            0     1   \n",
       "8                    None, None, AVG Sentiment: 7.14            0     1   \n",
       "9                   None, None, AVG Sentiment: 59.16            0     1   \n",
       "0            No. Documents: 1, AVG Sentiment: -55.56            5     1   \n",
       "1             No. Documents: 1, AVG Sentiment: 68.99            5     1   \n",
       "2             No. Documents: 2, AVG Sentiment: -6.94            5     2   \n",
       "3             No. Documents: 2, AVG Sentiment: -6.94            5     2   \n",
       "4             No. Documents: 2, AVG Sentiment: 10.81            5     2   \n",
       "5             No. Documents: 2, AVG Sentiment: 10.81            5     2   \n",
       "6             No. Documents: 2, AVG Sentiment: 33.15            5     2   \n",
       "7             No. Documents: 2, AVG Sentiment: 33.15            5     2   \n",
       "8             No. Documents: 1, AVG Sentiment: 12.27            5     1   \n",
       "9             No. Documents: 1, AVG Sentiment: 14.06            5     1   \n",
       "0             No. Documents: 5, AVG Sentiment: 30.61            3     5   \n",
       "1             No. Documents: 5, AVG Sentiment: 30.61            3     5   \n",
       "2             No. Documents: 5, AVG Sentiment: 30.61            3     5   \n",
       "3             No. Documents: 5, AVG Sentiment: 30.61            3     5   \n",
       "4             No. Documents: 5, AVG Sentiment: 30.61            3     5   \n",
       "5             No. Documents: 1, AVG Sentiment: 11.81            3     1   \n",
       "6              No. Documents: 1, AVG Sentiment: 1.04            3     1   \n",
       "7             No. Documents: 2, AVG Sentiment: 43.01           17     2   \n",
       "8             No. Documents: 2, AVG Sentiment: 43.01           17     2   \n",
       "9              No. Documents: 1, AVG Sentiment: 12.1            4     1   \n",
       "\n",
       "     color  \n",
       "0  #006400  \n",
       "1  #90ee90  \n",
       "2  #90ee90  \n",
       "3  #90ee90  \n",
       "4  #90ee90  \n",
       "5  #ff0000  \n",
       "6  #90ee90  \n",
       "7  #8b0000  \n",
       "8  #ffffff  \n",
       "9  #006400  \n",
       "0  #8b0000  \n",
       "1  #006400  \n",
       "2  #ffffff  \n",
       "3  #ffffff  \n",
       "4  #90ee90  \n",
       "5  #90ee90  \n",
       "6  #90ee90  \n",
       "7  #90ee90  \n",
       "8  #90ee90  \n",
       "9  #90ee90  \n",
       "0  #90ee90  \n",
       "1  #90ee90  \n",
       "2  #90ee90  \n",
       "3  #90ee90  \n",
       "4  #90ee90  \n",
       "5  #90ee90  \n",
       "6  #ffffff  \n",
       "7  #90ee90  \n",
       "8  #90ee90  \n",
       "9  #90ee90  "
      ]
     },
     "execution_count": 86,
     "metadata": {},
     "output_type": "execute_result"
    }
   ],
   "source": [
    "all_nodes"
   ]
  }
 ],
 "metadata": {
  "kernelspec": {
   "display_name": "Python 3",
   "language": "python",
   "name": "python3"
  },
  "language_info": {
   "codemirror_mode": {
    "name": "ipython",
    "version": 3
   },
   "file_extension": ".py",
   "mimetype": "text/x-python",
   "name": "python",
   "nbconvert_exporter": "python",
   "pygments_lexer": "ipython3",
   "version": "3.7.3"
  }
 },
 "nbformat": 4,
 "nbformat_minor": 2
}
