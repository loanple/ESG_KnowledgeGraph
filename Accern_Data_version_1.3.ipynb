{
 "cells": [
  {
   "cell_type": "code",
   "execution_count": 2,
   "metadata": {},
   "outputs": [],
   "source": [
    "#Importing Libraries\n",
    "import glob\n",
    "import numpy as np \n",
    "import pandas as pd \n",
    "import matplotlib.pyplot as plt \n",
    "%matplotlib inline\n",
    "import seaborn as sns\n",
    "import warnings; \n",
    "from sklearn.preprocessing import LabelEncoder"
   ]
  },
  {
   "cell_type": "markdown",
   "metadata": {},
   "source": [
    "extension = 'csv'\n",
    "all_filenames = [i for i in glob.glob('*.{}'.format(extension))]"
   ]
  },
  {
   "cell_type": "code",
   "execution_count": 3,
   "metadata": {},
   "outputs": [],
   "source": [
    "data_file = '/Users/loanple/Desktop/Fall 2020/5900/Data2/columbia_capstone_fall2020_esg.csv'\n",
    "data = pd.read_csv(data_file, parse_dates = ['crawled_at','harvested_at','published_at'])"
   ]
  },
  {
   "cell_type": "code",
   "execution_count": 4,
   "metadata": {},
   "outputs": [
    {
     "name": "stdout",
     "output_type": "stream",
     "text": [
      "2020-01-01 00:00:00+00:00\n",
      "2020-10-18 23:54:58+00:00\n"
     ]
    }
   ],
   "source": [
    "print (min(data['published_at']))\n",
    "print (max(data['published_at']))"
   ]
  },
  {
   "cell_type": "code",
   "execution_count": 10,
   "metadata": {},
   "outputs": [
    {
     "data": {
      "text/html": [
       "<div>\n",
       "<style scoped>\n",
       "    .dataframe tbody tr th:only-of-type {\n",
       "        vertical-align: middle;\n",
       "    }\n",
       "\n",
       "    .dataframe tbody tr th {\n",
       "        vertical-align: top;\n",
       "    }\n",
       "\n",
       "    .dataframe thead th {\n",
       "        text-align: right;\n",
       "    }\n",
       "</style>\n",
       "<table border=\"1\" class=\"dataframe\">\n",
       "  <thead>\n",
       "    <tr style=\"text-align: right;\">\n",
       "      <th></th>\n",
       "      <th>doc_sentiment</th>\n",
       "      <th>entity_relevance</th>\n",
       "      <th>entity_sentiment</th>\n",
       "      <th>event_accern_id</th>\n",
       "      <th>event_relevance</th>\n",
       "      <th>event_sentiment</th>\n",
       "      <th>provider_id</th>\n",
       "      <th>signal_relevance</th>\n",
       "      <th>signal_sentiment</th>\n",
       "    </tr>\n",
       "  </thead>\n",
       "  <tbody>\n",
       "    <tr>\n",
       "      <th>count</th>\n",
       "      <td>554606.00</td>\n",
       "      <td>554606.00</td>\n",
       "      <td>554606.00</td>\n",
       "      <td>554606.00</td>\n",
       "      <td>554606.00</td>\n",
       "      <td>554606.00</td>\n",
       "      <td>554606.00</td>\n",
       "      <td>554606.00</td>\n",
       "      <td>554606.00</td>\n",
       "    </tr>\n",
       "    <tr>\n",
       "      <th>mean</th>\n",
       "      <td>10.39</td>\n",
       "      <td>62.38</td>\n",
       "      <td>12.56</td>\n",
       "      <td>173.07</td>\n",
       "      <td>75.43</td>\n",
       "      <td>9.00</td>\n",
       "      <td>1.41</td>\n",
       "      <td>47.46</td>\n",
       "      <td>11.03</td>\n",
       "    </tr>\n",
       "    <tr>\n",
       "      <th>std</th>\n",
       "      <td>22.53</td>\n",
       "      <td>36.80</td>\n",
       "      <td>33.19</td>\n",
       "      <td>9.94</td>\n",
       "      <td>25.87</td>\n",
       "      <td>30.02</td>\n",
       "      <td>1.70</td>\n",
       "      <td>25.19</td>\n",
       "      <td>27.50</td>\n",
       "    </tr>\n",
       "    <tr>\n",
       "      <th>min</th>\n",
       "      <td>-97.22</td>\n",
       "      <td>0.14</td>\n",
       "      <td>-97.69</td>\n",
       "      <td>155.00</td>\n",
       "      <td>2.23</td>\n",
       "      <td>-100.00</td>\n",
       "      <td>1.00</td>\n",
       "      <td>1.10</td>\n",
       "      <td>-97.57</td>\n",
       "    </tr>\n",
       "    <tr>\n",
       "      <th>25%</th>\n",
       "      <td>-1.09</td>\n",
       "      <td>24.75</td>\n",
       "      <td>-0.69</td>\n",
       "      <td>165.00</td>\n",
       "      <td>52.50</td>\n",
       "      <td>-1.50</td>\n",
       "      <td>1.00</td>\n",
       "      <td>28.75</td>\n",
       "      <td>-2.25</td>\n",
       "    </tr>\n",
       "    <tr>\n",
       "      <th>50%</th>\n",
       "      <td>10.82</td>\n",
       "      <td>90.00</td>\n",
       "      <td>11.11</td>\n",
       "      <td>177.00</td>\n",
       "      <td>90.00</td>\n",
       "      <td>10.19</td>\n",
       "      <td>1.00</td>\n",
       "      <td>45.00</td>\n",
       "      <td>11.22</td>\n",
       "    </tr>\n",
       "    <tr>\n",
       "      <th>75%</th>\n",
       "      <td>22.60</td>\n",
       "      <td>100.00</td>\n",
       "      <td>26.85</td>\n",
       "      <td>178.00</td>\n",
       "      <td>90.00</td>\n",
       "      <td>23.26</td>\n",
       "      <td>1.00</td>\n",
       "      <td>60.71</td>\n",
       "      <td>25.00</td>\n",
       "    </tr>\n",
       "    <tr>\n",
       "      <th>max</th>\n",
       "      <td>91.37</td>\n",
       "      <td>100.00</td>\n",
       "      <td>94.44</td>\n",
       "      <td>195.00</td>\n",
       "      <td>100.00</td>\n",
       "      <td>93.75</td>\n",
       "      <td>9.00</td>\n",
       "      <td>100.00</td>\n",
       "      <td>92.71</td>\n",
       "    </tr>\n",
       "  </tbody>\n",
       "</table>\n",
       "</div>"
      ],
      "text/plain": [
       "       doc_sentiment  entity_relevance  entity_sentiment  event_accern_id  \\\n",
       "count      554606.00         554606.00         554606.00        554606.00   \n",
       "mean           10.39             62.38             12.56           173.07   \n",
       "std            22.53             36.80             33.19             9.94   \n",
       "min           -97.22              0.14            -97.69           155.00   \n",
       "25%            -1.09             24.75             -0.69           165.00   \n",
       "50%            10.82             90.00             11.11           177.00   \n",
       "75%            22.60            100.00             26.85           178.00   \n",
       "max            91.37            100.00             94.44           195.00   \n",
       "\n",
       "       event_relevance  event_sentiment  provider_id  signal_relevance  \\\n",
       "count        554606.00        554606.00    554606.00         554606.00   \n",
       "mean             75.43             9.00         1.41             47.46   \n",
       "std              25.87            30.02         1.70             25.19   \n",
       "min               2.23          -100.00         1.00              1.10   \n",
       "25%              52.50            -1.50         1.00             28.75   \n",
       "50%              90.00            10.19         1.00             45.00   \n",
       "75%              90.00            23.26         1.00             60.71   \n",
       "max             100.00            93.75         9.00            100.00   \n",
       "\n",
       "       signal_sentiment  \n",
       "count         554606.00  \n",
       "mean              11.03  \n",
       "std               27.50  \n",
       "min              -97.57  \n",
       "25%               -2.25  \n",
       "50%               11.22  \n",
       "75%               25.00  \n",
       "max               92.71  "
      ]
     },
     "execution_count": 10,
     "metadata": {},
     "output_type": "execute_result"
    }
   ],
   "source": [
    "data.describe().round(2)"
   ]
  },
  {
   "cell_type": "markdown",
   "metadata": {},
   "source": [
    "### <font color=red> Document Source, Document URL, Observations, Unique Values </font>"
   ]
  },
  {
   "cell_type": "code",
   "execution_count": 11,
   "metadata": {},
   "outputs": [],
   "source": [
    "rows = data.shape[0]"
   ]
  },
  {
   "cell_type": "code",
   "execution_count": 12,
   "metadata": {},
   "outputs": [
    {
     "name": "stdout",
     "output_type": "stream",
     "text": [
      "There are 554,606 rows from 337,024 unique document url that are sourced from 31,490 links.\n",
      "\n",
      "60.77% of the 554,606 observations come from unique url articles.\n"
     ]
    }
   ],
   "source": [
    "dsource = data['doc_source'].unique().size\n",
    "durl = data['doc_url'].unique().size\n",
    "\n",
    "print(\"There are\", f\"{rows:,d}\", \"rows from\", f\"{durl:,d}\", \"unique document url that are sourced from\", f\"{dsource:,d}\", \"links.\")\n",
    "print(\"\\n{:.2%}\".format(durl/rows), \"of the\", f\"{rows:,d}\",\"observations come from unique url articles.\")"
   ]
  },
  {
   "cell_type": "code",
   "execution_count": 21,
   "metadata": {},
   "outputs": [
    {
     "name": "stdout",
     "output_type": "stream",
     "text": [
      "Unique count for key variables: \n",
      "\n",
      "DOCUMENT DETAILS\n",
      "doc_source:  31489\n",
      "doc_url:  337024\n",
      "doc_type:  2\n",
      "\n",
      "COMPANY DETAILS\n",
      "entity_name:  7090\n",
      "entity_sector:  19\n",
      "entity_region:  7\n",
      "entity_country  56\n",
      "\n",
      "EVENT DETAILS\n",
      "event:  23\n",
      "event_group:  3\n"
     ]
    }
   ],
   "source": [
    "print(\"Unique count for key variables: \")\n",
    "print(\"\\nDOCUMENT DETAILS\\ndoc_source: \", data['doc_source'].nunique())\n",
    "print(\"doc_url: \", data['doc_url'].nunique())\n",
    "print(\"doc_type: \", data['doc_type'].nunique())\n",
    "\n",
    "print(\"\\nCOMPANY DETAILS\\nentity_name: \", data['entity_name'].nunique())\n",
    "print(\"entity_sector: \", data['entity_sector'].nunique())\n",
    "print(\"entity_region: \", data['entity_region'].nunique())\n",
    "print(\"entity_country \", data['entity_country'].nunique())\n",
    "\n",
    "print(\"\\nEVENT DETAILS\\nevent: \", data['event'].nunique())\n",
    "print(\"event_group: \", data['event_group'].nunique())"
   ]
  },
  {
   "cell_type": "markdown",
   "metadata": {},
   "source": [
    "### 19 Unique Entity Sector"
   ]
  },
  {
   "cell_type": "code",
   "execution_count": 22,
   "metadata": {},
   "outputs": [
    {
     "data": {
      "text/plain": [
       "[]"
      ]
     },
     "execution_count": 22,
     "metadata": {},
     "output_type": "execute_result"
    },
    {
     "data": {
      "image/png": "[encoded data removed]",
      "text/plain": [
       "<Figure size 1152x432 with 1 Axes>"
      ]
     },
     "metadata": {
      "needs_background": "light"
     },
     "output_type": "display_data"
    }
   ],
   "source": [
    "plt.figure(figsize=(16,6))\n",
    "sns.countplot(x = 'entity_sector', data = data)\n",
    "plt.title('Entity Sectors')\n",
    "plt.xticks(rotation = 90)\n",
    "plt.plot()"
   ]
  },
  {
   "cell_type": "markdown",
   "metadata": {},
   "source": [
    "##### It can be observed that majority of the data is of entities that belong to Technology sector followed by Industrials and healthcare"
   ]
  },
  {
   "cell_type": "code",
   "execution_count": 23,
   "metadata": {},
   "outputs": [
    {
     "data": {
      "text/plain": [
       "[]"
      ]
     },
     "execution_count": 23,
     "metadata": {},
     "output_type": "execute_result"
    },
    {
     "data": {
      "image/png": "[encoded data removed]",
      "text/plain": [
       "<Figure size 1152x432 with 1 Axes>"
      ]
     },
     "metadata": {
      "needs_background": "light"
     },
     "output_type": "display_data"
    }
   ],
   "source": [
    "plt.figure(figsize=(16,6))\n",
    "sns.countplot(x = 'event', data = data)\n",
    "plt.title('Events')\n",
    "plt.xticks(rotation = 90)\n",
    "plt.plot()"
   ]
  },
  {
   "cell_type": "markdown",
   "metadata": {},
   "source": [
    "#### It can be observed that majority of the records were for the events Social (Data Security), Environment (Energy Mgmt), Environment (Ecological Impacts)"
   ]
  },
  {
   "cell_type": "markdown",
   "metadata": {},
   "source": [
    "## Event Groups"
   ]
  },
  {
   "cell_type": "code",
   "execution_count": 24,
   "metadata": {},
   "outputs": [
    {
     "data": {
      "text/plain": [
       "[]"
      ]
     },
     "execution_count": 24,
     "metadata": {},
     "output_type": "execute_result"
    },
    {
     "data": {
      "image/png": "[encoded data removed]",
      "text/plain": [
       "<Figure size 1152x432 with 1 Axes>"
      ]
     },
     "metadata": {
      "needs_background": "light"
     },
     "output_type": "display_data"
    }
   ],
   "source": [
    "plt.figure(figsize=(16,6))\n",
    "sns.countplot(x = 'event_group', data = data)\n",
    "plt.title('Events Groups')\n",
    "plt.xticks(rotation = 90)\n",
    "plt.plot()"
   ]
  },
  {
   "cell_type": "code",
   "execution_count": 28,
   "metadata": {},
   "outputs": [
    {
     "name": "stdout",
     "output_type": "stream",
     "text": [
      "Counting all observations from entity sectors within ESG Vertical: \n"
     ]
    },
    {
     "data": {
      "text/plain": [
       "event_group\n",
       "Environment    149442\n",
       "Governance      49726\n",
       "Social         132751\n",
       "Name: entity_sector, dtype: int64"
      ]
     },
     "execution_count": 28,
     "metadata": {},
     "output_type": "execute_result"
    }
   ],
   "source": [
    "entity_sector_in_esg = data.groupby(\"event_group\", as_index =True)[\"entity_sector\"].count()\n",
    "\n",
    "print(\"Counting all observations from entity sectors within ESG Vertical: \")\n",
    "entity_sector_in_esg"
   ]
  },
  {
   "cell_type": "code",
   "execution_count": 29,
   "metadata": {},
   "outputs": [
    {
     "name": "stdout",
     "output_type": "stream",
     "text": [
      "Counting all observations from events within ESG Vertical: \n"
     ]
    },
    {
     "data": {
      "text/plain": [
       "event_group\n",
       "Environment    268592\n",
       "Governance      85974\n",
       "Social         200040\n",
       "Name: event, dtype: int64"
      ]
     },
     "execution_count": 29,
     "metadata": {},
     "output_type": "execute_result"
    }
   ],
   "source": [
    "events_in_esg = data.groupby(\"event_group\", as_index =True)[\"event\"].count()\n",
    "\n",
    "print(\"Counting all observations from events within ESG Vertical: \")\n",
    "events_in_esg"
   ]
  },
  {
   "cell_type": "markdown",
   "metadata": {},
   "source": [
    "##### The events with high relevance are social (data security), social (labor practices), social(employ diversity and inclusion)"
   ]
  },
  {
   "cell_type": "code",
   "execution_count": 30,
   "metadata": {},
   "outputs": [
    {
     "data": {
      "image/png": "[encoded data removed]",
      "text/plain": [
       "<Figure size 1440x864 with 2 Axes>"
      ]
     },
     "metadata": {
      "needs_background": "light"
     },
     "output_type": "display_data"
    }
   ],
   "source": [
    "# Check for multicollinearity using correlation plot\n",
    "corr = data[['doc_sentiment', 'entity_relevance', 'entity_sentiment', 'event_relevance', 'event_sentiment', 'signal_relevance', 'signal_sentiment']].corr()\n",
    "f,ax = plt.subplots(figsize=(20,12))\n",
    "sns.heatmap(corr, annot=True, cmap='Reds', linewidths=.5, fmt= '.1f',ax=ax)\n",
    "plt.show()"
   ]
  },
  {
   "cell_type": "code",
   "execution_count": 31,
   "metadata": {},
   "outputs": [
    {
     "data": {
      "image/png": "[encoded data removed]",
      "text/plain": [
       "<Figure size 1440x864 with 2 Axes>"
      ]
     },
     "metadata": {
      "needs_background": "light"
     },
     "output_type": "display_data"
    }
   ],
   "source": [
    "# Check for multicollinearity using correlation plot\n",
    "corr = data[['doc_sentiment', 'entity_sentiment', 'event_sentiment', 'signal_sentiment']].corr()\n",
    "f,ax = plt.subplots(figsize=(20,12))\n",
    "sns.heatmap(corr, annot=True, cmap='Greens', linewidths=.5, fmt= '.1f',ax=ax)\n",
    "plt.show()"
   ]
  },
  {
   "cell_type": "code",
   "execution_count": 32,
   "metadata": {},
   "outputs": [
    {
     "data": {
      "image/png": "[encoded data removed]",
      "text/plain": [
       "<Figure size 1440x864 with 2 Axes>"
      ]
     },
     "metadata": {
      "needs_background": "light"
     },
     "output_type": "display_data"
    }
   ],
   "source": [
    "# Check for multicollinearity using correlation plot\n",
    "corr = data[['entity_relevance', 'event_relevance', 'signal_relevance']].corr()\n",
    "f,ax = plt.subplots(figsize=(20,12))\n",
    "sns.heatmap(corr, annot=True, cmap='Greens', linewidths=.5, fmt= '.1f',ax=ax)\n",
    "plt.show()"
   ]
  },
  {
   "cell_type": "markdown",
   "metadata": {},
   "source": [
    "## Country & Region"
   ]
  },
  {
   "cell_type": "markdown",
   "metadata": {},
   "source": [
    "#### Studying region-wise average event sentiment"
   ]
  },
  {
   "cell_type": "code",
   "execution_count": 33,
   "metadata": {},
   "outputs": [
    {
     "data": {
      "text/html": [
       "<div>\n",
       "<style scoped>\n",
       "    .dataframe tbody tr th:only-of-type {\n",
       "        vertical-align: middle;\n",
       "    }\n",
       "\n",
       "    .dataframe tbody tr th {\n",
       "        vertical-align: top;\n",
       "    }\n",
       "\n",
       "    .dataframe thead th {\n",
       "        text-align: right;\n",
       "    }\n",
       "</style>\n",
       "<table border=\"1\" class=\"dataframe\">\n",
       "  <thead>\n",
       "    <tr style=\"text-align: right;\">\n",
       "      <th></th>\n",
       "      <th>entity_region</th>\n",
       "      <th>Average_event_sentiment</th>\n",
       "    </tr>\n",
       "  </thead>\n",
       "  <tbody>\n",
       "    <tr>\n",
       "      <th>0</th>\n",
       "      <td>Africa</td>\n",
       "      <td>4.51</td>\n",
       "    </tr>\n",
       "    <tr>\n",
       "      <th>1</th>\n",
       "      <td>Americas</td>\n",
       "      <td>8.77</td>\n",
       "    </tr>\n",
       "    <tr>\n",
       "      <th>2</th>\n",
       "      <td>Arctic</td>\n",
       "      <td>13.45</td>\n",
       "    </tr>\n",
       "    <tr>\n",
       "      <th>3</th>\n",
       "      <td>Asia</td>\n",
       "      <td>12.36</td>\n",
       "    </tr>\n",
       "    <tr>\n",
       "      <th>4</th>\n",
       "      <td>Australiasia</td>\n",
       "      <td>7.02</td>\n",
       "    </tr>\n",
       "    <tr>\n",
       "      <th>5</th>\n",
       "      <td>Europe</td>\n",
       "      <td>7.87</td>\n",
       "    </tr>\n",
       "    <tr>\n",
       "      <th>6</th>\n",
       "      <td>Middle East</td>\n",
       "      <td>15.85</td>\n",
       "    </tr>\n",
       "  </tbody>\n",
       "</table>\n",
       "</div>"
      ],
      "text/plain": [
       "  entity_region  Average_event_sentiment\n",
       "0        Africa                     4.51\n",
       "1      Americas                     8.77\n",
       "2        Arctic                    13.45\n",
       "3          Asia                    12.36\n",
       "4  Australiasia                     7.02\n",
       "5        Europe                     7.87\n",
       "6   Middle East                    15.85"
      ]
     },
     "execution_count": 33,
     "metadata": {},
     "output_type": "execute_result"
    }
   ],
   "source": [
    "locationWise = data.groupby(['entity_region'])['event_sentiment'].mean().round(2).reset_index(name='Average_event_sentiment')\n",
    "locationWise"
   ]
  },
  {
   "cell_type": "code",
   "execution_count": 34,
   "metadata": {},
   "outputs": [
    {
     "data": {
      "text/plain": [
       "<matplotlib.axes._subplots.AxesSubplot at 0x1a342b09b0>"
      ]
     },
     "execution_count": 34,
     "metadata": {},
     "output_type": "execute_result"
    },
    {
     "data": {
      "image/png": "[encoded data removed]",
      "text/plain": [
       "<Figure size 1080x360 with 1 Axes>"
      ]
     },
     "metadata": {
      "needs_background": "light"
     },
     "output_type": "display_data"
    }
   ],
   "source": [
    "plt.figure(figsize=(15, 5))\n",
    "plt.title('Region Wise Avg Event Sentiment')\n",
    "sns.barplot(locationWise['entity_region'], locationWise['Average_event_sentiment'])"
   ]
  },
  {
   "cell_type": "markdown",
   "metadata": {},
   "source": [
    "#### Studying country-wise average event sentiment"
   ]
  },
  {
   "cell_type": "code",
   "execution_count": 35,
   "metadata": {
    "scrolled": true
   },
   "outputs": [
    {
     "data": {
      "text/html": [
       "<div>\n",
       "<style scoped>\n",
       "    .dataframe tbody tr th:only-of-type {\n",
       "        vertical-align: middle;\n",
       "    }\n",
       "\n",
       "    .dataframe tbody tr th {\n",
       "        vertical-align: top;\n",
       "    }\n",
       "\n",
       "    .dataframe thead th {\n",
       "        text-align: right;\n",
       "    }\n",
       "</style>\n",
       "<table border=\"1\" class=\"dataframe\">\n",
       "  <thead>\n",
       "    <tr style=\"text-align: right;\">\n",
       "      <th></th>\n",
       "      <th>entity_country</th>\n",
       "      <th>Average_event_sentiment</th>\n",
       "    </tr>\n",
       "  </thead>\n",
       "  <tbody>\n",
       "    <tr>\n",
       "      <th>0</th>\n",
       "      <td>Argentina</td>\n",
       "      <td>20.67</td>\n",
       "    </tr>\n",
       "    <tr>\n",
       "      <th>1</th>\n",
       "      <td>Australia</td>\n",
       "      <td>6.97</td>\n",
       "    </tr>\n",
       "    <tr>\n",
       "      <th>2</th>\n",
       "      <td>Austria</td>\n",
       "      <td>7.07</td>\n",
       "    </tr>\n",
       "    <tr>\n",
       "      <th>3</th>\n",
       "      <td>Bangladesh</td>\n",
       "      <td>31.06</td>\n",
       "    </tr>\n",
       "    <tr>\n",
       "      <th>4</th>\n",
       "      <td>Belgium</td>\n",
       "      <td>10.50</td>\n",
       "    </tr>\n",
       "    <tr>\n",
       "      <th>5</th>\n",
       "      <td>Brazil</td>\n",
       "      <td>11.35</td>\n",
       "    </tr>\n",
       "    <tr>\n",
       "      <th>6</th>\n",
       "      <td>Canada</td>\n",
       "      <td>8.42</td>\n",
       "    </tr>\n",
       "    <tr>\n",
       "      <th>7</th>\n",
       "      <td>Chile</td>\n",
       "      <td>1.65</td>\n",
       "    </tr>\n",
       "    <tr>\n",
       "      <th>8</th>\n",
       "      <td>China</td>\n",
       "      <td>8.59</td>\n",
       "    </tr>\n",
       "    <tr>\n",
       "      <th>9</th>\n",
       "      <td>Colombia</td>\n",
       "      <td>19.37</td>\n",
       "    </tr>\n",
       "    <tr>\n",
       "      <th>10</th>\n",
       "      <td>Czech Republic</td>\n",
       "      <td>15.56</td>\n",
       "    </tr>\n",
       "    <tr>\n",
       "      <th>11</th>\n",
       "      <td>Denmark</td>\n",
       "      <td>14.19</td>\n",
       "    </tr>\n",
       "    <tr>\n",
       "      <th>12</th>\n",
       "      <td>Egypt</td>\n",
       "      <td>25.77</td>\n",
       "    </tr>\n",
       "    <tr>\n",
       "      <th>13</th>\n",
       "      <td>Estonia</td>\n",
       "      <td>24.86</td>\n",
       "    </tr>\n",
       "    <tr>\n",
       "      <th>14</th>\n",
       "      <td>Finland</td>\n",
       "      <td>15.36</td>\n",
       "    </tr>\n",
       "    <tr>\n",
       "      <th>15</th>\n",
       "      <td>France</td>\n",
       "      <td>11.17</td>\n",
       "    </tr>\n",
       "    <tr>\n",
       "      <th>16</th>\n",
       "      <td>Germany</td>\n",
       "      <td>8.31</td>\n",
       "    </tr>\n",
       "    <tr>\n",
       "      <th>17</th>\n",
       "      <td>Greece</td>\n",
       "      <td>4.90</td>\n",
       "    </tr>\n",
       "    <tr>\n",
       "      <th>18</th>\n",
       "      <td>Hong Kong</td>\n",
       "      <td>7.43</td>\n",
       "    </tr>\n",
       "    <tr>\n",
       "      <th>19</th>\n",
       "      <td>Hungary</td>\n",
       "      <td>1.26</td>\n",
       "    </tr>\n",
       "    <tr>\n",
       "      <th>20</th>\n",
       "      <td>Iceland</td>\n",
       "      <td>13.45</td>\n",
       "    </tr>\n",
       "    <tr>\n",
       "      <th>21</th>\n",
       "      <td>India</td>\n",
       "      <td>15.11</td>\n",
       "    </tr>\n",
       "    <tr>\n",
       "      <th>22</th>\n",
       "      <td>Indonesia</td>\n",
       "      <td>20.89</td>\n",
       "    </tr>\n",
       "    <tr>\n",
       "      <th>23</th>\n",
       "      <td>Israel</td>\n",
       "      <td>10.65</td>\n",
       "    </tr>\n",
       "    <tr>\n",
       "      <th>24</th>\n",
       "      <td>Italy</td>\n",
       "      <td>18.34</td>\n",
       "    </tr>\n",
       "    <tr>\n",
       "      <th>25</th>\n",
       "      <td>Japan</td>\n",
       "      <td>10.75</td>\n",
       "    </tr>\n",
       "    <tr>\n",
       "      <th>26</th>\n",
       "      <td>Jordan</td>\n",
       "      <td>57.35</td>\n",
       "    </tr>\n",
       "    <tr>\n",
       "      <th>27</th>\n",
       "      <td>Kenya</td>\n",
       "      <td>33.00</td>\n",
       "    </tr>\n",
       "    <tr>\n",
       "      <th>28</th>\n",
       "      <td>Kuwait</td>\n",
       "      <td>11.51</td>\n",
       "    </tr>\n",
       "    <tr>\n",
       "      <th>29</th>\n",
       "      <td>Malaysia</td>\n",
       "      <td>15.49</td>\n",
       "    </tr>\n",
       "    <tr>\n",
       "      <th>30</th>\n",
       "      <td>Mexico</td>\n",
       "      <td>26.35</td>\n",
       "    </tr>\n",
       "    <tr>\n",
       "      <th>31</th>\n",
       "      <td>Netherlands</td>\n",
       "      <td>13.82</td>\n",
       "    </tr>\n",
       "    <tr>\n",
       "      <th>32</th>\n",
       "      <td>New Zealand</td>\n",
       "      <td>7.42</td>\n",
       "    </tr>\n",
       "    <tr>\n",
       "      <th>33</th>\n",
       "      <td>Nigeria</td>\n",
       "      <td>12.81</td>\n",
       "    </tr>\n",
       "    <tr>\n",
       "      <th>34</th>\n",
       "      <td>Norway</td>\n",
       "      <td>12.79</td>\n",
       "    </tr>\n",
       "    <tr>\n",
       "      <th>35</th>\n",
       "      <td>Pakistan</td>\n",
       "      <td>45.17</td>\n",
       "    </tr>\n",
       "    <tr>\n",
       "      <th>36</th>\n",
       "      <td>Philippines</td>\n",
       "      <td>12.64</td>\n",
       "    </tr>\n",
       "    <tr>\n",
       "      <th>37</th>\n",
       "      <td>Poland</td>\n",
       "      <td>15.89</td>\n",
       "    </tr>\n",
       "    <tr>\n",
       "      <th>38</th>\n",
       "      <td>Portugal</td>\n",
       "      <td>11.82</td>\n",
       "    </tr>\n",
       "    <tr>\n",
       "      <th>39</th>\n",
       "      <td>Qatar</td>\n",
       "      <td>18.86</td>\n",
       "    </tr>\n",
       "    <tr>\n",
       "      <th>40</th>\n",
       "      <td>Russia</td>\n",
       "      <td>11.48</td>\n",
       "    </tr>\n",
       "    <tr>\n",
       "      <th>41</th>\n",
       "      <td>Saint Pierre and Miquelon</td>\n",
       "      <td>25.18</td>\n",
       "    </tr>\n",
       "    <tr>\n",
       "      <th>42</th>\n",
       "      <td>Saudi Arabia</td>\n",
       "      <td>18.19</td>\n",
       "    </tr>\n",
       "    <tr>\n",
       "      <th>43</th>\n",
       "      <td>Singapore</td>\n",
       "      <td>4.33</td>\n",
       "    </tr>\n",
       "    <tr>\n",
       "      <th>44</th>\n",
       "      <td>South Africa</td>\n",
       "      <td>6.32</td>\n",
       "    </tr>\n",
       "    <tr>\n",
       "      <th>45</th>\n",
       "      <td>South Korea</td>\n",
       "      <td>12.44</td>\n",
       "    </tr>\n",
       "    <tr>\n",
       "      <th>46</th>\n",
       "      <td>Spain</td>\n",
       "      <td>9.18</td>\n",
       "    </tr>\n",
       "    <tr>\n",
       "      <th>47</th>\n",
       "      <td>Sweden</td>\n",
       "      <td>7.90</td>\n",
       "    </tr>\n",
       "    <tr>\n",
       "      <th>48</th>\n",
       "      <td>Switzerland</td>\n",
       "      <td>13.36</td>\n",
       "    </tr>\n",
       "    <tr>\n",
       "      <th>49</th>\n",
       "      <td>Taiwan</td>\n",
       "      <td>19.00</td>\n",
       "    </tr>\n",
       "    <tr>\n",
       "      <th>50</th>\n",
       "      <td>Thailand</td>\n",
       "      <td>21.48</td>\n",
       "    </tr>\n",
       "    <tr>\n",
       "      <th>51</th>\n",
       "      <td>Turkey</td>\n",
       "      <td>14.21</td>\n",
       "    </tr>\n",
       "    <tr>\n",
       "      <th>52</th>\n",
       "      <td>United Arab Emirates</td>\n",
       "      <td>15.31</td>\n",
       "    </tr>\n",
       "    <tr>\n",
       "      <th>53</th>\n",
       "      <td>United Kingdom</td>\n",
       "      <td>6.79</td>\n",
       "    </tr>\n",
       "    <tr>\n",
       "      <th>54</th>\n",
       "      <td>United States</td>\n",
       "      <td>2.88</td>\n",
       "    </tr>\n",
       "    <tr>\n",
       "      <th>55</th>\n",
       "      <td>Zimbabwe</td>\n",
       "      <td>-4.42</td>\n",
       "    </tr>\n",
       "  </tbody>\n",
       "</table>\n",
       "</div>"
      ],
      "text/plain": [
       "               entity_country  Average_event_sentiment\n",
       "0                   Argentina                    20.67\n",
       "1                   Australia                     6.97\n",
       "2                     Austria                     7.07\n",
       "3                  Bangladesh                    31.06\n",
       "4                     Belgium                    10.50\n",
       "5                      Brazil                    11.35\n",
       "6                      Canada                     8.42\n",
       "7                       Chile                     1.65\n",
       "8                       China                     8.59\n",
       "9                    Colombia                    19.37\n",
       "10             Czech Republic                    15.56\n",
       "11                    Denmark                    14.19\n",
       "12                      Egypt                    25.77\n",
       "13                    Estonia                    24.86\n",
       "14                    Finland                    15.36\n",
       "15                     France                    11.17\n",
       "16                    Germany                     8.31\n",
       "17                     Greece                     4.90\n",
       "18                  Hong Kong                     7.43\n",
       "19                    Hungary                     1.26\n",
       "20                    Iceland                    13.45\n",
       "21                      India                    15.11\n",
       "22                  Indonesia                    20.89\n",
       "23                     Israel                    10.65\n",
       "24                      Italy                    18.34\n",
       "25                      Japan                    10.75\n",
       "26                     Jordan                    57.35\n",
       "27                      Kenya                    33.00\n",
       "28                     Kuwait                    11.51\n",
       "29                   Malaysia                    15.49\n",
       "30                     Mexico                    26.35\n",
       "31                Netherlands                    13.82\n",
       "32                New Zealand                     7.42\n",
       "33                    Nigeria                    12.81\n",
       "34                     Norway                    12.79\n",
       "35                   Pakistan                    45.17\n",
       "36                Philippines                    12.64\n",
       "37                     Poland                    15.89\n",
       "38                   Portugal                    11.82\n",
       "39                      Qatar                    18.86\n",
       "40                     Russia                    11.48\n",
       "41  Saint Pierre and Miquelon                    25.18\n",
       "42               Saudi Arabia                    18.19\n",
       "43                  Singapore                     4.33\n",
       "44               South Africa                     6.32\n",
       "45                South Korea                    12.44\n",
       "46                      Spain                     9.18\n",
       "47                     Sweden                     7.90\n",
       "48                Switzerland                    13.36\n",
       "49                     Taiwan                    19.00\n",
       "50                   Thailand                    21.48\n",
       "51                     Turkey                    14.21\n",
       "52       United Arab Emirates                    15.31\n",
       "53             United Kingdom                     6.79\n",
       "54              United States                     2.88\n",
       "55                   Zimbabwe                    -4.42"
      ]
     },
     "execution_count": 35,
     "metadata": {},
     "output_type": "execute_result"
    }
   ],
   "source": [
    "locationWise_event_sentiment = data.groupby(['entity_country'])['event_sentiment'].mean().round(2).reset_index(name='Average_event_sentiment')\n",
    "locationWise_event_sentiment"
   ]
  },
  {
   "cell_type": "code",
   "execution_count": 39,
   "metadata": {},
   "outputs": [
    {
     "data": {
      "image/png": "[encoded data removed]",
      "text/plain": [
       "<Figure size 3600x720 with 1 Axes>"
      ]
     },
     "metadata": {
      "needs_background": "light"
     },
     "output_type": "display_data"
    }
   ],
   "source": [
    "plt.figure(figsize=(50,10))\n",
    "plt.bar(locationWise_event_sentiment['entity_country'], locationWise_event_sentiment['Average_event_sentiment'], \n",
    "        color = ['pink', 'black', 'green', 'cyan','black','yellow','magenta'])\n",
    "plt.title('Country Wise Avg Event Sentiment')\n",
    "plt.show()"
   ]
  },
  {
   "cell_type": "markdown",
   "metadata": {},
   "source": [
    "#### Studying country-wise average event relevance"
   ]
  },
  {
   "cell_type": "code",
   "execution_count": 40,
   "metadata": {
    "scrolled": true
   },
   "outputs": [
    {
     "data": {
      "text/html": [
       "<div>\n",
       "<style scoped>\n",
       "    .dataframe tbody tr th:only-of-type {\n",
       "        vertical-align: middle;\n",
       "    }\n",
       "\n",
       "    .dataframe tbody tr th {\n",
       "        vertical-align: top;\n",
       "    }\n",
       "\n",
       "    .dataframe thead th {\n",
       "        text-align: right;\n",
       "    }\n",
       "</style>\n",
       "<table border=\"1\" class=\"dataframe\">\n",
       "  <thead>\n",
       "    <tr style=\"text-align: right;\">\n",
       "      <th></th>\n",
       "      <th>entity_country</th>\n",
       "      <th>Average_event_relevance</th>\n",
       "    </tr>\n",
       "  </thead>\n",
       "  <tbody>\n",
       "    <tr>\n",
       "      <th>0</th>\n",
       "      <td>Argentina</td>\n",
       "      <td>74.09</td>\n",
       "    </tr>\n",
       "    <tr>\n",
       "      <th>1</th>\n",
       "      <td>Australia</td>\n",
       "      <td>74.47</td>\n",
       "    </tr>\n",
       "    <tr>\n",
       "      <th>2</th>\n",
       "      <td>Austria</td>\n",
       "      <td>62.60</td>\n",
       "    </tr>\n",
       "    <tr>\n",
       "      <th>3</th>\n",
       "      <td>Bangladesh</td>\n",
       "      <td>51.75</td>\n",
       "    </tr>\n",
       "    <tr>\n",
       "      <th>4</th>\n",
       "      <td>Belgium</td>\n",
       "      <td>76.38</td>\n",
       "    </tr>\n",
       "    <tr>\n",
       "      <th>5</th>\n",
       "      <td>Brazil</td>\n",
       "      <td>75.38</td>\n",
       "    </tr>\n",
       "    <tr>\n",
       "      <th>6</th>\n",
       "      <td>Canada</td>\n",
       "      <td>74.78</td>\n",
       "    </tr>\n",
       "    <tr>\n",
       "      <th>7</th>\n",
       "      <td>Chile</td>\n",
       "      <td>80.81</td>\n",
       "    </tr>\n",
       "    <tr>\n",
       "      <th>8</th>\n",
       "      <td>China</td>\n",
       "      <td>78.96</td>\n",
       "    </tr>\n",
       "    <tr>\n",
       "      <th>9</th>\n",
       "      <td>Colombia</td>\n",
       "      <td>94.44</td>\n",
       "    </tr>\n",
       "    <tr>\n",
       "      <th>10</th>\n",
       "      <td>Czech Republic</td>\n",
       "      <td>77.37</td>\n",
       "    </tr>\n",
       "    <tr>\n",
       "      <th>11</th>\n",
       "      <td>Denmark</td>\n",
       "      <td>70.38</td>\n",
       "    </tr>\n",
       "    <tr>\n",
       "      <th>12</th>\n",
       "      <td>Egypt</td>\n",
       "      <td>63.63</td>\n",
       "    </tr>\n",
       "    <tr>\n",
       "      <th>13</th>\n",
       "      <td>Estonia</td>\n",
       "      <td>78.53</td>\n",
       "    </tr>\n",
       "    <tr>\n",
       "      <th>14</th>\n",
       "      <td>Finland</td>\n",
       "      <td>71.54</td>\n",
       "    </tr>\n",
       "    <tr>\n",
       "      <th>15</th>\n",
       "      <td>France</td>\n",
       "      <td>72.96</td>\n",
       "    </tr>\n",
       "    <tr>\n",
       "      <th>16</th>\n",
       "      <td>Germany</td>\n",
       "      <td>73.63</td>\n",
       "    </tr>\n",
       "    <tr>\n",
       "      <th>17</th>\n",
       "      <td>Greece</td>\n",
       "      <td>76.25</td>\n",
       "    </tr>\n",
       "    <tr>\n",
       "      <th>18</th>\n",
       "      <td>Hong Kong</td>\n",
       "      <td>77.88</td>\n",
       "    </tr>\n",
       "    <tr>\n",
       "      <th>19</th>\n",
       "      <td>Hungary</td>\n",
       "      <td>77.76</td>\n",
       "    </tr>\n",
       "    <tr>\n",
       "      <th>20</th>\n",
       "      <td>Iceland</td>\n",
       "      <td>75.09</td>\n",
       "    </tr>\n",
       "    <tr>\n",
       "      <th>21</th>\n",
       "      <td>India</td>\n",
       "      <td>76.50</td>\n",
       "    </tr>\n",
       "    <tr>\n",
       "      <th>22</th>\n",
       "      <td>Indonesia</td>\n",
       "      <td>76.37</td>\n",
       "    </tr>\n",
       "    <tr>\n",
       "      <th>23</th>\n",
       "      <td>Israel</td>\n",
       "      <td>72.00</td>\n",
       "    </tr>\n",
       "    <tr>\n",
       "      <th>24</th>\n",
       "      <td>Italy</td>\n",
       "      <td>66.07</td>\n",
       "    </tr>\n",
       "    <tr>\n",
       "      <th>25</th>\n",
       "      <td>Japan</td>\n",
       "      <td>73.79</td>\n",
       "    </tr>\n",
       "    <tr>\n",
       "      <th>26</th>\n",
       "      <td>Jordan</td>\n",
       "      <td>59.48</td>\n",
       "    </tr>\n",
       "    <tr>\n",
       "      <th>27</th>\n",
       "      <td>Kenya</td>\n",
       "      <td>90.43</td>\n",
       "    </tr>\n",
       "    <tr>\n",
       "      <th>28</th>\n",
       "      <td>Kuwait</td>\n",
       "      <td>84.17</td>\n",
       "    </tr>\n",
       "    <tr>\n",
       "      <th>29</th>\n",
       "      <td>Malaysia</td>\n",
       "      <td>84.12</td>\n",
       "    </tr>\n",
       "    <tr>\n",
       "      <th>30</th>\n",
       "      <td>Mexico</td>\n",
       "      <td>83.36</td>\n",
       "    </tr>\n",
       "    <tr>\n",
       "      <th>31</th>\n",
       "      <td>Netherlands</td>\n",
       "      <td>83.04</td>\n",
       "    </tr>\n",
       "    <tr>\n",
       "      <th>32</th>\n",
       "      <td>New Zealand</td>\n",
       "      <td>83.19</td>\n",
       "    </tr>\n",
       "    <tr>\n",
       "      <th>33</th>\n",
       "      <td>Nigeria</td>\n",
       "      <td>92.73</td>\n",
       "    </tr>\n",
       "    <tr>\n",
       "      <th>34</th>\n",
       "      <td>Norway</td>\n",
       "      <td>69.54</td>\n",
       "    </tr>\n",
       "    <tr>\n",
       "      <th>35</th>\n",
       "      <td>Pakistan</td>\n",
       "      <td>90.00</td>\n",
       "    </tr>\n",
       "    <tr>\n",
       "      <th>36</th>\n",
       "      <td>Philippines</td>\n",
       "      <td>73.10</td>\n",
       "    </tr>\n",
       "    <tr>\n",
       "      <th>37</th>\n",
       "      <td>Poland</td>\n",
       "      <td>70.32</td>\n",
       "    </tr>\n",
       "    <tr>\n",
       "      <th>38</th>\n",
       "      <td>Portugal</td>\n",
       "      <td>91.71</td>\n",
       "    </tr>\n",
       "    <tr>\n",
       "      <th>39</th>\n",
       "      <td>Qatar</td>\n",
       "      <td>83.45</td>\n",
       "    </tr>\n",
       "    <tr>\n",
       "      <th>40</th>\n",
       "      <td>Russia</td>\n",
       "      <td>81.16</td>\n",
       "    </tr>\n",
       "    <tr>\n",
       "      <th>41</th>\n",
       "      <td>Saint Pierre and Miquelon</td>\n",
       "      <td>81.79</td>\n",
       "    </tr>\n",
       "    <tr>\n",
       "      <th>42</th>\n",
       "      <td>Saudi Arabia</td>\n",
       "      <td>78.86</td>\n",
       "    </tr>\n",
       "    <tr>\n",
       "      <th>43</th>\n",
       "      <td>Singapore</td>\n",
       "      <td>83.68</td>\n",
       "    </tr>\n",
       "    <tr>\n",
       "      <th>44</th>\n",
       "      <td>South Africa</td>\n",
       "      <td>72.62</td>\n",
       "    </tr>\n",
       "    <tr>\n",
       "      <th>45</th>\n",
       "      <td>South Korea</td>\n",
       "      <td>71.85</td>\n",
       "    </tr>\n",
       "    <tr>\n",
       "      <th>46</th>\n",
       "      <td>Spain</td>\n",
       "      <td>74.44</td>\n",
       "    </tr>\n",
       "    <tr>\n",
       "      <th>47</th>\n",
       "      <td>Sweden</td>\n",
       "      <td>67.71</td>\n",
       "    </tr>\n",
       "    <tr>\n",
       "      <th>48</th>\n",
       "      <td>Switzerland</td>\n",
       "      <td>74.75</td>\n",
       "    </tr>\n",
       "    <tr>\n",
       "      <th>49</th>\n",
       "      <td>Taiwan</td>\n",
       "      <td>79.30</td>\n",
       "    </tr>\n",
       "    <tr>\n",
       "      <th>50</th>\n",
       "      <td>Thailand</td>\n",
       "      <td>71.10</td>\n",
       "    </tr>\n",
       "    <tr>\n",
       "      <th>51</th>\n",
       "      <td>Turkey</td>\n",
       "      <td>78.89</td>\n",
       "    </tr>\n",
       "    <tr>\n",
       "      <th>52</th>\n",
       "      <td>United Arab Emirates</td>\n",
       "      <td>59.60</td>\n",
       "    </tr>\n",
       "    <tr>\n",
       "      <th>53</th>\n",
       "      <td>United Kingdom</td>\n",
       "      <td>76.50</td>\n",
       "    </tr>\n",
       "    <tr>\n",
       "      <th>54</th>\n",
       "      <td>United States</td>\n",
       "      <td>51.43</td>\n",
       "    </tr>\n",
       "    <tr>\n",
       "      <th>55</th>\n",
       "      <td>Zimbabwe</td>\n",
       "      <td>88.33</td>\n",
       "    </tr>\n",
       "  </tbody>\n",
       "</table>\n",
       "</div>"
      ],
      "text/plain": [
       "               entity_country  Average_event_relevance\n",
       "0                   Argentina                    74.09\n",
       "1                   Australia                    74.47\n",
       "2                     Austria                    62.60\n",
       "3                  Bangladesh                    51.75\n",
       "4                     Belgium                    76.38\n",
       "5                      Brazil                    75.38\n",
       "6                      Canada                    74.78\n",
       "7                       Chile                    80.81\n",
       "8                       China                    78.96\n",
       "9                    Colombia                    94.44\n",
       "10             Czech Republic                    77.37\n",
       "11                    Denmark                    70.38\n",
       "12                      Egypt                    63.63\n",
       "13                    Estonia                    78.53\n",
       "14                    Finland                    71.54\n",
       "15                     France                    72.96\n",
       "16                    Germany                    73.63\n",
       "17                     Greece                    76.25\n",
       "18                  Hong Kong                    77.88\n",
       "19                    Hungary                    77.76\n",
       "20                    Iceland                    75.09\n",
       "21                      India                    76.50\n",
       "22                  Indonesia                    76.37\n",
       "23                     Israel                    72.00\n",
       "24                      Italy                    66.07\n",
       "25                      Japan                    73.79\n",
       "26                     Jordan                    59.48\n",
       "27                      Kenya                    90.43\n",
       "28                     Kuwait                    84.17\n",
       "29                   Malaysia                    84.12\n",
       "30                     Mexico                    83.36\n",
       "31                Netherlands                    83.04\n",
       "32                New Zealand                    83.19\n",
       "33                    Nigeria                    92.73\n",
       "34                     Norway                    69.54\n",
       "35                   Pakistan                    90.00\n",
       "36                Philippines                    73.10\n",
       "37                     Poland                    70.32\n",
       "38                   Portugal                    91.71\n",
       "39                      Qatar                    83.45\n",
       "40                     Russia                    81.16\n",
       "41  Saint Pierre and Miquelon                    81.79\n",
       "42               Saudi Arabia                    78.86\n",
       "43                  Singapore                    83.68\n",
       "44               South Africa                    72.62\n",
       "45                South Korea                    71.85\n",
       "46                      Spain                    74.44\n",
       "47                     Sweden                    67.71\n",
       "48                Switzerland                    74.75\n",
       "49                     Taiwan                    79.30\n",
       "50                   Thailand                    71.10\n",
       "51                     Turkey                    78.89\n",
       "52       United Arab Emirates                    59.60\n",
       "53             United Kingdom                    76.50\n",
       "54              United States                    51.43\n",
       "55                   Zimbabwe                    88.33"
      ]
     },
     "execution_count": 40,
     "metadata": {},
     "output_type": "execute_result"
    }
   ],
   "source": [
    "locationWise_event_relevance = data.groupby(['entity_country'])['event_relevance'].mean().round(2).reset_index(name='Average_event_relevance')\n",
    "locationWise_event_relevance"
   ]
  },
  {
   "cell_type": "code",
   "execution_count": 45,
   "metadata": {},
   "outputs": [
    {
     "data": {
      "image/png": "[encoded data removed]",
      "text/plain": [
       "<Figure size 5040x1440 with 1 Axes>"
      ]
     },
     "metadata": {
      "needs_background": "light"
     },
     "output_type": "display_data"
    }
   ],
   "source": [
    "plt.figure(figsize=(70,20))\n",
    "plt.bar(locationWise_event_relevance['entity_country'], locationWise_event_relevance['Average_event_relevance'], \n",
    "        color = ['pink', 'black', 'green', 'cyan','grey','yellow','magenta'])\n",
    "plt.title('Country Wise Average Event Relevance')\n",
    "plt.show()"
   ]
  },
  {
   "cell_type": "markdown",
   "metadata": {},
   "source": [
    "### <font color=red> Everything below: </font>"
   ]
  },
  {
   "cell_type": "markdown",
   "metadata": {},
   "source": [
    "#### % of **Event group counts** within each **entity region**: "
   ]
  },
  {
   "cell_type": "code",
   "execution_count": 46,
   "metadata": {},
   "outputs": [
    {
     "data": {
      "text/html": [
       "<div>\n",
       "<style scoped>\n",
       "    .dataframe tbody tr th:only-of-type {\n",
       "        vertical-align: middle;\n",
       "    }\n",
       "\n",
       "    .dataframe tbody tr th {\n",
       "        vertical-align: top;\n",
       "    }\n",
       "\n",
       "    .dataframe thead th {\n",
       "        text-align: right;\n",
       "    }\n",
       "</style>\n",
       "<table border=\"1\" class=\"dataframe\">\n",
       "  <thead>\n",
       "    <tr style=\"text-align: right;\">\n",
       "      <th></th>\n",
       "      <th></th>\n",
       "      <th>event_group</th>\n",
       "    </tr>\n",
       "    <tr>\n",
       "      <th>entity_region</th>\n",
       "      <th>event_group</th>\n",
       "      <th></th>\n",
       "    </tr>\n",
       "  </thead>\n",
       "  <tbody>\n",
       "    <tr>\n",
       "      <th rowspan=\"3\" valign=\"top\">Africa</th>\n",
       "      <th>Environment</th>\n",
       "      <td>51.33</td>\n",
       "    </tr>\n",
       "    <tr>\n",
       "      <th>Governance</th>\n",
       "      <td>21.17</td>\n",
       "    </tr>\n",
       "    <tr>\n",
       "      <th>Social</th>\n",
       "      <td>27.50</td>\n",
       "    </tr>\n",
       "    <tr>\n",
       "      <th rowspan=\"3\" valign=\"top\">Americas</th>\n",
       "      <th>Environment</th>\n",
       "      <td>52.97</td>\n",
       "    </tr>\n",
       "    <tr>\n",
       "      <th>Governance</th>\n",
       "      <td>15.79</td>\n",
       "    </tr>\n",
       "    <tr>\n",
       "      <th>Social</th>\n",
       "      <td>31.24</td>\n",
       "    </tr>\n",
       "    <tr>\n",
       "      <th rowspan=\"3\" valign=\"top\">Arctic</th>\n",
       "      <th>Environment</th>\n",
       "      <td>30.86</td>\n",
       "    </tr>\n",
       "    <tr>\n",
       "      <th>Governance</th>\n",
       "      <td>13.14</td>\n",
       "    </tr>\n",
       "    <tr>\n",
       "      <th>Social</th>\n",
       "      <td>56.00</td>\n",
       "    </tr>\n",
       "    <tr>\n",
       "      <th rowspan=\"3\" valign=\"top\">Asia</th>\n",
       "      <th>Environment</th>\n",
       "      <td>50.38</td>\n",
       "    </tr>\n",
       "    <tr>\n",
       "      <th>Governance</th>\n",
       "      <td>19.21</td>\n",
       "    </tr>\n",
       "    <tr>\n",
       "      <th>Social</th>\n",
       "      <td>30.41</td>\n",
       "    </tr>\n",
       "    <tr>\n",
       "      <th rowspan=\"3\" valign=\"top\">Australiasia</th>\n",
       "      <th>Environment</th>\n",
       "      <td>54.12</td>\n",
       "    </tr>\n",
       "    <tr>\n",
       "      <th>Governance</th>\n",
       "      <td>19.26</td>\n",
       "    </tr>\n",
       "    <tr>\n",
       "      <th>Social</th>\n",
       "      <td>26.62</td>\n",
       "    </tr>\n",
       "    <tr>\n",
       "      <th rowspan=\"3\" valign=\"top\">Europe</th>\n",
       "      <th>Environment</th>\n",
       "      <td>44.50</td>\n",
       "    </tr>\n",
       "    <tr>\n",
       "      <th>Governance</th>\n",
       "      <td>13.71</td>\n",
       "    </tr>\n",
       "    <tr>\n",
       "      <th>Social</th>\n",
       "      <td>41.78</td>\n",
       "    </tr>\n",
       "    <tr>\n",
       "      <th rowspan=\"3\" valign=\"top\">Middle East</th>\n",
       "      <th>Environment</th>\n",
       "      <td>47.65</td>\n",
       "    </tr>\n",
       "    <tr>\n",
       "      <th>Governance</th>\n",
       "      <td>26.88</td>\n",
       "    </tr>\n",
       "    <tr>\n",
       "      <th>Social</th>\n",
       "      <td>25.46</td>\n",
       "    </tr>\n",
       "  </tbody>\n",
       "</table>\n",
       "</div>"
      ],
      "text/plain": [
       "                           event_group\n",
       "entity_region event_group             \n",
       "Africa        Environment        51.33\n",
       "              Governance         21.17\n",
       "              Social             27.50\n",
       "Americas      Environment        52.97\n",
       "              Governance         15.79\n",
       "              Social             31.24\n",
       "Arctic        Environment        30.86\n",
       "              Governance         13.14\n",
       "              Social             56.00\n",
       "Asia          Environment        50.38\n",
       "              Governance         19.21\n",
       "              Social             30.41\n",
       "Australiasia  Environment        54.12\n",
       "              Governance         19.26\n",
       "              Social             26.62\n",
       "Europe        Environment        44.50\n",
       "              Governance         13.71\n",
       "              Social             41.78\n",
       "Middle East   Environment        47.65\n",
       "              Governance         26.88\n",
       "              Social             25.46"
      ]
     },
     "execution_count": 46,
     "metadata": {},
     "output_type": "execute_result"
    }
   ],
   "source": [
    "event_group_region = data.groupby([\"entity_region\",\"event_group\"]).agg({'event_group': 'count'})\n",
    "eg = data.groupby(['entity_region']).agg({'event_group': 'count'})\n",
    "\n",
    "(event_group_region.div(eg, level='entity_region') * 100).round(2)"
   ]
  },
  {
   "cell_type": "markdown",
   "metadata": {},
   "source": [
    "##### **Americans and Europe** show a focus first on Environment then Social."
   ]
  },
  {
   "cell_type": "markdown",
   "metadata": {},
   "source": [
    "##### **Asia** shows a focus on Environment then Governance and Social tie closely."
   ]
  },
  {
   "cell_type": "markdown",
   "metadata": {},
   "source": [
    "##### **Australiasia** show a focus on Environment then Governance then Social."
   ]
  },
  {
   "cell_type": "markdown",
   "metadata": {},
   "source": [
    "## **Events** within each **entity region**: "
   ]
  },
  {
   "cell_type": "markdown",
   "metadata": {},
   "source": [
    "### Americas"
   ]
  },
  {
   "cell_type": "code",
   "execution_count": 47,
   "metadata": {},
   "outputs": [
    {
     "data": {
      "text/plain": [
       "Environment - Energy Management - SASB                       8624\n",
       "Environment - Ecological Impacts - SASB                      7561\n",
       "Social - Data Security - SASB                                7382\n",
       "Environment - GHG Emissions - SASB                           6573\n",
       "Governance - Product Design & Lifecycle Management - SASB    3585\n",
       "Social - Customer Privacy - SASB                             2097\n",
       "Social - Labor Practices - SASB                              1957\n",
       "Governance - Physical Impacts of Climate Change - SASB       1607\n",
       "Social - Access & Affordability - SASB                       1157\n",
       "Environment - Air Quality - SASB                             1111\n",
       "Name: event, dtype: int64"
      ]
     },
     "execution_count": 47,
     "metadata": {},
     "output_type": "execute_result"
    }
   ],
   "source": [
    "americas_data = data[data[\"entity_region\"]==\"Americas\"] #subsetting for Americas region\n",
    "americas_data[\"event\"].value_counts().head(10)"
   ]
  },
  {
   "cell_type": "code",
   "execution_count": 48,
   "metadata": {},
   "outputs": [
    {
     "name": "stdout",
     "output_type": "stream",
     "text": [
      "Top entity sectors for this region: \n"
     ]
    },
    {
     "data": {
      "text/plain": [
       "Basic Materials    10821\n",
       "Healthcare          7080\n",
       "Energy              5132\n",
       "Technology          4771\n",
       "Industrials         3053\n",
       "Name: entity_sector, dtype: int64"
      ]
     },
     "execution_count": 48,
     "metadata": {},
     "output_type": "execute_result"
    }
   ],
   "source": [
    "print(\"Top entity sectors for this region: \")\n",
    "americas_data[\"entity_sector\"].value_counts().head()"
   ]
  },
  {
   "cell_type": "markdown",
   "metadata": {},
   "source": [
    "### Europe"
   ]
  },
  {
   "cell_type": "code",
   "execution_count": 49,
   "metadata": {},
   "outputs": [
    {
     "data": {
      "text/plain": [
       "Social - Data Security - SASB                                69358\n",
       "Environment - Energy Management - SASB                       44872\n",
       "Environment - GHG Emissions - SASB                           27385\n",
       "Environment - Ecological Impacts - SASB                      25536\n",
       "Governance - Product Design & Lifecycle Management - SASB    17538\n",
       "Social - Customer Privacy - SASB                             12515\n",
       "Social - Labor Practices - SASB                               8561\n",
       "Environment - Air Quality - SASB                              5249\n",
       "Social - Customer Welfare - SASB                              4740\n",
       "Governance - Competitive Behavior - SASB                      4627\n",
       "Name: event, dtype: int64"
      ]
     },
     "execution_count": 49,
     "metadata": {},
     "output_type": "execute_result"
    }
   ],
   "source": [
    "europe_data = data[data[\"entity_region\"]==\"Europe\"] #subsetting for Europe region\n",
    "europe_data[\"event\"].value_counts().head(10)"
   ]
  },
  {
   "cell_type": "code",
   "execution_count": 50,
   "metadata": {},
   "outputs": [
    {
     "name": "stdout",
     "output_type": "stream",
     "text": [
      "Top entity sectors for this region: \n"
     ]
    },
    {
     "data": {
      "text/plain": [
       "Technology        94519\n",
       "Industrials       32965\n",
       "Services          23258\n",
       "Consumer Goods    16374\n",
       "Utilities         15651\n",
       "Name: entity_sector, dtype: int64"
      ]
     },
     "execution_count": 50,
     "metadata": {},
     "output_type": "execute_result"
    }
   ],
   "source": [
    "print(\"Top entity sectors for this region: \")\n",
    "europe_data[\"entity_sector\"].value_counts().head()"
   ]
  },
  {
   "cell_type": "markdown",
   "metadata": {},
   "source": [
    "### Asia"
   ]
  },
  {
   "cell_type": "code",
   "execution_count": 51,
   "metadata": {},
   "outputs": [
    {
     "data": {
      "text/plain": [
       "Environment - Energy Management - SASB                       16277\n",
       "Social - Data Security - SASB                                13996\n",
       "Environment - Ecological Impacts - SASB                      10415\n",
       "Governance - Product Design & Lifecycle Management - SASB     6836\n",
       "Environment - GHG Emissions - SASB                            4039\n",
       "Governance - Business Model Resilience - SASB                 3004\n",
       "Social - Labor Practices - SASB                               2440\n",
       "Social - Customer Privacy - SASB                              1201\n",
       "Governance - Physical Impacts of Climate Change - SASB         854\n",
       "Governance - Competitive Behavior - SASB                       849\n",
       "Name: event, dtype: int64"
      ]
     },
     "execution_count": 51,
     "metadata": {},
     "output_type": "execute_result"
    }
   ],
   "source": [
    "asia_data = data[data[\"entity_region\"]==\"Asia\"] #subsetting for Asia region\n",
    "asia_data[\"event\"].value_counts().head(10)"
   ]
  },
  {
   "cell_type": "code",
   "execution_count": 75,
   "metadata": {},
   "outputs": [
    {
     "name": "stdout",
     "output_type": "stream",
     "text": [
      "Top entity sectors for this region: \n"
     ]
    },
    {
     "data": {
      "text/plain": [
       "Consumer Cyclicals        8945\n",
       "Consumer Non Cyclicals      78\n",
       "Technology                   1\n",
       "Name: entity_sector, dtype: int64"
      ]
     },
     "execution_count": 75,
     "metadata": {},
     "output_type": "execute_result"
    }
   ],
   "source": [
    "print(\"Top entity sectors for this region: \")\n",
    "asia_data[\"entity_sector\"].value_counts().head()"
   ]
  },
  {
   "cell_type": "markdown",
   "metadata": {},
   "source": [
    "### Australiasia"
   ]
  },
  {
   "cell_type": "code",
   "execution_count": 52,
   "metadata": {},
   "outputs": [
    {
     "data": {
      "text/plain": [
       "Social - Data Security - SASB              12794\n",
       "Environment - Ecological Impacts - SASB    11171\n",
       "Environment - Air Quality - SASB           10599\n",
       "Environment - Energy Management - SASB     10474\n",
       "Environment - GHG Emissions - SASB          8511\n",
       "Name: event, dtype: int64"
      ]
     },
     "execution_count": 52,
     "metadata": {},
     "output_type": "execute_result"
    }
   ],
   "source": [
    "australiasia_data = data[data[\"entity_region\"]==\"Australiasia\"] #subsetting for Australasia region\n",
    "australiasia_data[\"event\"].value_counts().head()"
   ]
  },
  {
   "cell_type": "code",
   "execution_count": 53,
   "metadata": {},
   "outputs": [
    {
     "name": "stdout",
     "output_type": "stream",
     "text": [
      "Top entity sectors for this region: \n"
     ]
    },
    {
     "data": {
      "text/plain": [
       "Financials                1492\n",
       "Communication Services    1189\n",
       "Financial services        1153\n",
       "Technology                 487\n",
       "Consumer Cyclicals         404\n",
       "Name: entity_sector, dtype: int64"
      ]
     },
     "execution_count": 53,
     "metadata": {},
     "output_type": "execute_result"
    }
   ],
   "source": [
    "print(\"Top entity sectors for this region: \")\n",
    "australiasia_data[\"entity_sector\"].value_counts().head()"
   ]
  },
  {
   "cell_type": "code",
   "execution_count": 58,
   "metadata": {},
   "outputs": [
    {
     "data": {
      "text/plain": [
       "Social - Data Security - SASB              12794\n",
       "Environment - Ecological Impacts - SASB    11171\n",
       "Environment - Air Quality - SASB           10599\n",
       "Environment - Energy Management - SASB     10474\n",
       "Environment - GHG Emissions - SASB          8511\n",
       "Name: event, dtype: int64"
      ]
     },
     "execution_count": 58,
     "metadata": {},
     "output_type": "execute_result"
    }
   ],
   "source": [
    "australiasia_data = data[data[\"entity_region\"]==\"Australiasia\"] #subsetting for Australasia region\n",
    "australiasia_data[\"event\"].value_counts().head()"
   ]
  },
  {
   "cell_type": "code",
   "execution_count": 64,
   "metadata": {},
   "outputs": [
    {
     "data": {
      "text/html": [
       "<div>\n",
       "<style scoped>\n",
       "    .dataframe tbody tr th:only-of-type {\n",
       "        vertical-align: middle;\n",
       "    }\n",
       "\n",
       "    .dataframe tbody tr th {\n",
       "        vertical-align: top;\n",
       "    }\n",
       "\n",
       "    .dataframe thead th {\n",
       "        text-align: right;\n",
       "    }\n",
       "</style>\n",
       "<table border=\"1\" class=\"dataframe\">\n",
       "  <thead>\n",
       "    <tr style=\"text-align: right;\">\n",
       "      <th></th>\n",
       "      <th>entity_sector</th>\n",
       "      <th>Percentage of total</th>\n",
       "    </tr>\n",
       "  </thead>\n",
       "  <tbody>\n",
       "    <tr>\n",
       "      <th>0</th>\n",
       "      <td>Technology</td>\n",
       "      <td>35.46</td>\n",
       "    </tr>\n",
       "    <tr>\n",
       "      <th>1</th>\n",
       "      <td>Industrials</td>\n",
       "      <td>12.81</td>\n",
       "    </tr>\n",
       "    <tr>\n",
       "      <th>2</th>\n",
       "      <td>Services</td>\n",
       "      <td>7.85</td>\n",
       "    </tr>\n",
       "    <tr>\n",
       "      <th>3</th>\n",
       "      <td>Consumer Cyclicals</td>\n",
       "      <td>7.45</td>\n",
       "    </tr>\n",
       "    <tr>\n",
       "      <th>4</th>\n",
       "      <td>Basic Materials</td>\n",
       "      <td>6.64</td>\n",
       "    </tr>\n",
       "  </tbody>\n",
       "</table>\n",
       "</div>"
      ],
      "text/plain": [
       "        entity_sector  Percentage of total\n",
       "0          Technology                35.46\n",
       "1         Industrials                12.81\n",
       "2            Services                 7.85\n",
       "3  Consumer Cyclicals                 7.45\n",
       "4     Basic Materials                 6.64"
      ]
     },
     "execution_count": 64,
     "metadata": {},
     "output_type": "execute_result"
    }
   ],
   "source": [
    "temp = data[\"entity_sector\"].value_counts()\n",
    "data[\"entity_sector\"].value_counts()\n",
    "\n",
    "temp['Percentage of total'] = ((data[\"entity_sector\"].value_counts() /data[\"entity_sector\"].value_counts().sum()) * 100).round(2)\n",
    "temp = pd.DataFrame(temp['Percentage of total']).reset_index()\n",
    "temp.rename(columns={'index':'entity_sector','entity_sector':'Percentage of total'}, inplace=True)\n",
    "temp.head(5)"
   ]
  },
  {
   "cell_type": "code",
   "execution_count": 62,
   "metadata": {},
   "outputs": [
    {
     "data": {
      "text/html": [
       "<div>\n",
       "<style scoped>\n",
       "    .dataframe tbody tr th:only-of-type {\n",
       "        vertical-align: middle;\n",
       "    }\n",
       "\n",
       "    .dataframe tbody tr th {\n",
       "        vertical-align: top;\n",
       "    }\n",
       "\n",
       "    .dataframe thead th {\n",
       "        text-align: right;\n",
       "    }\n",
       "</style>\n",
       "<table border=\"1\" class=\"dataframe\">\n",
       "  <thead>\n",
       "    <tr style=\"text-align: right;\">\n",
       "      <th></th>\n",
       "      <th>entity_name</th>\n",
       "      <th>Percentage of total</th>\n",
       "    </tr>\n",
       "  </thead>\n",
       "  <tbody>\n",
       "    <tr>\n",
       "      <th>0</th>\n",
       "      <td>Alphabet Inc</td>\n",
       "      <td>6.29</td>\n",
       "    </tr>\n",
       "    <tr>\n",
       "      <th>1</th>\n",
       "      <td>Apple Inc</td>\n",
       "      <td>3.42</td>\n",
       "    </tr>\n",
       "    <tr>\n",
       "      <th>2</th>\n",
       "      <td>Amazon.com Inc</td>\n",
       "      <td>3.33</td>\n",
       "    </tr>\n",
       "    <tr>\n",
       "      <th>3</th>\n",
       "      <td>EPHRAIM RESOURCES LTD</td>\n",
       "      <td>2.04</td>\n",
       "    </tr>\n",
       "    <tr>\n",
       "      <th>4</th>\n",
       "      <td>Intel Corporation</td>\n",
       "      <td>1.39</td>\n",
       "    </tr>\n",
       "    <tr>\n",
       "      <th>5</th>\n",
       "      <td>ENCORE ENERGY CORP</td>\n",
       "      <td>1.35</td>\n",
       "    </tr>\n",
       "    <tr>\n",
       "      <th>6</th>\n",
       "      <td>BP PLC</td>\n",
       "      <td>1.27</td>\n",
       "    </tr>\n",
       "    <tr>\n",
       "      <th>7</th>\n",
       "      <td>INTL BUSINESS MACHINES CORP</td>\n",
       "      <td>0.98</td>\n",
       "    </tr>\n",
       "    <tr>\n",
       "      <th>8</th>\n",
       "      <td>Ford Motor Company</td>\n",
       "      <td>0.90</td>\n",
       "    </tr>\n",
       "    <tr>\n",
       "      <th>9</th>\n",
       "      <td>Philip Morris International Inc</td>\n",
       "      <td>0.87</td>\n",
       "    </tr>\n",
       "  </tbody>\n",
       "</table>\n",
       "</div>"
      ],
      "text/plain": [
       "                       entity_name  Percentage of total\n",
       "0                     Alphabet Inc                 6.29\n",
       "1                        Apple Inc                 3.42\n",
       "2                   Amazon.com Inc                 3.33\n",
       "3            EPHRAIM RESOURCES LTD                 2.04\n",
       "4                Intel Corporation                 1.39\n",
       "5               ENCORE ENERGY CORP                 1.35\n",
       "6                           BP PLC                 1.27\n",
       "7      INTL BUSINESS MACHINES CORP                 0.98\n",
       "8               Ford Motor Company                 0.90\n",
       "9  Philip Morris International Inc                 0.87"
      ]
     },
     "execution_count": 62,
     "metadata": {},
     "output_type": "execute_result"
    }
   ],
   "source": [
    "temp = data[\"entity_name\"].value_counts()\n",
    "data[\"entity_name\"].value_counts()\n",
    "\n",
    "temp['Percentage of total'] = ((data[\"entity_name\"].value_counts() /data[\"entity_name\"].value_counts().sum()) * 100).round(2)\n",
    "temp = pd.DataFrame(temp['Percentage of total']).reset_index()\n",
    "temp.rename(columns={'index':'entity_name','entity_name':'Percentage of total'}, inplace=True)\n",
    "temp[0:10]"
   ]
  },
  {
   "cell_type": "code",
   "execution_count": 67,
   "metadata": {},
   "outputs": [
    {
     "data": {
      "text/plain": [
       "Social - Data Security - SASB                                130313\n",
       "Environment - Energy Management - SASB                       106439\n",
       "Environment - Ecological Impacts - SASB                       71688\n",
       "Environment - GHG Emissions - SASB                            57528\n",
       "Governance - Product Design & Lifecycle Management - SASB     45921\n",
       "Name: event, dtype: int64"
      ]
     },
     "execution_count": 67,
     "metadata": {},
     "output_type": "execute_result"
    }
   ],
   "source": [
    "data[\"event\"].value_counts().head()"
   ]
  },
  {
   "cell_type": "code",
   "execution_count": 70,
   "metadata": {},
   "outputs": [
    {
     "data": {
      "text/plain": [
       "[\"cybersecurity\"]     16012\n",
       "[\"encryption\"]        12004\n",
       "[\"malware\"]           10206\n",
       "[\"cyber security\"]     6279\n",
       "[\"phishing\"]           4191\n",
       "Name: event_hits, dtype: int64"
      ]
     },
     "execution_count": 70,
     "metadata": {},
     "output_type": "execute_result"
    }
   ],
   "source": [
    "ds = data[data[\"event\"]==\"Social - Data Security - SASB\"]\n",
    "ds[\"event_hits\"].value_counts().head()"
   ]
  },
  {
   "cell_type": "code",
   "execution_count": 72,
   "metadata": {},
   "outputs": [
    {
     "data": {
      "text/plain": [
       "[\"electric vehicles\"]    30980\n",
       "[\"renewable energy\"]     27439\n",
       "[\"energy efficient\"]      5157\n",
       "[\"energy efficiency\"]     4108\n",
       "[\"energy star\"]           2232\n",
       "Name: event_hits, dtype: int64"
      ]
     },
     "execution_count": 72,
     "metadata": {},
     "output_type": "execute_result"
    }
   ],
   "source": [
    "ds = data[data[\"event\"]==\"Environment - Energy Management - SASB\"]\n",
    "ds[\"event_hits\"].value_counts().head()"
   ]
  },
  {
   "cell_type": "code",
   "execution_count": 73,
   "metadata": {},
   "outputs": [
    {
     "data": {
      "text/plain": [
       "[\"eco friendly\"]     10234\n",
       "[\"clean energy\"]      9855\n",
       "[\"safe\", \"water\"]     4863\n",
       "[\"erosion\"]           4304\n",
       "[\"solar power\"]       4135\n",
       "Name: event_hits, dtype: int64"
      ]
     },
     "execution_count": 73,
     "metadata": {},
     "output_type": "execute_result"
    }
   ],
   "source": [
    "ds = data[data[\"event\"]==\"Environment - Ecological Impacts - SASB\"]\n",
    "ds[\"event_hits\"].value_counts().head()"
   ]
  },
  {
   "cell_type": "code",
   "execution_count": 74,
   "metadata": {},
   "outputs": [
    {
     "data": {
      "text/plain": [
       "[\"carbon footprint\"]    4632\n",
       "[\"carbon neutral\"]      4215\n",
       "[\"zero emissions\"]      3880\n",
       "[\"carbon dioxide\"]      3126\n",
       "[\"global warming\"]      2597\n",
       "Name: event_hits, dtype: int64"
      ]
     },
     "execution_count": 74,
     "metadata": {},
     "output_type": "execute_result"
    }
   ],
   "source": [
    "ds = data[data[\"event\"]==\"Environment - GHG Emissions - SASB\"]\n",
    "ds[\"event_hits\"].value_counts().head()"
   ]
  },
  {
   "cell_type": "code",
   "execution_count": 75,
   "metadata": {},
   "outputs": [
    {
     "data": {
      "text/plain": [
       "[\"intellectual property\"]    24970\n",
       "[\"zero emissions\"]            6710\n",
       "[\"recyclable\"]                4762\n",
       "[\"energy star\"]               2757\n",
       "[\"industrial design\"]         1583\n",
       "Name: event_hits, dtype: int64"
      ]
     },
     "execution_count": 75,
     "metadata": {},
     "output_type": "execute_result"
    }
   ],
   "source": [
    "ds = data[data[\"event\"]==\"Governance - Product Design & Lifecycle Management - SASB\"]\n",
    "ds[\"event_hits\"].value_counts().head()"
   ]
  }
 ],
 "metadata": {
  "kernelspec": {
   "display_name": "Python 3",
   "language": "python",
   "name": "python3"
  },
  "language_info": {
   "codemirror_mode": {
    "name": "ipython",
    "version": 3
   },
   "file_extension": ".py",
   "mimetype": "text/x-python",
   "name": "python",
   "nbconvert_exporter": "python",
   "pygments_lexer": "ipython3",
   "version": "3.7.3"
  }
 },
 "nbformat": 4,
 "nbformat_minor": 4
}
